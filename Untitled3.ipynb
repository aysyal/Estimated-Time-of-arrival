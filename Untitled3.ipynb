{
 "cells": [
  {
   "cell_type": "code",
   "execution_count": 392,
   "metadata": {},
   "outputs": [
    {
     "data": {
      "text/html": [
       "<script>requirejs.config({paths: { 'plotly': ['https://cdn.plot.ly/plotly-latest.min']},});if(!window.Plotly) {{require(['plotly'],function(plotly) {window.Plotly=plotly;});}}</script>"
      ],
      "text/vnd.plotly.v1+html": [
       "<script>requirejs.config({paths: { 'plotly': ['https://cdn.plot.ly/plotly-latest.min']},});if(!window.Plotly) {{require(['plotly'],function(plotly) {window.Plotly=plotly;});}}</script>"
      ]
     },
     "metadata": {},
     "output_type": "display_data"
    }
   ],
   "source": [
    "import sqlite3\n",
    "import numpy as np\n",
    "import mysql.connector\n",
    "import pandas as pd\n",
    "import getpass\n",
    "import seaborn as sns\n",
    "import matplotlib.pyplot as plt\n",
    "import plotly\n",
    "plotly.tools.set_credentials_file(username='mainakchain', api_key='B9m4DVrYYmsoW3jDSiok')\n",
    "import plotly.plotly as py\n",
    "import plotly.graph_objs as go\n",
    "from plotly import __version__\n",
    "from plotly.offline import download_plotlyjs, init_notebook_mode, plot, iplot\n",
    "import cufflinks as cf\n",
    "init_notebook_mode(connected=True)\n",
    "import plotly.figure_factory as ff\n",
    "from scipy import stats\n",
    "from sklearn.utils import shuffle\n",
    "from sklearn.neural_network import MLPRegressor\n",
    "from sklearn.neural_network import MLPClassifier\n",
    "from sklearn.preprocessing import LabelEncoder\n",
    "from sklearn.preprocessing import StandardScaler\n",
    "from sklearn.model_selection import train_test_split\n",
    "from datetime import timedelta\n",
    "from sklearn.ensemble import RandomForestRegressor\n",
    "import datetime\n",
    "import holidays"
   ]
  },
  {
   "cell_type": "code",
   "execution_count": 165,
   "metadata": {},
   "outputs": [],
   "source": [
    "toll_time = pd.read_csv('toll_time.csv')"
   ]
  },
  {
   "cell_type": "code",
   "execution_count": 104,
   "metadata": {},
   "outputs": [
    {
     "name": "stderr",
     "output_type": "stream",
     "text": [
      "/usr/local/lib/python2.7/dist-packages/ipykernel_launcher.py:1: UserWarning:\n",
      "\n",
      "Boolean Series key will be reindexed to match DataFrame index.\n",
      "\n"
     ]
    }
   ],
   "source": [
    "new_toll_time = toll_time[toll_time['origin'] == 'Jamshedpur'][toll_time['destination'] == 'HOSUR']"
   ]
  },
  {
   "cell_type": "code",
   "execution_count": 105,
   "metadata": {},
   "outputs": [],
   "source": [
    "today_date = datetime.datetime.now()"
   ]
  },
  {
   "cell_type": "code",
   "execution_count": 106,
   "metadata": {},
   "outputs": [
    {
     "data": {
      "text/plain": [
       "datetime.datetime(2017, 12, 9, 12, 4, 51, 398252)"
      ]
     },
     "execution_count": 106,
     "metadata": {},
     "output_type": "execute_result"
    }
   ],
   "source": [
    "today_date"
   ]
  },
  {
   "cell_type": "code",
   "execution_count": 107,
   "metadata": {},
   "outputs": [
    {
     "data": {
      "text/plain": [
       "9"
      ]
     },
     "execution_count": 107,
     "metadata": {},
     "output_type": "execute_result"
    }
   ],
   "source": [
    "today_date.day"
   ]
  },
  {
   "cell_type": "code",
   "execution_count": 108,
   "metadata": {},
   "outputs": [
    {
     "data": {
      "text/plain": [
       "'2017-12-09 12:04:51'"
      ]
     },
     "execution_count": 108,
     "metadata": {},
     "output_type": "execute_result"
    }
   ],
   "source": [
    "today_date.strftime(\"%Y-%m-%d %H:%M:%S\")"
   ]
  },
  {
   "cell_type": "code",
   "execution_count": 109,
   "metadata": {},
   "outputs": [],
   "source": [
    "today = today_date.strftime(\"%Y-%m-%d %H:%M:%S\")"
   ]
  },
  {
   "cell_type": "code",
   "execution_count": 110,
   "metadata": {},
   "outputs": [],
   "source": [
    "new_toll_time['today'] = datetime.datetime.strptime(today, '%Y-%m-%d %H:%M:%S')"
   ]
  },
  {
   "cell_type": "code",
   "execution_count": 171,
   "metadata": {},
   "outputs": [
    {
     "data": {
      "text/plain": [
       "Unnamed: 0                     int64\n",
       "origin                        object\n",
       "destination                   object\n",
       "toll_both                     object\n",
       "vehicle_no                    object\n",
       "loading_out_time              object\n",
       "odometer_km                  float64\n",
       "ist_timestamp         datetime64[ns]\n",
       "distance_from_toll           float64\n",
       "loading_in_time               object\n",
       "start_date            datetime64[ns]\n",
       "eta                           object\n",
       "unloading_in_time             object\n",
       "slug                          object\n",
       "delivery_status               object\n",
       "distance_travelled           float64\n",
       "late_by_hrs                  float64\n",
       "time_taken                   float64\n",
       "today                 datetime64[ns]\n",
       "days_from_now                  int64\n",
       "days_from_ist                  int64\n",
       "dtype: object"
      ]
     },
     "execution_count": 171,
     "metadata": {},
     "output_type": "execute_result"
    }
   ],
   "source": [
    "new_toll_time.dtypes"
   ]
  },
  {
   "cell_type": "code",
   "execution_count": 112,
   "metadata": {},
   "outputs": [],
   "source": [
    "new_toll_time['start_date'] = new_toll_time['start_date'].apply(lambda x:datetime.datetime.strptime(x, '%Y-%m-%d %H:%M:%S') )\n",
    "new_toll_time['days_from_now'] = new_toll_time['today'] - new_toll_time['start_date'] \n",
    "new_toll_time['days_from_now'] = new_toll_time['days_from_now'].apply(lambda x: x.days)"
   ]
  },
  {
   "cell_type": "code",
   "execution_count": 113,
   "metadata": {},
   "outputs": [],
   "source": [
    "new_toll_time['ist_timestamp'] = new_toll_time['ist_timestamp'].apply(lambda x:datetime.datetime.strptime(x, '%Y-%m-%d %H:%M:%S'))\n",
    "new_toll_time['days_from_ist'] = new_toll_time['today'] - new_toll_time['ist_timestamp']\n",
    "new_toll_time['days_from_ist'] = new_toll_time['days_from_ist'].apply(lambda x: x.days)"
   ]
  },
  {
   "cell_type": "code",
   "execution_count": 180,
   "metadata": {
    "scrolled": false
   },
   "outputs": [
    {
     "data": {
      "text/plain": [
       "Unnamed: 0                     int64\n",
       "origin                        object\n",
       "destination                   object\n",
       "toll_both                     object\n",
       "vehicle_no                    object\n",
       "loading_out_time              object\n",
       "odometer_km                  float64\n",
       "ist_timestamp         datetime64[ns]\n",
       "distance_from_toll           float64\n",
       "loading_in_time               object\n",
       "start_date            datetime64[ns]\n",
       "eta                           object\n",
       "unloading_in_time     datetime64[ns]\n",
       "slug                          object\n",
       "delivery_status               object\n",
       "distance_travelled           float64\n",
       "late_by_hrs                  float64\n",
       "time_taken                   float64\n",
       "today                 datetime64[ns]\n",
       "days_from_now                  int64\n",
       "days_from_ist                  int64\n",
       "avg_travel_time       datetime64[ns]\n",
       "dtype: object"
      ]
     },
     "execution_count": 180,
     "metadata": {},
     "output_type": "execute_result"
    }
   ],
   "source": [
    "new_toll_time.dtypes"
   ]
  },
  {
   "cell_type": "code",
   "execution_count": 179,
   "metadata": {},
   "outputs": [],
   "source": [
    "new_toll_time['unloading_in_time'] = new_toll_time['unloading_in_time'].apply(lambda x:datetime.datetime.strptime(x, '%Y-%m-%d %H:%M:%S') )\n",
    "new_toll_time['avg_travel_time'] = new_toll_time['start_date'] + (new_toll_time['unloading_in_time'] - new_toll_time['start_date'])/2"
   ]
  },
  {
   "cell_type": "code",
   "execution_count": 183,
   "metadata": {},
   "outputs": [],
   "source": [
    "new_toll_time['month_of_travel'] = new_toll_time['avg_travel_time'].apply(lambda x: x.month)"
   ]
  },
  {
   "cell_type": "code",
   "execution_count": 185,
   "metadata": {
    "scrolled": true
   },
   "outputs": [
    {
     "data": {
      "text/plain": [
       "11    824\n",
       "12    166\n",
       "Name: month_of_travel, dtype: int64"
      ]
     },
     "execution_count": 185,
     "metadata": {},
     "output_type": "execute_result"
    }
   ],
   "source": [
    "new_toll_time['month_of_travel'].value_counts()"
   ]
  },
  {
   "cell_type": "code",
   "execution_count": null,
   "metadata": {},
   "outputs": [],
   "source": [
    "#time of travel (morning.....)"
   ]
  },
  {
   "cell_type": "code",
   "execution_count": 210,
   "metadata": {},
   "outputs": [],
   "source": [
    "new_toll_time['time_of_travel'] = new_toll_time.ist_timestamp.apply(lambda x: x.hour)"
   ]
  },
  {
   "cell_type": "code",
   "execution_count": 212,
   "metadata": {},
   "outputs": [],
   "source": [
    "new_toll_time['time_of_travel'] = new_toll_time['time_of_travel'].replace({3:'midnight',4:'midnight',5:'midnight',6:'midnight'})\n",
    "new_toll_time['time_of_travel'] = new_toll_time['time_of_travel'].replace({7:'morning',8:'morning',9:'morning',10:'morning'})\n",
    "new_toll_time['time_of_travel'] = new_toll_time['time_of_travel'].replace({11:'noon',12:'noon',13:'noon',14:'noon'})\n",
    "new_toll_time['time_of_travel'] = new_toll_time['time_of_travel'].replace({15:'afternoon',16:'afternoon',17:'afternoon',18:'afternoon'})\n",
    "new_toll_time['time_of_travel'] = new_toll_time['time_of_travel'].replace({19:'evening',20:'evening',21:'evening',22:'evening'})\n",
    "new_toll_time['time_of_travel'] = new_toll_time['time_of_travel'].replace({23:'night',0:'night',1:'night',2:'night'})\n",
    "\n",
    "new_toll_time['time_of_travel'] = new_toll_time['time_of_travel'].replace({'midnight':1,'morning':2,'noon':3,'afternoon':4,'evening':5,'night':6})"
   ]
  },
  {
   "cell_type": "code",
   "execution_count": 215,
   "metadata": {
    "scrolled": true
   },
   "outputs": [
    {
     "data": {
      "text/plain": [
       "5    211\n",
       "4    200\n",
       "2    153\n",
       "6    150\n",
       "3    141\n",
       "1    135\n",
       "Name: time_of_travel, dtype: int64"
      ]
     },
     "execution_count": 215,
     "metadata": {},
     "output_type": "execute_result"
    }
   ],
   "source": [
    "new_toll_time['time_of_travel'].value_counts()"
   ]
  },
  {
   "cell_type": "code",
   "execution_count": null,
   "metadata": {},
   "outputs": [],
   "source": [
    "#day of travel"
   ]
  },
  {
   "cell_type": "code",
   "execution_count": 224,
   "metadata": {},
   "outputs": [],
   "source": [
    "new_toll_time['day_of_travel'] = new_toll_time['avg_travel_time'].apply(lambda x: x.weekday())"
   ]
  },
  {
   "cell_type": "code",
   "execution_count": null,
   "metadata": {},
   "outputs": [],
   "source": [
    "#season of travel"
   ]
  },
  {
   "cell_type": "code",
   "execution_count": 225,
   "metadata": {},
   "outputs": [],
   "source": [
    "new_toll_time['season_of_travel'] = new_toll_time['month_of_travel'].replace({12:'Winter',1:'Winter',2:'Winter'})\n",
    "new_toll_time['season_of_travel'] = new_toll_time['season_of_travel'].replace({3:'Summer',4:'Summer',5:'Summer'})\n",
    "new_toll_time['season_of_travel'] = new_toll_time['season_of_travel'].replace({6:'Rainy',7:'Rainy',8:'Rainy',9:'Rainy'})\n",
    "new_toll_time['season_of_travel'] = new_toll_time['season_of_travel'].replace({10:'Autumn',11:'Autumn'})\n",
    "\n",
    "new_toll_time['season_of_travel'] = new_toll_time['season_of_travel'].replace({'Winter':1,'Summer':2,'Rainy':3,'Autumn':4})"
   ]
  },
  {
   "cell_type": "code",
   "execution_count": null,
   "metadata": {},
   "outputs": [],
   "source": [
    "#festive holidays and seasons"
   ]
  },
  {
   "cell_type": "code",
   "execution_count": 343,
   "metadata": {},
   "outputs": [],
   "source": [
    "holidays_df = pd.read_csv('indian_holidays.csv')"
   ]
  },
  {
   "cell_type": "code",
   "execution_count": 347,
   "metadata": {},
   "outputs": [],
   "source": [
    "holidays_list = holidays_df.date_format.tolist()"
   ]
  },
  {
   "cell_type": "code",
   "execution_count": 351,
   "metadata": {
    "scrolled": true
   },
   "outputs": [],
   "source": [
    "new_toll_time['new_ist_timestamp'] = new_toll_time['ist_timestamp'].apply(lambda x:str(x.year)+'-'+str(x.month)+'-'+str(x.day) )"
   ]
  },
  {
   "cell_type": "code",
   "execution_count": 353,
   "metadata": {},
   "outputs": [],
   "source": [
    "new_toll_time['holidays'] = new_toll_time['new_ist_timestamp']"
   ]
  },
  {
   "cell_type": "code",
   "execution_count": 358,
   "metadata": {},
   "outputs": [],
   "source": [
    "def check_holiday(x):\n",
    "    for t in holidays_list:\n",
    "        if t == x:\n",
    "            return 1\n",
    "        else:\n",
    "            return 0"
   ]
  },
  {
   "cell_type": "code",
   "execution_count": 359,
   "metadata": {},
   "outputs": [],
   "source": [
    "new_toll_time['holidays'] = new_toll_time['holidays'].apply(lambda x:check_holiday(x))"
   ]
  },
  {
   "cell_type": "code",
   "execution_count": 361,
   "metadata": {
    "scrolled": true
   },
   "outputs": [
    {
     "data": {
      "text/plain": [
       "0    990\n",
       "Name: holidays, dtype: int64"
      ]
     },
     "execution_count": 361,
     "metadata": {},
     "output_type": "execute_result"
    }
   ],
   "source": [
    "new_toll_time['holidays'].value_counts()"
   ]
  },
  {
   "cell_type": "code",
   "execution_count": 366,
   "metadata": {},
   "outputs": [
    {
     "data": {
      "text/plain": [
       "['Unnamed: 0',\n",
       " 'origin',\n",
       " 'destination',\n",
       " 'toll_both',\n",
       " 'vehicle_no',\n",
       " 'loading_out_time',\n",
       " 'odometer_km',\n",
       " 'ist_timestamp',\n",
       " 'distance_from_toll',\n",
       " 'loading_in_time',\n",
       " 'start_date',\n",
       " 'eta',\n",
       " 'unloading_in_time',\n",
       " 'slug',\n",
       " 'delivery_status',\n",
       " 'distance_travelled',\n",
       " 'late_by_hrs',\n",
       " 'time_taken',\n",
       " 'today',\n",
       " 'days_from_now',\n",
       " 'days_from_ist',\n",
       " 'avg_travel_time',\n",
       " 'month_of_travel',\n",
       " 'time_of_travel',\n",
       " 'day_of_travel',\n",
       " 'season_of_travel',\n",
       " 'holidays',\n",
       " 'new_ist_timestamp']"
      ]
     },
     "execution_count": 366,
     "metadata": {},
     "output_type": "execute_result"
    }
   ],
   "source": [
    "new_toll_time.columns.tolist()"
   ]
  },
  {
   "cell_type": "code",
   "execution_count": 367,
   "metadata": {},
   "outputs": [],
   "source": [
    "work_df = new_toll_time[['toll_both','vehicle_no','loading_out_time','loading_in_time','slug','distance_travelled','late_by_hrs','days_from_now','days_from_ist','time_of_travel','day_of_travel','month_of_travel','season_of_travel','holidays','delivery_status','time_taken']]"
   ]
  },
  {
   "cell_type": "code",
   "execution_count": 368,
   "metadata": {},
   "outputs": [
    {
     "data": {
      "text/plain": [
       "(990, 16)"
      ]
     },
     "execution_count": 368,
     "metadata": {},
     "output_type": "execute_result"
    }
   ],
   "source": [
    "work_df.shape"
   ]
  },
  {
   "cell_type": "code",
   "execution_count": 369,
   "metadata": {},
   "outputs": [],
   "source": [
    "work_df.late_by_hrs = work_df.late_by_hrs.round()"
   ]
  },
  {
   "cell_type": "code",
   "execution_count": 150,
   "metadata": {},
   "outputs": [],
   "source": [
    "# max late 182.23333333299999 hrs WB23C9411 \n",
    "# 2nd max late 81.59166667 hrs AP26TB0388\n",
    "# mid late 3.0 hrs AP07TB1989\n",
    "# quite early 63 hrs OD04D5891\n",
    "# 2nd early -178.0 hrs JH05V5242\n",
    "# max early -201.0 hrs TN30BC5699"
   ]
  },
  {
   "cell_type": "code",
   "execution_count": 370,
   "metadata": {},
   "outputs": [],
   "source": [
    "train_df = work_df[work_df['vehicle_no'].isin(['WB23C9411','AP26TB0388','AP07TB1989','JH05V5242','TN30BC5699','OD04D5891']) == False]"
   ]
  },
  {
   "cell_type": "code",
   "execution_count": 371,
   "metadata": {},
   "outputs": [],
   "source": [
    "test_df = work_df[work_df['vehicle_no'].isin(['WB23C9411','AP26TB0388','AP07TB1989','JH05V5242','TN30BC5699','OD04D5891'])]"
   ]
  },
  {
   "cell_type": "code",
   "execution_count": 372,
   "metadata": {},
   "outputs": [
    {
     "data": {
      "text/plain": [
       "((880, 16), (110, 16))"
      ]
     },
     "execution_count": 372,
     "metadata": {},
     "output_type": "execute_result"
    }
   ],
   "source": [
    "train_df.shape, test_df.shape"
   ]
  },
  {
   "cell_type": "code",
   "execution_count": 373,
   "metadata": {},
   "outputs": [
    {
     "data": {
      "text/plain": [
       "['toll_both',\n",
       " 'vehicle_no',\n",
       " 'loading_out_time',\n",
       " 'loading_in_time',\n",
       " 'slug',\n",
       " 'distance_travelled',\n",
       " 'late_by_hrs',\n",
       " 'days_from_now',\n",
       " 'days_from_ist',\n",
       " 'time_of_travel',\n",
       " 'day_of_travel',\n",
       " 'month_of_travel',\n",
       " 'season_of_travel',\n",
       " 'holidays',\n",
       " 'delivery_status',\n",
       " 'time_taken']"
      ]
     },
     "execution_count": 373,
     "metadata": {},
     "output_type": "execute_result"
    }
   ],
   "source": [
    "train_df.columns.tolist()"
   ]
  },
  {
   "cell_type": "code",
   "execution_count": null,
   "metadata": {},
   "outputs": [],
   "source": []
  },
  {
   "cell_type": "code",
   "execution_count": 376,
   "metadata": {},
   "outputs": [],
   "source": [
    "def change_vehicle_no_to_dummy(df):\n",
    "    num = 1\n",
    "    dict_vehicle_no = {}\n",
    "    for truck in df['vehicle_no'].unique().tolist():\n",
    "        df['vehicle_no'] = df['vehicle_no'].replace({truck: num})\n",
    "        dict_vehicle_no[num] = truck\n",
    "        num += 1"
   ]
  },
  {
   "cell_type": "code",
   "execution_count": 380,
   "metadata": {},
   "outputs": [],
   "source": [
    "def change_toll_booth_to_dummy(df):\n",
    "    num = 1\n",
    "    dict_toll_both = {}\n",
    "    for toll in df['toll_both'].unique().tolist():\n",
    "        df['toll_both'] = df['toll_both'].replace({toll: num})\n",
    "        dict_toll_both[num] = toll\n",
    "        num += 1"
   ]
  },
  {
   "cell_type": "code",
   "execution_count": 385,
   "metadata": {},
   "outputs": [],
   "source": [
    "def change_delivery_status_to_dummy(df):\n",
    "    df['delivery_status'] = df['delivery_status'].replace({'early':1,'on-time':2,'late':3})"
   ]
  },
  {
   "cell_type": "code",
   "execution_count": 941,
   "metadata": {},
   "outputs": [],
   "source": [
    "\n",
    "if set(test_df.vehicle_no.unique().tolist()) < set(train_df.vehicle_no.unique().tolist()):\n",
    "    final_train_df = train_df[['toll_both','vehicle_no','distance_travelled','late_by_hrs','time_of_travel','season_of_travel','holidays','days_from_now','delivery_status','time_taken']]\n",
    "    final_test_df = test_df[['toll_both','vehicle_no','distance_travelled','late_by_hrs','time_of_travel','season_of_travel','holidays','days_from_now','delivery_status','time_taken']]\n",
    "    change_vehicle_no_to_dummy(final_train_df)\n",
    "    change_vehicle_no_to_dummy(final_test_df)\n",
    "    \n",
    "else:\n",
    "    final_train_df = train_df[['toll_both','distance_travelled','late_by_hrs','time_of_travel','season_of_travel','days_from_now','delivery_status','time_taken']]\n",
    "    final_test_df = test_df[['toll_both','distance_travelled','late_by_hrs','time_of_travel','season_of_travel','days_from_now','delivery_status','time_taken']]\n",
    "    "
   ]
  },
  {
   "cell_type": "code",
   "execution_count": 942,
   "metadata": {},
   "outputs": [
    {
     "name": "stderr",
     "output_type": "stream",
     "text": [
      "/usr/local/lib/python2.7/dist-packages/ipykernel_launcher.py:5: SettingWithCopyWarning:\n",
      "\n",
      "\n",
      "A value is trying to be set on a copy of a slice from a DataFrame.\n",
      "Try using .loc[row_indexer,col_indexer] = value instead\n",
      "\n",
      "See the caveats in the documentation: http://pandas.pydata.org/pandas-docs/stable/indexing.html#indexing-view-versus-copy\n",
      "\n"
     ]
    }
   ],
   "source": [
    "change_toll_booth_to_dummy(final_train_df)\n",
    "change_toll_booth_to_dummy(final_test_df)"
   ]
  },
  {
   "cell_type": "code",
   "execution_count": 943,
   "metadata": {},
   "outputs": [
    {
     "name": "stderr",
     "output_type": "stream",
     "text": [
      "/usr/local/lib/python2.7/dist-packages/ipykernel_launcher.py:2: SettingWithCopyWarning:\n",
      "\n",
      "\n",
      "A value is trying to be set on a copy of a slice from a DataFrame.\n",
      "Try using .loc[row_indexer,col_indexer] = value instead\n",
      "\n",
      "See the caveats in the documentation: http://pandas.pydata.org/pandas-docs/stable/indexing.html#indexing-view-versus-copy\n",
      "\n"
     ]
    }
   ],
   "source": [
    "change_delivery_status_to_dummy(final_train_df)\n",
    "change_delivery_status_to_dummy(final_test_df)"
   ]
  },
  {
   "cell_type": "code",
   "execution_count": 881,
   "metadata": {
    "scrolled": true
   },
   "outputs": [
    {
     "data": {
      "text/html": [
       "<div>\n",
       "<style>\n",
       "    .dataframe thead tr:only-child th {\n",
       "        text-align: right;\n",
       "    }\n",
       "\n",
       "    .dataframe thead th {\n",
       "        text-align: left;\n",
       "    }\n",
       "\n",
       "    .dataframe tbody tr th {\n",
       "        vertical-align: top;\n",
       "    }\n",
       "</style>\n",
       "<table border=\"1\" class=\"dataframe\">\n",
       "  <thead>\n",
       "    <tr style=\"text-align: right;\">\n",
       "      <th></th>\n",
       "      <th>toll_both</th>\n",
       "      <th>distance_travelled</th>\n",
       "      <th>late_by_hrs</th>\n",
       "      <th>time_of_travel</th>\n",
       "      <th>season_of_travel</th>\n",
       "      <th>holidays</th>\n",
       "      <th>days_from_now</th>\n",
       "      <th>days_from_ist</th>\n",
       "      <th>delivery_status</th>\n",
       "      <th>time_taken</th>\n",
       "    </tr>\n",
       "  </thead>\n",
       "  <tbody>\n",
       "    <tr>\n",
       "      <th>3904</th>\n",
       "      <td>1</td>\n",
       "      <td>624.41</td>\n",
       "      <td>-18.0</td>\n",
       "      <td>5</td>\n",
       "      <td>4</td>\n",
       "      <td>0</td>\n",
       "      <td>35</td>\n",
       "      <td>28</td>\n",
       "      <td>1</td>\n",
       "      <td>117.954722</td>\n",
       "    </tr>\n",
       "    <tr>\n",
       "      <th>3905</th>\n",
       "      <td>1</td>\n",
       "      <td>627.52</td>\n",
       "      <td>-146.0</td>\n",
       "      <td>6</td>\n",
       "      <td>4</td>\n",
       "      <td>0</td>\n",
       "      <td>35</td>\n",
       "      <td>32</td>\n",
       "      <td>1</td>\n",
       "      <td>50.225833</td>\n",
       "    </tr>\n",
       "    <tr>\n",
       "      <th>3906</th>\n",
       "      <td>2</td>\n",
       "      <td>1610.77</td>\n",
       "      <td>-59.0</td>\n",
       "      <td>5</td>\n",
       "      <td>1</td>\n",
       "      <td>0</td>\n",
       "      <td>9</td>\n",
       "      <td>4</td>\n",
       "      <td>1</td>\n",
       "      <td>93.539722</td>\n",
       "    </tr>\n",
       "    <tr>\n",
       "      <th>3907</th>\n",
       "      <td>2</td>\n",
       "      <td>1641.28</td>\n",
       "      <td>-77.0</td>\n",
       "      <td>6</td>\n",
       "      <td>1</td>\n",
       "      <td>0</td>\n",
       "      <td>10</td>\n",
       "      <td>5</td>\n",
       "      <td>1</td>\n",
       "      <td>90.695556</td>\n",
       "    </tr>\n",
       "    <tr>\n",
       "      <th>3908</th>\n",
       "      <td>2</td>\n",
       "      <td>1620.49</td>\n",
       "      <td>-78.0</td>\n",
       "      <td>6</td>\n",
       "      <td>4</td>\n",
       "      <td>0</td>\n",
       "      <td>14</td>\n",
       "      <td>8</td>\n",
       "      <td>1</td>\n",
       "      <td>91.733889</td>\n",
       "    </tr>\n",
       "    <tr>\n",
       "      <th>3909</th>\n",
       "      <td>2</td>\n",
       "      <td>1611.30</td>\n",
       "      <td>-78.0</td>\n",
       "      <td>5</td>\n",
       "      <td>4</td>\n",
       "      <td>0</td>\n",
       "      <td>14</td>\n",
       "      <td>8</td>\n",
       "      <td>1</td>\n",
       "      <td>91.681111</td>\n",
       "    </tr>\n",
       "    <tr>\n",
       "      <th>3910</th>\n",
       "      <td>2</td>\n",
       "      <td>1615.10</td>\n",
       "      <td>-6.0</td>\n",
       "      <td>6</td>\n",
       "      <td>4</td>\n",
       "      <td>0</td>\n",
       "      <td>14</td>\n",
       "      <td>7</td>\n",
       "      <td>2</td>\n",
       "      <td>121.713056</td>\n",
       "    </tr>\n",
       "    <tr>\n",
       "      <th>3911</th>\n",
       "      <td>2</td>\n",
       "      <td>1625.30</td>\n",
       "      <td>18.0</td>\n",
       "      <td>5</td>\n",
       "      <td>4</td>\n",
       "      <td>0</td>\n",
       "      <td>15</td>\n",
       "      <td>6</td>\n",
       "      <td>3</td>\n",
       "      <td>191.201389</td>\n",
       "    </tr>\n",
       "    <tr>\n",
       "      <th>3912</th>\n",
       "      <td>2</td>\n",
       "      <td>1509.52</td>\n",
       "      <td>-22.0</td>\n",
       "      <td>6</td>\n",
       "      <td>1</td>\n",
       "      <td>0</td>\n",
       "      <td>11</td>\n",
       "      <td>4</td>\n",
       "      <td>1</td>\n",
       "      <td>106.604444</td>\n",
       "    </tr>\n",
       "    <tr>\n",
       "      <th>3913</th>\n",
       "      <td>3</td>\n",
       "      <td>376.19</td>\n",
       "      <td>-154.0</td>\n",
       "      <td>1</td>\n",
       "      <td>4</td>\n",
       "      <td>0</td>\n",
       "      <td>17</td>\n",
       "      <td>15</td>\n",
       "      <td>1</td>\n",
       "      <td>31.972222</td>\n",
       "    </tr>\n",
       "    <tr>\n",
       "      <th>3914</th>\n",
       "      <td>3</td>\n",
       "      <td>375.88</td>\n",
       "      <td>-158.0</td>\n",
       "      <td>6</td>\n",
       "      <td>4</td>\n",
       "      <td>0</td>\n",
       "      <td>37</td>\n",
       "      <td>35</td>\n",
       "      <td>1</td>\n",
       "      <td>23.936944</td>\n",
       "    </tr>\n",
       "    <tr>\n",
       "      <th>3915</th>\n",
       "      <td>3</td>\n",
       "      <td>374.88</td>\n",
       "      <td>2.0</td>\n",
       "      <td>1</td>\n",
       "      <td>4</td>\n",
       "      <td>0</td>\n",
       "      <td>20</td>\n",
       "      <td>15</td>\n",
       "      <td>2</td>\n",
       "      <td>108.903611</td>\n",
       "    </tr>\n",
       "    <tr>\n",
       "      <th>3916</th>\n",
       "      <td>3</td>\n",
       "      <td>375.83</td>\n",
       "      <td>-59.0</td>\n",
       "      <td>1</td>\n",
       "      <td>1</td>\n",
       "      <td>0</td>\n",
       "      <td>9</td>\n",
       "      <td>6</td>\n",
       "      <td>1</td>\n",
       "      <td>53.285000</td>\n",
       "    </tr>\n",
       "    <tr>\n",
       "      <th>3917</th>\n",
       "      <td>3</td>\n",
       "      <td>374.49</td>\n",
       "      <td>-46.0</td>\n",
       "      <td>1</td>\n",
       "      <td>4</td>\n",
       "      <td>0</td>\n",
       "      <td>24</td>\n",
       "      <td>19</td>\n",
       "      <td>1</td>\n",
       "      <td>96.115278</td>\n",
       "    </tr>\n",
       "    <tr>\n",
       "      <th>3918</th>\n",
       "      <td>3</td>\n",
       "      <td>375.67</td>\n",
       "      <td>-105.0</td>\n",
       "      <td>2</td>\n",
       "      <td>1</td>\n",
       "      <td>0</td>\n",
       "      <td>11</td>\n",
       "      <td>7</td>\n",
       "      <td>1</td>\n",
       "      <td>74.775278</td>\n",
       "    </tr>\n",
       "    <tr>\n",
       "      <th>3919</th>\n",
       "      <td>3</td>\n",
       "      <td>375.35</td>\n",
       "      <td>-92.0</td>\n",
       "      <td>4</td>\n",
       "      <td>4</td>\n",
       "      <td>0</td>\n",
       "      <td>16</td>\n",
       "      <td>12</td>\n",
       "      <td>1</td>\n",
       "      <td>36.514722</td>\n",
       "    </tr>\n",
       "    <tr>\n",
       "      <th>3920</th>\n",
       "      <td>3</td>\n",
       "      <td>374.07</td>\n",
       "      <td>-18.0</td>\n",
       "      <td>1</td>\n",
       "      <td>4</td>\n",
       "      <td>0</td>\n",
       "      <td>35</td>\n",
       "      <td>29</td>\n",
       "      <td>1</td>\n",
       "      <td>102.600278</td>\n",
       "    </tr>\n",
       "    <tr>\n",
       "      <th>3921</th>\n",
       "      <td>3</td>\n",
       "      <td>309.55</td>\n",
       "      <td>-149.0</td>\n",
       "      <td>1</td>\n",
       "      <td>1</td>\n",
       "      <td>0</td>\n",
       "      <td>11</td>\n",
       "      <td>8</td>\n",
       "      <td>1</td>\n",
       "      <td>52.959722</td>\n",
       "    </tr>\n",
       "    <tr>\n",
       "      <th>3922</th>\n",
       "      <td>3</td>\n",
       "      <td>374.88</td>\n",
       "      <td>38.0</td>\n",
       "      <td>5</td>\n",
       "      <td>1</td>\n",
       "      <td>0</td>\n",
       "      <td>11</td>\n",
       "      <td>6</td>\n",
       "      <td>3</td>\n",
       "      <td>70.165556</td>\n",
       "    </tr>\n",
       "    <tr>\n",
       "      <th>3923</th>\n",
       "      <td>3</td>\n",
       "      <td>340.90</td>\n",
       "      <td>-54.0</td>\n",
       "      <td>1</td>\n",
       "      <td>4</td>\n",
       "      <td>0</td>\n",
       "      <td>15</td>\n",
       "      <td>11</td>\n",
       "      <td>1</td>\n",
       "      <td>55.426111</td>\n",
       "    </tr>\n",
       "    <tr>\n",
       "      <th>3924</th>\n",
       "      <td>3</td>\n",
       "      <td>317.47</td>\n",
       "      <td>-37.0</td>\n",
       "      <td>6</td>\n",
       "      <td>4</td>\n",
       "      <td>0</td>\n",
       "      <td>27</td>\n",
       "      <td>21</td>\n",
       "      <td>1</td>\n",
       "      <td>74.640278</td>\n",
       "    </tr>\n",
       "    <tr>\n",
       "      <th>3926</th>\n",
       "      <td>3</td>\n",
       "      <td>281.54</td>\n",
       "      <td>-35.0</td>\n",
       "      <td>2</td>\n",
       "      <td>4</td>\n",
       "      <td>0</td>\n",
       "      <td>27</td>\n",
       "      <td>22</td>\n",
       "      <td>1</td>\n",
       "      <td>28.898889</td>\n",
       "    </tr>\n",
       "    <tr>\n",
       "      <th>3927</th>\n",
       "      <td>3</td>\n",
       "      <td>374.83</td>\n",
       "      <td>-131.0</td>\n",
       "      <td>6</td>\n",
       "      <td>4</td>\n",
       "      <td>0</td>\n",
       "      <td>33</td>\n",
       "      <td>28</td>\n",
       "      <td>1</td>\n",
       "      <td>73.006111</td>\n",
       "    </tr>\n",
       "    <tr>\n",
       "      <th>3928</th>\n",
       "      <td>3</td>\n",
       "      <td>375.27</td>\n",
       "      <td>-8.0</td>\n",
       "      <td>6</td>\n",
       "      <td>4</td>\n",
       "      <td>0</td>\n",
       "      <td>22</td>\n",
       "      <td>18</td>\n",
       "      <td>2</td>\n",
       "      <td>73.193611</td>\n",
       "    </tr>\n",
       "    <tr>\n",
       "      <th>3930</th>\n",
       "      <td>3</td>\n",
       "      <td>375.33</td>\n",
       "      <td>-52.0</td>\n",
       "      <td>2</td>\n",
       "      <td>4</td>\n",
       "      <td>0</td>\n",
       "      <td>24</td>\n",
       "      <td>20</td>\n",
       "      <td>1</td>\n",
       "      <td>56.948333</td>\n",
       "    </tr>\n",
       "    <tr>\n",
       "      <th>3931</th>\n",
       "      <td>3</td>\n",
       "      <td>377.35</td>\n",
       "      <td>-36.0</td>\n",
       "      <td>3</td>\n",
       "      <td>4</td>\n",
       "      <td>0</td>\n",
       "      <td>20</td>\n",
       "      <td>14</td>\n",
       "      <td>1</td>\n",
       "      <td>61.943889</td>\n",
       "    </tr>\n",
       "    <tr>\n",
       "      <th>3932</th>\n",
       "      <td>3</td>\n",
       "      <td>375.60</td>\n",
       "      <td>-172.0</td>\n",
       "      <td>2</td>\n",
       "      <td>4</td>\n",
       "      <td>0</td>\n",
       "      <td>34</td>\n",
       "      <td>31</td>\n",
       "      <td>1</td>\n",
       "      <td>71.928611</td>\n",
       "    </tr>\n",
       "    <tr>\n",
       "      <th>3933</th>\n",
       "      <td>3</td>\n",
       "      <td>375.78</td>\n",
       "      <td>-78.0</td>\n",
       "      <td>2</td>\n",
       "      <td>4</td>\n",
       "      <td>0</td>\n",
       "      <td>14</td>\n",
       "      <td>11</td>\n",
       "      <td>1</td>\n",
       "      <td>30.110278</td>\n",
       "    </tr>\n",
       "    <tr>\n",
       "      <th>3934</th>\n",
       "      <td>3</td>\n",
       "      <td>374.29</td>\n",
       "      <td>-157.0</td>\n",
       "      <td>1</td>\n",
       "      <td>1</td>\n",
       "      <td>0</td>\n",
       "      <td>9</td>\n",
       "      <td>6</td>\n",
       "      <td>1</td>\n",
       "      <td>48.120000</td>\n",
       "    </tr>\n",
       "    <tr>\n",
       "      <th>3935</th>\n",
       "      <td>3</td>\n",
       "      <td>375.37</td>\n",
       "      <td>-84.0</td>\n",
       "      <td>2</td>\n",
       "      <td>4</td>\n",
       "      <td>0</td>\n",
       "      <td>23</td>\n",
       "      <td>20</td>\n",
       "      <td>1</td>\n",
       "      <td>56.562778</td>\n",
       "    </tr>\n",
       "    <tr>\n",
       "      <th>...</th>\n",
       "      <td>...</td>\n",
       "      <td>...</td>\n",
       "      <td>...</td>\n",
       "      <td>...</td>\n",
       "      <td>...</td>\n",
       "      <td>...</td>\n",
       "      <td>...</td>\n",
       "      <td>...</td>\n",
       "      <td>...</td>\n",
       "      <td>...</td>\n",
       "    </tr>\n",
       "    <tr>\n",
       "      <th>4860</th>\n",
       "      <td>32</td>\n",
       "      <td>1148.58</td>\n",
       "      <td>-161.0</td>\n",
       "      <td>4</td>\n",
       "      <td>4</td>\n",
       "      <td>0</td>\n",
       "      <td>34</td>\n",
       "      <td>29</td>\n",
       "      <td>1</td>\n",
       "      <td>86.249444</td>\n",
       "    </tr>\n",
       "    <tr>\n",
       "      <th>4861</th>\n",
       "      <td>32</td>\n",
       "      <td>1206.47</td>\n",
       "      <td>-54.0</td>\n",
       "      <td>1</td>\n",
       "      <td>4</td>\n",
       "      <td>0</td>\n",
       "      <td>15</td>\n",
       "      <td>9</td>\n",
       "      <td>1</td>\n",
       "      <td>101.757500</td>\n",
       "    </tr>\n",
       "    <tr>\n",
       "      <th>4862</th>\n",
       "      <td>32</td>\n",
       "      <td>1183.98</td>\n",
       "      <td>-37.0</td>\n",
       "      <td>2</td>\n",
       "      <td>4</td>\n",
       "      <td>0</td>\n",
       "      <td>27</td>\n",
       "      <td>20</td>\n",
       "      <td>1</td>\n",
       "      <td>106.932500</td>\n",
       "    </tr>\n",
       "    <tr>\n",
       "      <th>4864</th>\n",
       "      <td>32</td>\n",
       "      <td>1184.21</td>\n",
       "      <td>-35.0</td>\n",
       "      <td>5</td>\n",
       "      <td>4</td>\n",
       "      <td>0</td>\n",
       "      <td>27</td>\n",
       "      <td>20</td>\n",
       "      <td>1</td>\n",
       "      <td>67.336667</td>\n",
       "    </tr>\n",
       "    <tr>\n",
       "      <th>4865</th>\n",
       "      <td>32</td>\n",
       "      <td>1232.79</td>\n",
       "      <td>-131.0</td>\n",
       "      <td>1</td>\n",
       "      <td>4</td>\n",
       "      <td>0</td>\n",
       "      <td>33</td>\n",
       "      <td>26</td>\n",
       "      <td>1</td>\n",
       "      <td>124.061111</td>\n",
       "    </tr>\n",
       "    <tr>\n",
       "      <th>4866</th>\n",
       "      <td>32</td>\n",
       "      <td>1244.22</td>\n",
       "      <td>-8.0</td>\n",
       "      <td>1</td>\n",
       "      <td>4</td>\n",
       "      <td>0</td>\n",
       "      <td>22</td>\n",
       "      <td>16</td>\n",
       "      <td>2</td>\n",
       "      <td>126.439722</td>\n",
       "    </tr>\n",
       "    <tr>\n",
       "      <th>4868</th>\n",
       "      <td>32</td>\n",
       "      <td>1243.21</td>\n",
       "      <td>-52.0</td>\n",
       "      <td>2</td>\n",
       "      <td>4</td>\n",
       "      <td>0</td>\n",
       "      <td>24</td>\n",
       "      <td>18</td>\n",
       "      <td>1</td>\n",
       "      <td>104.476389</td>\n",
       "    </tr>\n",
       "    <tr>\n",
       "      <th>4869</th>\n",
       "      <td>32</td>\n",
       "      <td>1239.02</td>\n",
       "      <td>-92.0</td>\n",
       "      <td>2</td>\n",
       "      <td>4</td>\n",
       "      <td>0</td>\n",
       "      <td>37</td>\n",
       "      <td>32</td>\n",
       "      <td>1</td>\n",
       "      <td>93.427222</td>\n",
       "    </tr>\n",
       "    <tr>\n",
       "      <th>4870</th>\n",
       "      <td>32</td>\n",
       "      <td>1243.67</td>\n",
       "      <td>-44.0</td>\n",
       "      <td>2</td>\n",
       "      <td>4</td>\n",
       "      <td>0</td>\n",
       "      <td>16</td>\n",
       "      <td>10</td>\n",
       "      <td>1</td>\n",
       "      <td>112.322778</td>\n",
       "    </tr>\n",
       "    <tr>\n",
       "      <th>4871</th>\n",
       "      <td>32</td>\n",
       "      <td>1241.19</td>\n",
       "      <td>-6.0</td>\n",
       "      <td>2</td>\n",
       "      <td>4</td>\n",
       "      <td>0</td>\n",
       "      <td>17</td>\n",
       "      <td>10</td>\n",
       "      <td>2</td>\n",
       "      <td>116.616944</td>\n",
       "    </tr>\n",
       "    <tr>\n",
       "      <th>4872</th>\n",
       "      <td>32</td>\n",
       "      <td>1258.57</td>\n",
       "      <td>-77.0</td>\n",
       "      <td>5</td>\n",
       "      <td>1</td>\n",
       "      <td>0</td>\n",
       "      <td>10</td>\n",
       "      <td>6</td>\n",
       "      <td>1</td>\n",
       "      <td>65.675278</td>\n",
       "    </tr>\n",
       "    <tr>\n",
       "      <th>4873</th>\n",
       "      <td>32</td>\n",
       "      <td>1262.04</td>\n",
       "      <td>-36.0</td>\n",
       "      <td>2</td>\n",
       "      <td>4</td>\n",
       "      <td>0</td>\n",
       "      <td>20</td>\n",
       "      <td>13</td>\n",
       "      <td>1</td>\n",
       "      <td>105.451944</td>\n",
       "    </tr>\n",
       "    <tr>\n",
       "      <th>4874</th>\n",
       "      <td>32</td>\n",
       "      <td>1225.85</td>\n",
       "      <td>-172.0</td>\n",
       "      <td>5</td>\n",
       "      <td>4</td>\n",
       "      <td>0</td>\n",
       "      <td>34</td>\n",
       "      <td>29</td>\n",
       "      <td>1</td>\n",
       "      <td>109.518333</td>\n",
       "    </tr>\n",
       "    <tr>\n",
       "      <th>4875</th>\n",
       "      <td>32</td>\n",
       "      <td>1244.08</td>\n",
       "      <td>-78.0</td>\n",
       "      <td>6</td>\n",
       "      <td>4</td>\n",
       "      <td>0</td>\n",
       "      <td>14</td>\n",
       "      <td>9</td>\n",
       "      <td>1</td>\n",
       "      <td>67.995000</td>\n",
       "    </tr>\n",
       "    <tr>\n",
       "      <th>4876</th>\n",
       "      <td>32</td>\n",
       "      <td>1239.92</td>\n",
       "      <td>-157.0</td>\n",
       "      <td>1</td>\n",
       "      <td>1</td>\n",
       "      <td>0</td>\n",
       "      <td>9</td>\n",
       "      <td>5</td>\n",
       "      <td>1</td>\n",
       "      <td>72.578056</td>\n",
       "    </tr>\n",
       "    <tr>\n",
       "      <th>4877</th>\n",
       "      <td>32</td>\n",
       "      <td>1235.53</td>\n",
       "      <td>-34.0</td>\n",
       "      <td>1</td>\n",
       "      <td>1</td>\n",
       "      <td>0</td>\n",
       "      <td>10</td>\n",
       "      <td>4</td>\n",
       "      <td>1</td>\n",
       "      <td>138.364167</td>\n",
       "    </tr>\n",
       "    <tr>\n",
       "      <th>4878</th>\n",
       "      <td>32</td>\n",
       "      <td>1239.06</td>\n",
       "      <td>-84.0</td>\n",
       "      <td>5</td>\n",
       "      <td>4</td>\n",
       "      <td>0</td>\n",
       "      <td>23</td>\n",
       "      <td>18</td>\n",
       "      <td>1</td>\n",
       "      <td>92.376944</td>\n",
       "    </tr>\n",
       "    <tr>\n",
       "      <th>4879</th>\n",
       "      <td>32</td>\n",
       "      <td>1243.76</td>\n",
       "      <td>-128.0</td>\n",
       "      <td>3</td>\n",
       "      <td>4</td>\n",
       "      <td>0</td>\n",
       "      <td>16</td>\n",
       "      <td>9</td>\n",
       "      <td>1</td>\n",
       "      <td>106.054167</td>\n",
       "    </tr>\n",
       "    <tr>\n",
       "      <th>4880</th>\n",
       "      <td>32</td>\n",
       "      <td>1235.68</td>\n",
       "      <td>55.0</td>\n",
       "      <td>3</td>\n",
       "      <td>4</td>\n",
       "      <td>0</td>\n",
       "      <td>24</td>\n",
       "      <td>17</td>\n",
       "      <td>3</td>\n",
       "      <td>105.322778</td>\n",
       "    </tr>\n",
       "    <tr>\n",
       "      <th>4881</th>\n",
       "      <td>32</td>\n",
       "      <td>1231.91</td>\n",
       "      <td>-14.0</td>\n",
       "      <td>4</td>\n",
       "      <td>4</td>\n",
       "      <td>0</td>\n",
       "      <td>27</td>\n",
       "      <td>18</td>\n",
       "      <td>1</td>\n",
       "      <td>103.493056</td>\n",
       "    </tr>\n",
       "    <tr>\n",
       "      <th>4882</th>\n",
       "      <td>32</td>\n",
       "      <td>1236.13</td>\n",
       "      <td>-78.0</td>\n",
       "      <td>2</td>\n",
       "      <td>4</td>\n",
       "      <td>0</td>\n",
       "      <td>14</td>\n",
       "      <td>9</td>\n",
       "      <td>1</td>\n",
       "      <td>76.960556</td>\n",
       "    </tr>\n",
       "    <tr>\n",
       "      <th>4883</th>\n",
       "      <td>32</td>\n",
       "      <td>1237.24</td>\n",
       "      <td>13.0</td>\n",
       "      <td>2</td>\n",
       "      <td>4</td>\n",
       "      <td>0</td>\n",
       "      <td>16</td>\n",
       "      <td>7</td>\n",
       "      <td>3</td>\n",
       "      <td>159.320833</td>\n",
       "    </tr>\n",
       "    <tr>\n",
       "      <th>4884</th>\n",
       "      <td>32</td>\n",
       "      <td>261.40</td>\n",
       "      <td>-54.0</td>\n",
       "      <td>4</td>\n",
       "      <td>4</td>\n",
       "      <td>0</td>\n",
       "      <td>13</td>\n",
       "      <td>4</td>\n",
       "      <td>1</td>\n",
       "      <td>158.821389</td>\n",
       "    </tr>\n",
       "    <tr>\n",
       "      <th>4885</th>\n",
       "      <td>32</td>\n",
       "      <td>1128.01</td>\n",
       "      <td>-102.0</td>\n",
       "      <td>2</td>\n",
       "      <td>4</td>\n",
       "      <td>0</td>\n",
       "      <td>34</td>\n",
       "      <td>27</td>\n",
       "      <td>1</td>\n",
       "      <td>82.073056</td>\n",
       "    </tr>\n",
       "    <tr>\n",
       "      <th>4886</th>\n",
       "      <td>32</td>\n",
       "      <td>1240.00</td>\n",
       "      <td>-6.0</td>\n",
       "      <td>4</td>\n",
       "      <td>4</td>\n",
       "      <td>0</td>\n",
       "      <td>14</td>\n",
       "      <td>8</td>\n",
       "      <td>2</td>\n",
       "      <td>90.157778</td>\n",
       "    </tr>\n",
       "    <tr>\n",
       "      <th>4887</th>\n",
       "      <td>32</td>\n",
       "      <td>1250.55</td>\n",
       "      <td>63.0</td>\n",
       "      <td>5</td>\n",
       "      <td>4</td>\n",
       "      <td>0</td>\n",
       "      <td>21</td>\n",
       "      <td>11</td>\n",
       "      <td>3</td>\n",
       "      <td>91.514722</td>\n",
       "    </tr>\n",
       "    <tr>\n",
       "      <th>4888</th>\n",
       "      <td>32</td>\n",
       "      <td>1233.81</td>\n",
       "      <td>-54.0</td>\n",
       "      <td>3</td>\n",
       "      <td>4</td>\n",
       "      <td>0</td>\n",
       "      <td>16</td>\n",
       "      <td>9</td>\n",
       "      <td>1</td>\n",
       "      <td>105.121667</td>\n",
       "    </tr>\n",
       "    <tr>\n",
       "      <th>4889</th>\n",
       "      <td>32</td>\n",
       "      <td>1247.97</td>\n",
       "      <td>18.0</td>\n",
       "      <td>4</td>\n",
       "      <td>4</td>\n",
       "      <td>0</td>\n",
       "      <td>15</td>\n",
       "      <td>7</td>\n",
       "      <td>3</td>\n",
       "      <td>160.078889</td>\n",
       "    </tr>\n",
       "    <tr>\n",
       "      <th>4891</th>\n",
       "      <td>32</td>\n",
       "      <td>1234.21</td>\n",
       "      <td>-146.0</td>\n",
       "      <td>5</td>\n",
       "      <td>4</td>\n",
       "      <td>0</td>\n",
       "      <td>35</td>\n",
       "      <td>30</td>\n",
       "      <td>1</td>\n",
       "      <td>94.075556</td>\n",
       "    </tr>\n",
       "    <tr>\n",
       "      <th>4892</th>\n",
       "      <td>32</td>\n",
       "      <td>1165.77</td>\n",
       "      <td>-22.0</td>\n",
       "      <td>2</td>\n",
       "      <td>1</td>\n",
       "      <td>0</td>\n",
       "      <td>11</td>\n",
       "      <td>5</td>\n",
       "      <td>1</td>\n",
       "      <td>90.697222</td>\n",
       "    </tr>\n",
       "  </tbody>\n",
       "</table>\n",
       "<p>880 rows × 10 columns</p>\n",
       "</div>"
      ],
      "text/plain": [
       "      toll_both  distance_travelled  late_by_hrs  time_of_travel  \\\n",
       "3904          1              624.41        -18.0               5   \n",
       "3905          1              627.52       -146.0               6   \n",
       "3906          2             1610.77        -59.0               5   \n",
       "3907          2             1641.28        -77.0               6   \n",
       "3908          2             1620.49        -78.0               6   \n",
       "3909          2             1611.30        -78.0               5   \n",
       "3910          2             1615.10         -6.0               6   \n",
       "3911          2             1625.30         18.0               5   \n",
       "3912          2             1509.52        -22.0               6   \n",
       "3913          3              376.19       -154.0               1   \n",
       "3914          3              375.88       -158.0               6   \n",
       "3915          3              374.88          2.0               1   \n",
       "3916          3              375.83        -59.0               1   \n",
       "3917          3              374.49        -46.0               1   \n",
       "3918          3              375.67       -105.0               2   \n",
       "3919          3              375.35        -92.0               4   \n",
       "3920          3              374.07        -18.0               1   \n",
       "3921          3              309.55       -149.0               1   \n",
       "3922          3              374.88         38.0               5   \n",
       "3923          3              340.90        -54.0               1   \n",
       "3924          3              317.47        -37.0               6   \n",
       "3926          3              281.54        -35.0               2   \n",
       "3927          3              374.83       -131.0               6   \n",
       "3928          3              375.27         -8.0               6   \n",
       "3930          3              375.33        -52.0               2   \n",
       "3931          3              377.35        -36.0               3   \n",
       "3932          3              375.60       -172.0               2   \n",
       "3933          3              375.78        -78.0               2   \n",
       "3934          3              374.29       -157.0               1   \n",
       "3935          3              375.37        -84.0               2   \n",
       "...         ...                 ...          ...             ...   \n",
       "4860         32             1148.58       -161.0               4   \n",
       "4861         32             1206.47        -54.0               1   \n",
       "4862         32             1183.98        -37.0               2   \n",
       "4864         32             1184.21        -35.0               5   \n",
       "4865         32             1232.79       -131.0               1   \n",
       "4866         32             1244.22         -8.0               1   \n",
       "4868         32             1243.21        -52.0               2   \n",
       "4869         32             1239.02        -92.0               2   \n",
       "4870         32             1243.67        -44.0               2   \n",
       "4871         32             1241.19         -6.0               2   \n",
       "4872         32             1258.57        -77.0               5   \n",
       "4873         32             1262.04        -36.0               2   \n",
       "4874         32             1225.85       -172.0               5   \n",
       "4875         32             1244.08        -78.0               6   \n",
       "4876         32             1239.92       -157.0               1   \n",
       "4877         32             1235.53        -34.0               1   \n",
       "4878         32             1239.06        -84.0               5   \n",
       "4879         32             1243.76       -128.0               3   \n",
       "4880         32             1235.68         55.0               3   \n",
       "4881         32             1231.91        -14.0               4   \n",
       "4882         32             1236.13        -78.0               2   \n",
       "4883         32             1237.24         13.0               2   \n",
       "4884         32              261.40        -54.0               4   \n",
       "4885         32             1128.01       -102.0               2   \n",
       "4886         32             1240.00         -6.0               4   \n",
       "4887         32             1250.55         63.0               5   \n",
       "4888         32             1233.81        -54.0               3   \n",
       "4889         32             1247.97         18.0               4   \n",
       "4891         32             1234.21       -146.0               5   \n",
       "4892         32             1165.77        -22.0               2   \n",
       "\n",
       "      season_of_travel  holidays  days_from_now  days_from_ist  \\\n",
       "3904                 4         0             35             28   \n",
       "3905                 4         0             35             32   \n",
       "3906                 1         0              9              4   \n",
       "3907                 1         0             10              5   \n",
       "3908                 4         0             14              8   \n",
       "3909                 4         0             14              8   \n",
       "3910                 4         0             14              7   \n",
       "3911                 4         0             15              6   \n",
       "3912                 1         0             11              4   \n",
       "3913                 4         0             17             15   \n",
       "3914                 4         0             37             35   \n",
       "3915                 4         0             20             15   \n",
       "3916                 1         0              9              6   \n",
       "3917                 4         0             24             19   \n",
       "3918                 1         0             11              7   \n",
       "3919                 4         0             16             12   \n",
       "3920                 4         0             35             29   \n",
       "3921                 1         0             11              8   \n",
       "3922                 1         0             11              6   \n",
       "3923                 4         0             15             11   \n",
       "3924                 4         0             27             21   \n",
       "3926                 4         0             27             22   \n",
       "3927                 4         0             33             28   \n",
       "3928                 4         0             22             18   \n",
       "3930                 4         0             24             20   \n",
       "3931                 4         0             20             14   \n",
       "3932                 4         0             34             31   \n",
       "3933                 4         0             14             11   \n",
       "3934                 1         0              9              6   \n",
       "3935                 4         0             23             20   \n",
       "...                ...       ...            ...            ...   \n",
       "4860                 4         0             34             29   \n",
       "4861                 4         0             15              9   \n",
       "4862                 4         0             27             20   \n",
       "4864                 4         0             27             20   \n",
       "4865                 4         0             33             26   \n",
       "4866                 4         0             22             16   \n",
       "4868                 4         0             24             18   \n",
       "4869                 4         0             37             32   \n",
       "4870                 4         0             16             10   \n",
       "4871                 4         0             17             10   \n",
       "4872                 1         0             10              6   \n",
       "4873                 4         0             20             13   \n",
       "4874                 4         0             34             29   \n",
       "4875                 4         0             14              9   \n",
       "4876                 1         0              9              5   \n",
       "4877                 1         0             10              4   \n",
       "4878                 4         0             23             18   \n",
       "4879                 4         0             16              9   \n",
       "4880                 4         0             24             17   \n",
       "4881                 4         0             27             18   \n",
       "4882                 4         0             14              9   \n",
       "4883                 4         0             16              7   \n",
       "4884                 4         0             13              4   \n",
       "4885                 4         0             34             27   \n",
       "4886                 4         0             14              8   \n",
       "4887                 4         0             21             11   \n",
       "4888                 4         0             16              9   \n",
       "4889                 4         0             15              7   \n",
       "4891                 4         0             35             30   \n",
       "4892                 1         0             11              5   \n",
       "\n",
       "      delivery_status  time_taken  \n",
       "3904                1  117.954722  \n",
       "3905                1   50.225833  \n",
       "3906                1   93.539722  \n",
       "3907                1   90.695556  \n",
       "3908                1   91.733889  \n",
       "3909                1   91.681111  \n",
       "3910                2  121.713056  \n",
       "3911                3  191.201389  \n",
       "3912                1  106.604444  \n",
       "3913                1   31.972222  \n",
       "3914                1   23.936944  \n",
       "3915                2  108.903611  \n",
       "3916                1   53.285000  \n",
       "3917                1   96.115278  \n",
       "3918                1   74.775278  \n",
       "3919                1   36.514722  \n",
       "3920                1  102.600278  \n",
       "3921                1   52.959722  \n",
       "3922                3   70.165556  \n",
       "3923                1   55.426111  \n",
       "3924                1   74.640278  \n",
       "3926                1   28.898889  \n",
       "3927                1   73.006111  \n",
       "3928                2   73.193611  \n",
       "3930                1   56.948333  \n",
       "3931                1   61.943889  \n",
       "3932                1   71.928611  \n",
       "3933                1   30.110278  \n",
       "3934                1   48.120000  \n",
       "3935                1   56.562778  \n",
       "...               ...         ...  \n",
       "4860                1   86.249444  \n",
       "4861                1  101.757500  \n",
       "4862                1  106.932500  \n",
       "4864                1   67.336667  \n",
       "4865                1  124.061111  \n",
       "4866                2  126.439722  \n",
       "4868                1  104.476389  \n",
       "4869                1   93.427222  \n",
       "4870                1  112.322778  \n",
       "4871                2  116.616944  \n",
       "4872                1   65.675278  \n",
       "4873                1  105.451944  \n",
       "4874                1  109.518333  \n",
       "4875                1   67.995000  \n",
       "4876                1   72.578056  \n",
       "4877                1  138.364167  \n",
       "4878                1   92.376944  \n",
       "4879                1  106.054167  \n",
       "4880                3  105.322778  \n",
       "4881                1  103.493056  \n",
       "4882                1   76.960556  \n",
       "4883                3  159.320833  \n",
       "4884                1  158.821389  \n",
       "4885                1   82.073056  \n",
       "4886                2   90.157778  \n",
       "4887                3   91.514722  \n",
       "4888                1  105.121667  \n",
       "4889                3  160.078889  \n",
       "4891                1   94.075556  \n",
       "4892                1   90.697222  \n",
       "\n",
       "[880 rows x 10 columns]"
      ]
     },
     "execution_count": 881,
     "metadata": {},
     "output_type": "execute_result"
    }
   ],
   "source": [
    "final_train_df"
   ]
  },
  {
   "cell_type": "code",
   "execution_count": null,
   "metadata": {},
   "outputs": [],
   "source": []
  },
  {
   "cell_type": "code",
   "execution_count": null,
   "metadata": {},
   "outputs": [],
   "source": [
    "#MODEL CONSTRUCTION"
   ]
  },
  {
   "cell_type": "code",
   "execution_count": 883,
   "metadata": {},
   "outputs": [
    {
     "data": {
      "text/plain": [
       "((880, 10), (110, 10))"
      ]
     },
     "execution_count": 883,
     "metadata": {},
     "output_type": "execute_result"
    }
   ],
   "source": [
    "final_train_df.shape, final_test_df.shape"
   ]
  },
  {
   "cell_type": "code",
   "execution_count": 944,
   "metadata": {},
   "outputs": [],
   "source": [
    "scale= StandardScaler()\n",
    "X_train_std = scale.fit_transform(final_train_df.drop(['time_taken'], axis=1))\n",
    "X_test_std = scale.fit_transform(final_test_df.drop(['time_taken'], axis=1))\n",
    "\n",
    "y_train = final_train_df['time_taken']\n",
    "y_test = final_test_df['time_taken']"
   ]
  },
  {
   "cell_type": "code",
   "execution_count": null,
   "metadata": {},
   "outputs": [],
   "source": [
    "# parameters = { #when use hyperthread, xgboost may become slower\n",
    "#               'objective':['binary:logistic'],\n",
    "#               'learning_rate': [0.08,.5,.1,.3], #so called `eta` value\n",
    "#               'max_depth': [3,5,20],\n",
    "#               'min_child_weight': [2,4],\n",
    "#               'silent': [0],\n",
    "#               'subsample': [0.8,.9,0.7],\n",
    "#               'colsample_bytree': [0.7,.8,.9],\n",
    "#               'n_estimators': [5,10,20], #number of trees, change it to 1000 for better results\n",
    "#               'seed': [1337]}"
   ]
  },
  {
   "cell_type": "code",
   "execution_count": 957,
   "metadata": {},
   "outputs": [],
   "source": [
    "reg_mlp = MLPRegressor( hidden_layer_sizes=(10,),  activation='relu', solver='adam', alpha=0.001, batch_size='auto',\n",
    "    learning_rate='constant', learning_rate_init=0.01, power_t=0.5, max_iter=1000, shuffle=True, tol=0.0001, verbose=False, warm_start=False, momentum=0.9, nesterovs_momentum=True,\n",
    "    early_stopping=False, validation_fraction=0.1, beta_1=0.9, beta_2=0.999, epsilon=1e-08)"
   ]
  },
  {
   "cell_type": "code",
   "execution_count": 953,
   "metadata": {},
   "outputs": [],
   "source": [
    "# clf = GridSearchCV(reg_mlp, parameters, n_jobs=-1, \n",
    "#                    cv=StratifiedKFold(y1, n_folds=5, shuffle=True), \n",
    "#                    scoring='',\n",
    "#                    verbose=2, refit=True)"
   ]
  },
  {
   "cell_type": "code",
   "execution_count": 958,
   "metadata": {},
   "outputs": [
    {
     "data": {
      "text/plain": [
       "MLPRegressor(activation='relu', alpha=0.001, batch_size='auto', beta_1=0.9,\n",
       "       beta_2=0.999, early_stopping=False, epsilon=1e-08,\n",
       "       hidden_layer_sizes=(10,), learning_rate='constant',\n",
       "       learning_rate_init=0.01, max_iter=1000, momentum=0.9,\n",
       "       nesterovs_momentum=True, power_t=0.5, random_state=None,\n",
       "       shuffle=True, solver='adam', tol=0.0001, validation_fraction=0.1,\n",
       "       verbose=False, warm_start=False)"
      ]
     },
     "execution_count": 958,
     "metadata": {},
     "output_type": "execute_result"
    }
   ],
   "source": [
    "reg_mlp.fit(X_train_std, y_train)"
   ]
  },
  {
   "cell_type": "code",
   "execution_count": 959,
   "metadata": {},
   "outputs": [],
   "source": [
    "predictions_time = reg_mlp.predict(X_test_std)"
   ]
  },
  {
   "cell_type": "code",
   "execution_count": 962,
   "metadata": {},
   "outputs": [
    {
     "name": "stdout",
     "output_type": "stream",
     "text": [
      "Score: 29.3348450276\n"
     ]
    }
   ],
   "source": [
    "print 'Score:', reg_mlp.score(X_test_std, y_test)*100"
   ]
  },
  {
   "cell_type": "code",
   "execution_count": 963,
   "metadata": {},
   "outputs": [
    {
     "data": {
      "image/png": "[encoded data removed]",
      "text/plain": [
       "<matplotlib.figure.Figure at 0x7f8e67ea8250>"
      ]
     },
     "metadata": {},
     "output_type": "display_data"
    }
   ],
   "source": [
    "## The line / model\n",
    "plt.scatter(y_test, predictions_time)\n",
    "# plt.scatter(X,Y1,color='red')\n",
    "# plt.scatter(X,Y2,color='blue')\n",
    "plt.xlabel('True Values')\n",
    "plt.ylabel('Predictions')\n",
    "plt.show()"
   ]
  },
  {
   "cell_type": "code",
   "execution_count": null,
   "metadata": {},
   "outputs": [],
   "source": []
  },
  {
   "cell_type": "code",
   "execution_count": null,
   "metadata": {},
   "outputs": [],
   "source": []
  },
  {
   "cell_type": "code",
   "execution_count": null,
   "metadata": {},
   "outputs": [],
   "source": []
  }
 ],
 "metadata": {
  "kernelspec": {
   "display_name": "Python 2",
   "language": "python",
   "name": "python2"
  },
  "language_info": {
   "codemirror_mode": {
    "name": "ipython",
    "version": 2
   },
   "file_extension": ".py",
   "mimetype": "text/x-python",
   "name": "python",
   "nbconvert_exporter": "python",
   "pygments_lexer": "ipython2",
   "version": "2.7.12"
  }
 },
 "nbformat": 4,
 "nbformat_minor": 2
}
