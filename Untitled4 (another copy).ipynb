{
 "cells": [
  {
   "cell_type": "code",
   "execution_count": 38,
   "metadata": {},
   "outputs": [
    {
     "data": {
      "text/html": [
       "<script>requirejs.config({paths: { 'plotly': ['https://cdn.plot.ly/plotly-latest.min']},});if(!window.Plotly) {{require(['plotly'],function(plotly) {window.Plotly=plotly;});}}</script>"
      ],
      "text/vnd.plotly.v1+html": [
       "<script>requirejs.config({paths: { 'plotly': ['https://cdn.plot.ly/plotly-latest.min']},});if(!window.Plotly) {{require(['plotly'],function(plotly) {window.Plotly=plotly;});}}</script>"
      ]
     },
     "metadata": {},
     "output_type": "display_data"
    }
   ],
   "source": [
    "import sqlite3\n",
    "import numpy as np\n",
    "import mysql.connector\n",
    "import pandas as pd\n",
    "import getpass\n",
    "import seaborn as sns\n",
    "import matplotlib.pyplot as plt\n",
    "import plotly\n",
    "plotly.tools.set_credentials_file(username='mainakchain', api_key='B9m4DVrYYmsoW3jDSiok')\n",
    "import plotly.plotly as py\n",
    "import plotly.graph_objs as go\n",
    "from plotly import __version__\n",
    "from plotly.offline import download_plotlyjs, init_notebook_mode, plot, iplot\n",
    "import cufflinks as cf\n",
    "init_notebook_mode(connected=True)\n",
    "import plotly.figure_factory as ff\n",
    "# from scipy import stats\n",
    "# from sklearn.utils import shuffle\n",
    "from sklearn.neural_network import MLPRegressor\n",
    "from sklearn.neural_network import MLPClassifier\n",
    "from sklearn.ensemble import RandomForestRegressor\n",
    "# from sklearn.preprocessing import LabelEncoder\n",
    "from sklearn.preprocessing import StandardScaler\n",
    "from sklearn.model_selection import train_test_split\n",
    "from datetime import timedelta\n",
    "from sklearn.ensemble import RandomForestRegressor\n",
    "import datetime\n",
    "# import holidays\n",
    "from sklearn.model_selection import cross_val_score\n",
    "# from sklearn.metrics import median_absolute_error\n",
    "from sklearn.model_selection import GridSearchCV\n",
    "from sklearn.cross_validation import StratifiedKFold\n",
    "# from sklearn.linear_model import LinearRegression\n",
    "# from sklearn.preprocessing import MinMaxScaler\n",
    "# from sklearn.svm import LinearSVR\n",
    "# from sklearn.svm import SVR\n",
    "import xgboost as xgb"
   ]
  },
  {
   "cell_type": "code",
   "execution_count": 2,
   "metadata": {},
   "outputs": [],
   "source": [
    "toll_time = pd.read_csv('toll_time.csv')"
   ]
  },
  {
   "cell_type": "code",
   "execution_count": 3,
   "metadata": {},
   "outputs": [
    {
     "data": {
      "text/plain": [
       "(6425, 18)"
      ]
     },
     "execution_count": 3,
     "metadata": {},
     "output_type": "execute_result"
    }
   ],
   "source": [
    "toll_time.shape"
   ]
  },
  {
   "cell_type": "code",
   "execution_count": 4,
   "metadata": {},
   "outputs": [],
   "source": [
    "# new_toll_time = toll_time[toll_time['origin'] == 'Jamshedpur'][toll_time['destination'] == 'HOSUR']"
   ]
  },
  {
   "cell_type": "code",
   "execution_count": 10,
   "metadata": {},
   "outputs": [],
   "source": [
    "toll_time.drop(['Unnamed: 0'], axis=1, inplace=True)"
   ]
  },
  {
   "cell_type": "code",
   "execution_count": 5,
   "metadata": {},
   "outputs": [],
   "source": [
    "toll_time['route'] = toll_time['origin'] + ' ' + toll_time['destination']"
   ]
  },
  {
   "cell_type": "code",
   "execution_count": 6,
   "metadata": {},
   "outputs": [],
   "source": [
    "def change_route_to_dummy(df):\n",
    "    num = 1\n",
    "    dict_route = {}\n",
    "    for r in df['route'].unique().tolist():\n",
    "        df['route'] = df['route'].replace({r: num})\n",
    "        dict_route[num] = r\n",
    "        num += 1\n",
    "    return dict_route"
   ]
  },
  {
   "cell_type": "code",
   "execution_count": 7,
   "metadata": {},
   "outputs": [],
   "source": [
    "dict_route = change_route_to_dummy(toll_time)"
   ]
  },
  {
   "cell_type": "code",
   "execution_count": 8,
   "metadata": {},
   "outputs": [
    {
     "data": {
      "text/plain": [
       "(6425, 19)"
      ]
     },
     "execution_count": 8,
     "metadata": {},
     "output_type": "execute_result"
    }
   ],
   "source": [
    "toll_time.shape"
   ]
  },
  {
   "cell_type": "code",
   "execution_count": 9,
   "metadata": {},
   "outputs": [
    {
     "data": {
      "text/plain": [
       "12    990\n",
       "7     979\n",
       "9     627\n",
       "11    548\n",
       "19    452\n",
       "8     436\n",
       "10    418\n",
       "5     367\n",
       "4     270\n",
       "18    261\n",
       "17    249\n",
       "14    204\n",
       "13    201\n",
       "1     177\n",
       "16     90\n",
       "15     74\n",
       "3      50\n",
       "2      29\n",
       "6       3\n",
       "Name: route, dtype: int64"
      ]
     },
     "execution_count": 9,
     "metadata": {},
     "output_type": "execute_result"
    }
   ],
   "source": [
    "toll_time.route.value_counts()"
   ]
  },
  {
   "cell_type": "code",
   "execution_count": 11,
   "metadata": {},
   "outputs": [],
   "source": [
    "new_toll_time = toll_time.copy()"
   ]
  },
  {
   "cell_type": "code",
   "execution_count": 12,
   "metadata": {},
   "outputs": [],
   "source": [
    "today_date = datetime.datetime.now()\n",
    "today_date.strftime(\"%Y-%m-%d %H:%M:%S\")\n",
    "today = today_date.strftime(\"%Y-%m-%d %H:%M:%S\")\n",
    "new_toll_time['today'] = datetime.datetime.strptime(today, '%Y-%m-%d %H:%M:%S')"
   ]
  },
  {
   "cell_type": "code",
   "execution_count": 13,
   "metadata": {},
   "outputs": [
    {
     "data": {
      "text/plain": [
       "origin                        object\n",
       "destination                   object\n",
       "toll_both                     object\n",
       "vehicle_no                    object\n",
       "loading_out_time              object\n",
       "odometer_km                  float64\n",
       "ist_timestamp                 object\n",
       "distance_from_toll           float64\n",
       "loading_in_time               object\n",
       "start_date                    object\n",
       "eta                           object\n",
       "unloading_in_time             object\n",
       "slug                          object\n",
       "delivery_status               object\n",
       "distance_travelled           float64\n",
       "late_by_hrs                  float64\n",
       "time_taken                   float64\n",
       "route                          int64\n",
       "today                 datetime64[ns]\n",
       "dtype: object"
      ]
     },
     "execution_count": 13,
     "metadata": {},
     "output_type": "execute_result"
    }
   ],
   "source": [
    "new_toll_time.dtypes"
   ]
  },
  {
   "cell_type": "code",
   "execution_count": 14,
   "metadata": {},
   "outputs": [],
   "source": [
    "new_toll_time['start_date'] = new_toll_time['start_date'].apply(lambda x:datetime.datetime.strptime(x, '%Y-%m-%d %H:%M:%S') )\n",
    "new_toll_time['days_from_now'] = new_toll_time['today'] - new_toll_time['start_date'] \n",
    "new_toll_time['days_from_now'] = new_toll_time['days_from_now'].apply(lambda x: x.days)"
   ]
  },
  {
   "cell_type": "code",
   "execution_count": 15,
   "metadata": {},
   "outputs": [],
   "source": [
    "new_toll_time['unloading_in_time'] = new_toll_time['unloading_in_time'].apply(lambda x:datetime.datetime.strptime(x, '%Y-%m-%d %H:%M:%S') )\n",
    "new_toll_time['avg_travel_time'] = new_toll_time['start_date'] + (new_toll_time['unloading_in_time'] - new_toll_time['start_date'])/2"
   ]
  },
  {
   "cell_type": "code",
   "execution_count": 16,
   "metadata": {},
   "outputs": [],
   "source": [
    "new_toll_time['month_of_travel'] = new_toll_time['avg_travel_time'].apply(lambda x: x.month)"
   ]
  },
  {
   "cell_type": "code",
   "execution_count": 17,
   "metadata": {},
   "outputs": [],
   "source": [
    "new_toll_time['ist_timestamp'] = new_toll_time['ist_timestamp'].apply(lambda x:datetime.datetime.strptime(x, '%Y-%m-%d %H:%M:%S'))\n",
    "new_toll_time['time_of_travel'] = new_toll_time.ist_timestamp.apply(lambda x: x.hour)"
   ]
  },
  {
   "cell_type": "code",
   "execution_count": 18,
   "metadata": {},
   "outputs": [],
   "source": [
    "new_toll_time['time_of_travel'] = new_toll_time['time_of_travel'].replace({3:'midnight',4:'midnight',5:'midnight',6:'midnight'})\n",
    "new_toll_time['time_of_travel'] = new_toll_time['time_of_travel'].replace({7:'morning',8:'morning',9:'morning',10:'morning'})\n",
    "new_toll_time['time_of_travel'] = new_toll_time['time_of_travel'].replace({11:'noon',12:'noon',13:'noon',14:'noon'})\n",
    "new_toll_time['time_of_travel'] = new_toll_time['time_of_travel'].replace({15:'afternoon',16:'afternoon',17:'afternoon',18:'afternoon'})\n",
    "new_toll_time['time_of_travel'] = new_toll_time['time_of_travel'].replace({19:'evening',20:'evening',21:'evening',22:'evening'})\n",
    "new_toll_time['time_of_travel'] = new_toll_time['time_of_travel'].replace({23:'night',0:'night',1:'night',2:'night'})\n",
    "\n",
    "new_toll_time['time_of_travel'] = new_toll_time['time_of_travel'].replace({'midnight':1,'morning':2,'noon':3,'afternoon':4,'evening':5,'night':6})"
   ]
  },
  {
   "cell_type": "code",
   "execution_count": 19,
   "metadata": {},
   "outputs": [],
   "source": [
    "new_toll_time['day_of_travel'] = new_toll_time['avg_travel_time'].apply(lambda x: x.weekday())"
   ]
  },
  {
   "cell_type": "code",
   "execution_count": 20,
   "metadata": {},
   "outputs": [],
   "source": [
    "new_toll_time['season_of_travel'] = new_toll_time['month_of_travel'].replace({12:'Winter',1:'Winter',2:'Winter'})\n",
    "new_toll_time['season_of_travel'] = new_toll_time['season_of_travel'].replace({3:'Summer',4:'Summer',5:'Summer'})\n",
    "new_toll_time['season_of_travel'] = new_toll_time['season_of_travel'].replace({6:'Rainy',7:'Rainy',8:'Rainy',9:'Rainy'})\n",
    "new_toll_time['season_of_travel'] = new_toll_time['season_of_travel'].replace({10:'Autumn',11:'Autumn'})\n",
    "\n",
    "new_toll_time['season_of_travel'] = new_toll_time['season_of_travel'].replace({'Winter':1,'Summer':2,'Rainy':3,'Autumn':4})"
   ]
  },
  {
   "cell_type": "code",
   "execution_count": 21,
   "metadata": {},
   "outputs": [],
   "source": [
    "def change_vehicle_no_to_dummy(df):\n",
    "    num = 1\n",
    "    dict_vehicle_no = {}\n",
    "    for truck in df['vehicle_no'].unique().tolist():\n",
    "        df['vehicle_no'] = df['vehicle_no'].replace({truck: num})\n",
    "        dict_vehicle_no[num] = truck\n",
    "        num += 1\n",
    "    return dict_vehicle_no"
   ]
  },
  {
   "cell_type": "code",
   "execution_count": 22,
   "metadata": {},
   "outputs": [],
   "source": [
    "def change_toll_booth_to_dummy(df):\n",
    "    num = 1\n",
    "    dict_toll_both = {}\n",
    "    for toll in df['toll_both'].unique().tolist():\n",
    "        df['toll_both'] = df['toll_both'].replace({toll: num})\n",
    "        dict_toll_both[num] = toll\n",
    "        num += 1\n",
    "    return dict_toll_both"
   ]
  },
  {
   "cell_type": "code",
   "execution_count": 23,
   "metadata": {},
   "outputs": [],
   "source": [
    "dict_toll_both = change_toll_booth_to_dummy(new_toll_time)"
   ]
  },
  {
   "cell_type": "code",
   "execution_count": 24,
   "metadata": {},
   "outputs": [],
   "source": [
    "def change_delivery_status_to_dummy(df):\n",
    "    df['delivery_status'] = df['delivery_status'].replace({'early':1,'on-time':2,'late':3})"
   ]
  },
  {
   "cell_type": "code",
   "execution_count": 25,
   "metadata": {},
   "outputs": [],
   "source": [
    "new_toll_time['loading_out_time'] = new_toll_time['loading_out_time'].apply(lambda x:datetime.datetime.strptime(x, '%Y-%m-%d %H:%M:%S') )\n"
   ]
  },
  {
   "cell_type": "code",
   "execution_count": 26,
   "metadata": {},
   "outputs": [],
   "source": [
    "new_toll_time = new_toll_time.sort_values(['route','vehicle_no','time_taken'])"
   ]
  },
  {
   "cell_type": "code",
   "execution_count": 27,
   "metadata": {},
   "outputs": [],
   "source": [
    "def time_between_toll(df):\n",
    "    for truck in df.vehicle_no.unique().tolist():\n",
    "        for route in df.route.unique().tolist():\n",
    "            if df[(df.vehicle_no == truck) & (df.route == route)].shape[0] == 1:\n",
    "                continue\n",
    "            elif df[(df.vehicle_no == truck) & (df.route == route)].shape[0] > 1 :\n",
    "                df['time_btn_toll'][(df['vehicle_no'] == truck) & (df['route'] == route)] = df['time_taken'][(df['vehicle_no'] == truck) & (df['route'] == route)].diff()\n",
    "            else:\n",
    "                continue\n",
    "    return df"
   ]
  },
  {
   "cell_type": "code",
   "execution_count": 1050,
   "metadata": {},
   "outputs": [
    {
     "name": "stderr",
     "output_type": "stream",
     "text": [
      "/usr/local/lib/python2.7/dist-packages/ipykernel_launcher.py:7: SettingWithCopyWarning:\n",
      "\n",
      "\n",
      "A value is trying to be set on a copy of a slice from a DataFrame\n",
      "\n",
      "See the caveats in the documentation: http://pandas.pydata.org/pandas-docs/stable/indexing.html#indexing-view-versus-copy\n",
      "\n"
     ]
    }
   ],
   "source": [
    "new_toll_time['time_btn_toll'] = 0\n",
    "new_toll_time = time_between_toll(new_toll_time)\n",
    "new_toll_time['time_btn_toll'] = new_toll_time['time_btn_toll'].fillna(0)"
   ]
  },
  {
   "cell_type": "code",
   "execution_count": 28,
   "metadata": {},
   "outputs": [],
   "source": [
    "new_toll_time['loading_out_time'] = new_toll_time['loading_out_time'].apply(lambda x: x.hour)"
   ]
  },
  {
   "cell_type": "code",
   "execution_count": 29,
   "metadata": {},
   "outputs": [],
   "source": [
    "new_toll_time.late_by_hrs = new_toll_time.late_by_hrs.round()"
   ]
  },
  {
   "cell_type": "code",
   "execution_count": 30,
   "metadata": {},
   "outputs": [],
   "source": [
    "train_df = new_toll_time[new_toll_time['vehicle_no'].isin(['OD04D5891','PB10CH3759','NL02N3814']) == False]"
   ]
  },
  {
   "cell_type": "code",
   "execution_count": 31,
   "metadata": {},
   "outputs": [],
   "source": [
    "test_df = new_toll_time[new_toll_time['vehicle_no'].isin(['OD04D5891','PB10CH3759','NL02N3814']) == True]"
   ]
  },
  {
   "cell_type": "code",
   "execution_count": 32,
   "metadata": {},
   "outputs": [
    {
     "data": {
      "text/plain": [
       "((42, 25), (6383, 25))"
      ]
     },
     "execution_count": 32,
     "metadata": {},
     "output_type": "execute_result"
    }
   ],
   "source": [
    "test_df.shape, train_df.shape"
   ]
  },
  {
   "cell_type": "code",
   "execution_count": 33,
   "metadata": {
    "scrolled": false
   },
   "outputs": [
    {
     "data": {
      "text/plain": [
       "['origin',\n",
       " 'destination',\n",
       " 'toll_both',\n",
       " 'vehicle_no',\n",
       " 'loading_out_time',\n",
       " 'odometer_km',\n",
       " 'ist_timestamp',\n",
       " 'distance_from_toll',\n",
       " 'loading_in_time',\n",
       " 'start_date',\n",
       " 'eta',\n",
       " 'unloading_in_time',\n",
       " 'slug',\n",
       " 'delivery_status',\n",
       " 'distance_travelled',\n",
       " 'late_by_hrs',\n",
       " 'time_taken',\n",
       " 'route',\n",
       " 'today',\n",
       " 'days_from_now',\n",
       " 'avg_travel_time',\n",
       " 'month_of_travel',\n",
       " 'time_of_travel',\n",
       " 'day_of_travel',\n",
       " 'season_of_travel']"
      ]
     },
     "execution_count": 33,
     "metadata": {},
     "output_type": "execute_result"
    }
   ],
   "source": [
    "test_df.columns.tolist()"
   ]
  },
  {
   "cell_type": "code",
   "execution_count": 34,
   "metadata": {},
   "outputs": [],
   "source": [
    "if set(test_df.vehicle_no.unique().tolist()) < set(train_df.vehicle_no.unique().tolist()):\n",
    "    final_train_df = train_df[['route','toll_both','vehicle_no','odometer_km','loading_out_time','distance_travelled','time_of_travel','day_of_travel','season_of_travel','month_of_travel','days_from_now','time_taken']]\n",
    "    final_test_df = test_df[['route','toll_both','vehicle_no','odometer_km','loading_out_time','distance_travelled','time_of_travel','day_of_travel','season_of_travel','month_of_travel','days_from_now','time_taken']]\n",
    "    train_dict_vehicle_no = change_vehicle_no_to_dummy(final_train_df)\n",
    "    test_dict_vehilce_no = change_vehicle_no_to_dummy(final_test_df)\n",
    "    \n",
    "else:\n",
    "    final_train_df = train_df[['route','toll_both','odometer_km','loading_out_time','distance_travelled','time_of_travel','day_of_travel','season_of_travel','month_of_travel','days_from_now','time_taken']]\n",
    "    final_test_df = test_df[['route','toll_both','odometer_km','loading_out_time','distance_travelled','time_of_travel','day_of_travel','season_of_travel','month_of_travel','days_from_now','time_taken']]"
   ]
  },
  {
   "cell_type": "code",
   "execution_count": 35,
   "metadata": {},
   "outputs": [],
   "source": [
    "train_X = final_train_df.drop(['time_taken'], axis=1)\n",
    "train_y = final_train_df['time_taken']\n",
    "\n",
    "test_X = final_test_df.drop(['time_taken'], axis=1)\n",
    "test_y = final_test_df['time_taken']"
   ]
  },
  {
   "cell_type": "code",
   "execution_count": 36,
   "metadata": {},
   "outputs": [],
   "source": [
    "X_train, X_test, y_train, y_test = train_test_split(train_X,train_y, test_size=0.3, random_state=42)"
   ]
  },
  {
   "cell_type": "code",
   "execution_count": 69,
   "metadata": {},
   "outputs": [],
   "source": [
    "scale= StandardScaler()\n",
    "X_train_scaled = scale.fit_transform(train_X) \n",
    "X_test_scaled = scale.fit_transform(test_X)\n",
    "\n",
    "# y_train_std = final_train_df['time_btn_toll']\n",
    "# y_test_std = final_test_df['time_btn_toll']"
   ]
  },
  {
   "cell_type": "code",
   "execution_count": 70,
   "metadata": {},
   "outputs": [],
   "source": [
    "dtrain = xgb.DMatrix(X_train_scaled, label=train_y)\n",
    "dtest = xgb.DMatrix(X_test_scaled)"
   ]
  },
  {
   "cell_type": "code",
   "execution_count": 77,
   "metadata": {},
   "outputs": [],
   "source": [
    "parameters = { #when use hyperthread, xgboost may become slower\n",
    "              'objective':['reg:linear'],\n",
    "              'learning_rate': [0.01,0.1], #so called `eta` value\n",
    "              'max_depth': [5,20,30],\n",
    "              'min_child_weight': [2,4],\n",
    "              'silent': [0],\n",
    "              'subsample': [.9],\n",
    "              'colsample_bytree': [.8,.9],\n",
    "              'n_estimators': [50,100], #number of trees, change it to 1000 for better results\n",
    "              'seed': [1337]}"
   ]
  },
  {
   "cell_type": "code",
   "execution_count": 78,
   "metadata": {},
   "outputs": [],
   "source": [
    "xgb_model = xgb.XGBRegressor()"
   ]
  },
  {
   "cell_type": "code",
   "execution_count": 79,
   "metadata": {},
   "outputs": [],
   "source": [
    "reg = GridSearchCV(xgb_model, parameters, n_jobs=-1,\n",
    "                   scoring='r2',\n",
    "                   verbose=1, refit=True)"
   ]
  },
  {
   "cell_type": "code",
   "execution_count": null,
   "metadata": {},
   "outputs": [],
   "source": [
    "reg.fit(X_train_scaled,train_y)"
   ]
  },
  {
   "cell_type": "code",
   "execution_count": 55,
   "metadata": {},
   "outputs": [
    {
     "name": "stdout",
     "output_type": "stream",
     "text": [
      "('Raw AUC score:', 0.7956418133777825)\n",
      "colsample_bytree: 0.8\n",
      "learning_rate: 0.1\n",
      "max_depth: 20\n",
      "min_child_weight: 2\n",
      "n_estimators: 50\n",
      "objective: 'reg:linear'\n",
      "seed: 1337\n",
      "silent: 0\n",
      "subsample: 0.9\n"
     ]
    },
    {
     "name": "stderr",
     "output_type": "stream",
     "text": [
      "/usr/local/lib/python2.7/dist-packages/sklearn/model_selection/_search.py:761: DeprecationWarning:\n",
      "\n",
      "The grid_scores_ attribute was deprecated in version 0.18 in favor of the more elaborate cv_results_ attribute. The grid_scores_ attribute will not be available from 0.20\n",
      "\n"
     ]
    }
   ],
   "source": [
    "best_parameters, score, _ = max(reg.grid_scores_, key=lambda x: x[1])\n",
    "print('Raw AUC score:', score)\n",
    "for param_name in sorted(best_parameters.keys()):\n",
    "    print(\"%s: %r\" % (param_name, best_parameters[param_name]))"
   ]
  },
  {
   "cell_type": "code",
   "execution_count": 56,
   "metadata": {},
   "outputs": [],
   "source": [
    "para ={\n",
    "    'colsample_bytree': 0.8,\n",
    "    'learning_rate': 0.1,\n",
    "    'max_depth': 20,\n",
    "    'min_child_weight': 2,\n",
    "    'n_estimators': 50,\n",
    "    'n_jobs': -1,\n",
    "    'objective': 'reg:linear',\n",
    "    'seed': 1337,\n",
    "    'silent': 0,\n",
    "    'subsample': 0.9,\n",
    "    }\n",
    "\n"
   ]
  },
  {
   "cell_type": "code",
   "execution_count": 71,
   "metadata": {},
   "outputs": [],
   "source": [
    "n_rounds=15"
   ]
  },
  {
   "cell_type": "code",
   "execution_count": 72,
   "metadata": {},
   "outputs": [],
   "source": [
    "bst = xgb.train(para, dtrain,n_rounds)"
   ]
  },
  {
   "cell_type": "code",
   "execution_count": 73,
   "metadata": {},
   "outputs": [],
   "source": [
    "pred = bst.predict(dtest)"
   ]
  },
  {
   "cell_type": "code",
   "execution_count": 74,
   "metadata": {},
   "outputs": [
    {
     "data": {
      "text/plain": [
       "array([  66.58843231,   78.57276154,   28.86019707,   27.03373718,\n",
       "         28.06376266,   30.31001854,   32.39196396,   33.2884903 ,\n",
       "         30.07467651,   30.07467651,   49.78320312,   63.67630768,\n",
       "         71.63707733,   68.29237366,   71.63707733,   75.60437775,\n",
       "         74.36824036,   78.3274765 ,   73.90201569,   90.36632538,\n",
       "        101.68738556,   99.56115723,   60.33924484,   55.82491684,\n",
       "         53.32506561,   48.03318024,   63.04655838,   50.54655838,\n",
       "         60.14258575,   39.53168488,   53.67500687,   32.44026947,\n",
       "         56.063694  ,   41.67225266,   71.89609528,   74.39041901,\n",
       "         78.21296692,   72.02096558,   33.34825897,   28.32529259,\n",
       "         29.25722122,   23.48251343], dtype=float32)"
      ]
     },
     "execution_count": 74,
     "metadata": {},
     "output_type": "execute_result"
    }
   ],
   "source": [
    "pred"
   ]
  },
  {
   "cell_type": "code",
   "execution_count": 144,
   "metadata": {},
   "outputs": [],
   "source": [
    "predictions = reg_mlp.predict(X_predict_scaled)"
   ]
  },
  {
   "cell_type": "code",
   "execution_count": 76,
   "metadata": {},
   "outputs": [
    {
     "data": {
      "image/png": "[encoded data removed]",
      "text/plain": [
       "<matplotlib.figure.Figure at 0x7f0b526e9910>"
      ]
     },
     "metadata": {},
     "output_type": "display_data"
    }
   ],
   "source": [
    "## The line / model\n",
    "plt.scatter(test_y, pred)\n",
    "plt.ylabel('predictions')\n",
    "plt.xlabel('actual')\n",
    "# plt.axis('equal')\n",
    "plt.gca().set_aspect('equal', adjustable='box')\n",
    "plt.show()\n"
   ]
  },
  {
   "cell_type": "code",
   "execution_count": 67,
   "metadata": {},
   "outputs": [
    {
     "ename": "NameError",
     "evalue": "name 'predictions' is not defined",
     "output_type": "error",
     "traceback": [
      "\u001b[0;31m---------------------------------------------------------------------------\u001b[0m",
      "\u001b[0;31mNameError\u001b[0m                                 Traceback (most recent call last)",
      "\u001b[0;32m<ipython-input-67-3507f18d9307>\u001b[0m in \u001b[0;36m<module>\u001b[0;34m()\u001b[0m\n\u001b[0;32m----> 1\u001b[0;31m \u001b[0mtest_df\u001b[0m\u001b[0;34m.\u001b[0m\u001b[0mshape\u001b[0m\u001b[0;34m,\u001b[0m \u001b[0mpredictions\u001b[0m\u001b[0;34m.\u001b[0m\u001b[0mshape\u001b[0m\u001b[0;34m,\u001b[0m \u001b[0mshow_df\u001b[0m\u001b[0;34m.\u001b[0m\u001b[0mshape\u001b[0m\u001b[0;34m\u001b[0m\u001b[0m\n\u001b[0m",
      "\u001b[0;31mNameError\u001b[0m: name 'predictions' is not defined"
     ]
    }
   ],
   "source": [
    "test_df.shape, predictions.shape, show_df.shape"
   ]
  },
  {
   "cell_type": "code",
   "execution_count": 147,
   "metadata": {},
   "outputs": [],
   "source": [
    "show_df = test_df.copy()"
   ]
  },
  {
   "cell_type": "code",
   "execution_count": 68,
   "metadata": {
    "scrolled": false
   },
   "outputs": [
    {
     "ename": "NameError",
     "evalue": "name 'show_df' is not defined",
     "output_type": "error",
     "traceback": [
      "\u001b[0;31m---------------------------------------------------------------------------\u001b[0m",
      "\u001b[0;31mNameError\u001b[0m                                 Traceback (most recent call last)",
      "\u001b[0;32m<ipython-input-68-59e1a57c3403>\u001b[0m in \u001b[0;36m<module>\u001b[0;34m()\u001b[0m\n\u001b[0;32m----> 1\u001b[0;31m \u001b[0mshow_df\u001b[0m\u001b[0;34m[\u001b[0m\u001b[0;34m'predicted'\u001b[0m\u001b[0;34m]\u001b[0m \u001b[0;34m=\u001b[0m \u001b[0mpred\u001b[0m\u001b[0;34m\u001b[0m\u001b[0m\n\u001b[0m",
      "\u001b[0;31mNameError\u001b[0m: name 'show_df' is not defined"
     ]
    }
   ],
   "source": [
    "show_df['predicted'] = pred"
   ]
  },
  {
   "cell_type": "code",
   "execution_count": 149,
   "metadata": {},
   "outputs": [],
   "source": [
    "show_df['time_taken_delta'] = show_df['time_taken'].apply(lambda x: timedelta(hours=x))"
   ]
  },
  {
   "cell_type": "code",
   "execution_count": 150,
   "metadata": {},
   "outputs": [],
   "source": [
    "show_df['predict_delta'] = show_df['predicted'].apply(lambda x: timedelta(hours=x))"
   ]
  },
  {
   "cell_type": "code",
   "execution_count": 151,
   "metadata": {},
   "outputs": [],
   "source": [
    "show_df['predicted_ist_timestamp'] = show_df['ist_timestamp'] - show_df['time_taken_delta'] + show_df['predict_delta']"
   ]
  },
  {
   "cell_type": "code",
   "execution_count": 152,
   "metadata": {},
   "outputs": [],
   "source": [
    "show_df['route'] = test_df['route'].replace(dict_route)"
   ]
  },
  {
   "cell_type": "code",
   "execution_count": 153,
   "metadata": {},
   "outputs": [],
   "source": [
    "show_df['toll_both'] = show_df['toll_both'].replace(dict_toll_both) "
   ]
  },
  {
   "cell_type": "code",
   "execution_count": 154,
   "metadata": {},
   "outputs": [],
   "source": [
    "show_df = show_df.sort_values(['route','vehicle_no','time_taken'])"
   ]
  },
  {
   "cell_type": "code",
   "execution_count": 155,
   "metadata": {},
   "outputs": [
    {
     "data": {
      "text/html": [
       "<div>\n",
       "<style>\n",
       "    .dataframe thead tr:only-child th {\n",
       "        text-align: right;\n",
       "    }\n",
       "\n",
       "    .dataframe thead th {\n",
       "        text-align: left;\n",
       "    }\n",
       "\n",
       "    .dataframe tbody tr th {\n",
       "        vertical-align: top;\n",
       "    }\n",
       "</style>\n",
       "<table border=\"1\" class=\"dataframe\">\n",
       "  <thead>\n",
       "    <tr style=\"text-align: right;\">\n",
       "      <th></th>\n",
       "      <th>route</th>\n",
       "      <th>vehicle_no</th>\n",
       "      <th>toll_both</th>\n",
       "      <th>time_taken</th>\n",
       "      <th>predicted</th>\n",
       "      <th>ist_timestamp</th>\n",
       "      <th>predicted_ist_timestamp</th>\n",
       "    </tr>\n",
       "  </thead>\n",
       "  <tbody>\n",
       "    <tr>\n",
       "      <th>4690</th>\n",
       "      <td>Jamshedpur HOSUR</td>\n",
       "      <td>OD04D5891</td>\n",
       "      <td>Sergrarh</td>\n",
       "      <td>63.595833</td>\n",
       "      <td>47.942221</td>\n",
       "      <td>2017-11-24 19:44:00</td>\n",
       "      <td>2017-11-24 04:04:46.997242</td>\n",
       "    </tr>\n",
       "    <tr>\n",
       "      <th>4601</th>\n",
       "      <td>Jamshedpur HOSUR</td>\n",
       "      <td>OD04D5891</td>\n",
       "      <td>Panikholi</td>\n",
       "      <td>66.002222</td>\n",
       "      <td>57.414666</td>\n",
       "      <td>2017-11-24 22:08:23</td>\n",
       "      <td>2017-11-24 13:33:07.795995</td>\n",
       "    </tr>\n",
       "    <tr>\n",
       "      <th>4473</th>\n",
       "      <td>Jamshedpur HOSUR</td>\n",
       "      <td>OD04D5891</td>\n",
       "      <td>Manguli</td>\n",
       "      <td>67.488056</td>\n",
       "      <td>17.296586</td>\n",
       "      <td>2017-11-24 23:37:32</td>\n",
       "      <td>2017-11-22 21:26:02.709459</td>\n",
       "    </tr>\n",
       "    <tr>\n",
       "      <th>4132</th>\n",
       "      <td>Jamshedpur HOSUR</td>\n",
       "      <td>OD04D5891</td>\n",
       "      <td>Gudipada (Old Gangapada)</td>\n",
       "      <td>68.857500</td>\n",
       "      <td>16.947158</td>\n",
       "      <td>2017-11-25 00:59:42</td>\n",
       "      <td>2017-11-22 21:05:04.769963</td>\n",
       "    </tr>\n",
       "    <tr>\n",
       "      <th>4177</th>\n",
       "      <td>Jamshedpur HOSUR</td>\n",
       "      <td>OD04D5891</td>\n",
       "      <td>Gurapalli</td>\n",
       "      <td>71.043611</td>\n",
       "      <td>22.374168</td>\n",
       "      <td>2017-11-25 03:10:52</td>\n",
       "      <td>2017-11-23 02:30:42.003650</td>\n",
       "    </tr>\n",
       "    <tr>\n",
       "      <th>3929</th>\n",
       "      <td>Jamshedpur HOSUR</td>\n",
       "      <td>OD04D5891</td>\n",
       "      <td>Bellupada</td>\n",
       "      <td>85.191111</td>\n",
       "      <td>25.347423</td>\n",
       "      <td>2017-11-25 17:19:43</td>\n",
       "      <td>2017-11-23 05:29:05.724251</td>\n",
       "    </tr>\n",
       "    <tr>\n",
       "      <th>4425</th>\n",
       "      <td>Jamshedpur HOSUR</td>\n",
       "      <td>OD04D5891</td>\n",
       "      <td>Madapam</td>\n",
       "      <td>89.519722</td>\n",
       "      <td>27.767510</td>\n",
       "      <td>2017-11-25 21:39:26</td>\n",
       "      <td>2017-11-23 07:54:18.035827</td>\n",
       "    </tr>\n",
       "    <tr>\n",
       "      <th>4051</th>\n",
       "      <td>Jamshedpur HOSUR</td>\n",
       "      <td>OD04D5891</td>\n",
       "      <td>Chilakapalem</td>\n",
       "      <td>90.272500</td>\n",
       "      <td>27.839374</td>\n",
       "      <td>2017-11-25 22:24:36</td>\n",
       "      <td>2017-11-23 07:58:36.745714</td>\n",
       "    </tr>\n",
       "    <tr>\n",
       "      <th>4381</th>\n",
       "      <td>Jamshedpur HOSUR</td>\n",
       "      <td>OD04D5891</td>\n",
       "      <td>Laxmipuram</td>\n",
       "      <td>91.336389</td>\n",
       "      <td>30.614563</td>\n",
       "      <td>2017-11-25 23:28:26</td>\n",
       "      <td>2017-11-23 10:45:07.426158</td>\n",
       "    </tr>\n",
       "    <tr>\n",
       "      <th>4554</th>\n",
       "      <td>Jamshedpur HOSUR</td>\n",
       "      <td>OD04D5891</td>\n",
       "      <td>Nathavalasa/ Vizianagaram</td>\n",
       "      <td>91.336389</td>\n",
       "      <td>32.302786</td>\n",
       "      <td>2017-11-25 23:28:26</td>\n",
       "      <td>2017-11-23 12:26:25.030558</td>\n",
       "    </tr>\n",
       "    <tr>\n",
       "      <th>4823</th>\n",
       "      <td>Jamshedpur HOSUR</td>\n",
       "      <td>OD04D5891</td>\n",
       "      <td>Vempadu</td>\n",
       "      <td>97.708056</td>\n",
       "      <td>87.350386</td>\n",
       "      <td>2017-11-26 05:50:44</td>\n",
       "      <td>2017-11-25 19:29:16.389386</td>\n",
       "    </tr>\n",
       "    <tr>\n",
       "      <th>4337</th>\n",
       "      <td>Jamshedpur HOSUR</td>\n",
       "      <td>OD04D5891</td>\n",
       "      <td>Krishnavaram</td>\n",
       "      <td>102.237500</td>\n",
       "      <td>89.030039</td>\n",
       "      <td>2017-11-26 10:22:30</td>\n",
       "      <td>2017-11-25 21:10:03.142072</td>\n",
       "    </tr>\n",
       "    <tr>\n",
       "      <th>4243</th>\n",
       "      <td>Jamshedpur HOSUR</td>\n",
       "      <td>OD04D5891</td>\n",
       "      <td>Kalaparru</td>\n",
       "      <td>107.043333</td>\n",
       "      <td>95.091279</td>\n",
       "      <td>2017-11-26 15:10:51</td>\n",
       "      <td>2017-11-26 03:13:43.605561</td>\n",
       "    </tr>\n",
       "    <tr>\n",
       "      <th>4648</th>\n",
       "      <td>Jamshedpur HOSUR</td>\n",
       "      <td>OD04D5891</td>\n",
       "      <td>Pottipadu</td>\n",
       "      <td>107.693333</td>\n",
       "      <td>95.921506</td>\n",
       "      <td>2017-11-26 15:49:51</td>\n",
       "      <td>2017-11-26 04:03:32.421647</td>\n",
       "    </tr>\n",
       "    <tr>\n",
       "      <th>4285</th>\n",
       "      <td>Jamshedpur HOSUR</td>\n",
       "      <td>OD04D5891</td>\n",
       "      <td>Kaza</td>\n",
       "      <td>109.140000</td>\n",
       "      <td>98.081625</td>\n",
       "      <td>2017-11-26 17:16:39</td>\n",
       "      <td>2017-11-26 06:13:08.848883</td>\n",
       "    </tr>\n",
       "    <tr>\n",
       "      <th>3963</th>\n",
       "      <td>Jamshedpur HOSUR</td>\n",
       "      <td>OD04D5891</td>\n",
       "      <td>Bolapalli</td>\n",
       "      <td>111.742778</td>\n",
       "      <td>103.776386</td>\n",
       "      <td>2017-11-26 19:52:49</td>\n",
       "      <td>2017-11-26 11:54:49.989429</td>\n",
       "    </tr>\n",
       "    <tr>\n",
       "      <th>4776</th>\n",
       "      <td>Jamshedpur HOSUR</td>\n",
       "      <td>OD04D5891</td>\n",
       "      <td>Tangutur</td>\n",
       "      <td>113.518056</td>\n",
       "      <td>104.805318</td>\n",
       "      <td>2017-11-26 21:39:20</td>\n",
       "      <td>2017-11-26 12:56:34.144064</td>\n",
       "    </tr>\n",
       "    <tr>\n",
       "      <th>4733</th>\n",
       "      <td>Jamshedpur HOSUR</td>\n",
       "      <td>OD04D5891</td>\n",
       "      <td>Sunambatti (Musunur)</td>\n",
       "      <td>122.180000</td>\n",
       "      <td>125.132008</td>\n",
       "      <td>2017-11-27 06:19:03</td>\n",
       "      <td>2017-11-27 09:16:10.229790</td>\n",
       "    </tr>\n",
       "    <tr>\n",
       "      <th>4867</th>\n",
       "      <td>Jamshedpur HOSUR</td>\n",
       "      <td>OD04D5891</td>\n",
       "      <td>Venkatachallam &amp;#160;(Old Nellore)</td>\n",
       "      <td>123.666111</td>\n",
       "      <td>123.420772</td>\n",
       "      <td>2017-11-27 07:48:13</td>\n",
       "      <td>2017-11-27 07:33:29.777741</td>\n",
       "    </tr>\n",
       "    <tr>\n",
       "      <th>4007</th>\n",
       "      <td>Jamshedpur HOSUR</td>\n",
       "      <td>OD04D5891</td>\n",
       "      <td>Budanam</td>\n",
       "      <td>124.570278</td>\n",
       "      <td>190.446244</td>\n",
       "      <td>2017-11-27 08:42:28</td>\n",
       "      <td>2017-11-30 02:35:01.477795</td>\n",
       "    </tr>\n",
       "    <tr>\n",
       "      <th>4092</th>\n",
       "      <td>Jamshedpur HOSUR</td>\n",
       "      <td>OD04D5891</td>\n",
       "      <td>Gaddurur</td>\n",
       "      <td>134.004722</td>\n",
       "      <td>224.043557</td>\n",
       "      <td>2017-11-27 18:08:32</td>\n",
       "      <td>2017-12-01 12:10:51.804018</td>\n",
       "    </tr>\n",
       "    <tr>\n",
       "      <th>4515</th>\n",
       "      <td>Jamshedpur HOSUR</td>\n",
       "      <td>OD04D5891</td>\n",
       "      <td>Mulbagal</td>\n",
       "      <td>134.925278</td>\n",
       "      <td>187.102122</td>\n",
       "      <td>2017-11-27 19:03:46</td>\n",
       "      <td>2017-11-29 23:14:22.638954</td>\n",
       "    </tr>\n",
       "    <tr>\n",
       "      <th>5037</th>\n",
       "      <td>Jamshedpur INDORE</td>\n",
       "      <td>PB10CH3759</td>\n",
       "      <td>Pundag</td>\n",
       "      <td>16.748611</td>\n",
       "      <td>38.688060</td>\n",
       "      <td>2017-11-30 07:47:54</td>\n",
       "      <td>2017-12-01 05:44:16.016312</td>\n",
       "    </tr>\n",
       "    <tr>\n",
       "      <th>5052</th>\n",
       "      <td>Jamshedpur INDORE</td>\n",
       "      <td>PB10CH3759</td>\n",
       "      <td>Rasoiya Dhamna</td>\n",
       "      <td>20.642778</td>\n",
       "      <td>47.102224</td>\n",
       "      <td>2017-11-30 11:41:33</td>\n",
       "      <td>2017-12-01 14:09:07.007250</td>\n",
       "    </tr>\n",
       "    <tr>\n",
       "      <th>5081</th>\n",
       "      <td>Jamshedpur INDORE</td>\n",
       "      <td>PB10CH3759</td>\n",
       "      <td>Saukala</td>\n",
       "      <td>39.560000</td>\n",
       "      <td>54.503892</td>\n",
       "      <td>2017-12-01 06:36:35</td>\n",
       "      <td>2017-12-01 21:33:13.010302</td>\n",
       "    </tr>\n",
       "    <tr>\n",
       "      <th>5067</th>\n",
       "      <td>Jamshedpur INDORE</td>\n",
       "      <td>PB10CH3759</td>\n",
       "      <td>Sasaram</td>\n",
       "      <td>42.858056</td>\n",
       "      <td>68.581585</td>\n",
       "      <td>2017-12-01 09:54:28</td>\n",
       "      <td>2017-12-02 11:37:52.706922</td>\n",
       "    </tr>\n",
       "    <tr>\n",
       "      <th>5019</th>\n",
       "      <td>Jamshedpur INDORE</td>\n",
       "      <td>PB10CH3759</td>\n",
       "      <td>Mohania</td>\n",
       "      <td>44.411389</td>\n",
       "      <td>82.420816</td>\n",
       "      <td>2017-12-01 11:27:40</td>\n",
       "      <td>2017-12-03 01:28:13.936176</td>\n",
       "    </tr>\n",
       "    <tr>\n",
       "      <th>4926</th>\n",
       "      <td>Jamshedpur INDORE</td>\n",
       "      <td>PB10CH3759</td>\n",
       "      <td>Daffi</td>\n",
       "      <td>47.523333</td>\n",
       "      <td>92.144109</td>\n",
       "      <td>2017-12-01 14:34:23</td>\n",
       "      <td>2017-12-03 11:11:37.793098</td>\n",
       "    </tr>\n",
       "    <tr>\n",
       "      <th>5001</th>\n",
       "      <td>Jamshedpur INDORE</td>\n",
       "      <td>PB10CH3759</td>\n",
       "      <td>Lalanagar</td>\n",
       "      <td>49.730278</td>\n",
       "      <td>95.106709</td>\n",
       "      <td>2017-12-01 16:46:48</td>\n",
       "      <td>2017-12-03 14:09:23.151635</td>\n",
       "    </tr>\n",
       "    <tr>\n",
       "      <th>4905</th>\n",
       "      <td>Jamshedpur INDORE</td>\n",
       "      <td>PB10CH3759</td>\n",
       "      <td>Allahabad Bypass (Khokhraj, Nawabganj, Soraon,...</td>\n",
       "      <td>52.150556</td>\n",
       "      <td>101.509466</td>\n",
       "      <td>2017-12-01 19:12:01</td>\n",
       "      <td>2017-12-03 20:33:33.076481</td>\n",
       "    </tr>\n",
       "    <tr>\n",
       "      <th>4975</th>\n",
       "      <td>Jamshedpur INDORE</td>\n",
       "      <td>PB10CH3759</td>\n",
       "      <td>Katoghan</td>\n",
       "      <td>76.688611</td>\n",
       "      <td>103.454485</td>\n",
       "      <td>2017-12-02 19:44:18</td>\n",
       "      <td>2017-12-03 22:30:15.144541</td>\n",
       "    </tr>\n",
       "    <tr>\n",
       "      <th>4919</th>\n",
       "      <td>Jamshedpur INDORE</td>\n",
       "      <td>PB10CH3759</td>\n",
       "      <td>Badauri</td>\n",
       "      <td>86.420833</td>\n",
       "      <td>123.517724</td>\n",
       "      <td>2017-12-03 05:28:14</td>\n",
       "      <td>2017-12-04 18:34:02.807759</td>\n",
       "    </tr>\n",
       "    <tr>\n",
       "      <th>5094</th>\n",
       "      <td>Jamshedpur INDORE</td>\n",
       "      <td>PB10CH3759</td>\n",
       "      <td>Usaka ( Chamari)</td>\n",
       "      <td>90.806111</td>\n",
       "      <td>148.647988</td>\n",
       "      <td>2017-12-03 09:51:21</td>\n",
       "      <td>2017-12-05 19:41:51.756137</td>\n",
       "    </tr>\n",
       "    <tr>\n",
       "      <th>4899</th>\n",
       "      <td>Jamshedpur INDORE</td>\n",
       "      <td>PB10CH3759</td>\n",
       "      <td>Ait</td>\n",
       "      <td>91.722778</td>\n",
       "      <td>130.298527</td>\n",
       "      <td>2017-12-03 10:46:21</td>\n",
       "      <td>2017-12-05 01:20:53.696008</td>\n",
       "    </tr>\n",
       "    <tr>\n",
       "      <th>5043</th>\n",
       "      <td>Jamshedpur INDORE</td>\n",
       "      <td>PB10CH3759</td>\n",
       "      <td>Raksha</td>\n",
       "      <td>96.366389</td>\n",
       "      <td>153.288106</td>\n",
       "      <td>2017-12-03 15:24:58</td>\n",
       "      <td>2017-12-06 00:20:16.182331</td>\n",
       "    </tr>\n",
       "    <tr>\n",
       "      <th>4936</th>\n",
       "      <td>Jamshedpur INDORE</td>\n",
       "      <td>PB10CH3759</td>\n",
       "      <td>Guna Bypass</td>\n",
       "      <td>113.003889</td>\n",
       "      <td>161.260348</td>\n",
       "      <td>2017-12-04 08:03:13</td>\n",
       "      <td>2017-12-06 08:18:36.254586</td>\n",
       "    </tr>\n",
       "    <tr>\n",
       "      <th>4965</th>\n",
       "      <td>Jamshedpur INDORE</td>\n",
       "      <td>PB10CH3759</td>\n",
       "      <td>Indore Dewas (Indore side)</td>\n",
       "      <td>122.616389</td>\n",
       "      <td>165.697472</td>\n",
       "      <td>2017-12-04 17:39:58</td>\n",
       "      <td>2017-12-06 12:44:49.899884</td>\n",
       "    </tr>\n",
       "    <tr>\n",
       "      <th>4950</th>\n",
       "      <td>Jamshedpur INDORE</td>\n",
       "      <td>PB10CH3759</td>\n",
       "      <td>Indore Dewas  (Indore Bypass)</td>\n",
       "      <td>134.403611</td>\n",
       "      <td>177.252626</td>\n",
       "      <td>2017-12-05 05:27:12</td>\n",
       "      <td>2017-12-07 00:18:08.453889</td>\n",
       "    </tr>\n",
       "    <tr>\n",
       "      <th>5329</th>\n",
       "      <td>Jamshedpur KOLKATA</td>\n",
       "      <td>NL02N3814</td>\n",
       "      <td>Debra</td>\n",
       "      <td>35.776111</td>\n",
       "      <td>25.116224</td>\n",
       "      <td>2017-11-19 13:48:33</td>\n",
       "      <td>2017-11-19 03:08:57.405082</td>\n",
       "    </tr>\n",
       "    <tr>\n",
       "      <th>5363</th>\n",
       "      <td>Jamshedpur KOLKATA</td>\n",
       "      <td>NL02N3814</td>\n",
       "      <td>Jaladhulagori (Dhulagarh)</td>\n",
       "      <td>38.179722</td>\n",
       "      <td>26.377771</td>\n",
       "      <td>2017-11-19 16:12:46</td>\n",
       "      <td>2017-11-19 04:24:38.977368</td>\n",
       "    </tr>\n",
       "    <tr>\n",
       "      <th>5328</th>\n",
       "      <td>Jamshedpur KOLKATA</td>\n",
       "      <td>NL02N3814</td>\n",
       "      <td>Debra</td>\n",
       "      <td>40.685833</td>\n",
       "      <td>28.151075</td>\n",
       "      <td>2017-11-05 07:58:31</td>\n",
       "      <td>2017-11-04 19:26:25.870418</td>\n",
       "    </tr>\n",
       "    <tr>\n",
       "      <th>5330</th>\n",
       "      <td>Jamshedpur KOLKATA</td>\n",
       "      <td>NL02N3814</td>\n",
       "      <td>Debra</td>\n",
       "      <td>47.644444</td>\n",
       "      <td>-1.238375</td>\n",
       "      <td>2017-12-06 16:17:42</td>\n",
       "      <td>2017-12-04 15:24:43.851099</td>\n",
       "    </tr>\n",
       "  </tbody>\n",
       "</table>\n",
       "</div>"
      ],
      "text/plain": [
       "                   route  vehicle_no  \\\n",
       "4690    Jamshedpur HOSUR   OD04D5891   \n",
       "4601    Jamshedpur HOSUR   OD04D5891   \n",
       "4473    Jamshedpur HOSUR   OD04D5891   \n",
       "4132    Jamshedpur HOSUR   OD04D5891   \n",
       "4177    Jamshedpur HOSUR   OD04D5891   \n",
       "3929    Jamshedpur HOSUR   OD04D5891   \n",
       "4425    Jamshedpur HOSUR   OD04D5891   \n",
       "4051    Jamshedpur HOSUR   OD04D5891   \n",
       "4381    Jamshedpur HOSUR   OD04D5891   \n",
       "4554    Jamshedpur HOSUR   OD04D5891   \n",
       "4823    Jamshedpur HOSUR   OD04D5891   \n",
       "4337    Jamshedpur HOSUR   OD04D5891   \n",
       "4243    Jamshedpur HOSUR   OD04D5891   \n",
       "4648    Jamshedpur HOSUR   OD04D5891   \n",
       "4285    Jamshedpur HOSUR   OD04D5891   \n",
       "3963    Jamshedpur HOSUR   OD04D5891   \n",
       "4776    Jamshedpur HOSUR   OD04D5891   \n",
       "4733    Jamshedpur HOSUR   OD04D5891   \n",
       "4867    Jamshedpur HOSUR   OD04D5891   \n",
       "4007    Jamshedpur HOSUR   OD04D5891   \n",
       "4092    Jamshedpur HOSUR   OD04D5891   \n",
       "4515    Jamshedpur HOSUR   OD04D5891   \n",
       "5037   Jamshedpur INDORE  PB10CH3759   \n",
       "5052   Jamshedpur INDORE  PB10CH3759   \n",
       "5081   Jamshedpur INDORE  PB10CH3759   \n",
       "5067   Jamshedpur INDORE  PB10CH3759   \n",
       "5019   Jamshedpur INDORE  PB10CH3759   \n",
       "4926   Jamshedpur INDORE  PB10CH3759   \n",
       "5001   Jamshedpur INDORE  PB10CH3759   \n",
       "4905   Jamshedpur INDORE  PB10CH3759   \n",
       "4975   Jamshedpur INDORE  PB10CH3759   \n",
       "4919   Jamshedpur INDORE  PB10CH3759   \n",
       "5094   Jamshedpur INDORE  PB10CH3759   \n",
       "4899   Jamshedpur INDORE  PB10CH3759   \n",
       "5043   Jamshedpur INDORE  PB10CH3759   \n",
       "4936   Jamshedpur INDORE  PB10CH3759   \n",
       "4965   Jamshedpur INDORE  PB10CH3759   \n",
       "4950   Jamshedpur INDORE  PB10CH3759   \n",
       "5329  Jamshedpur KOLKATA   NL02N3814   \n",
       "5363  Jamshedpur KOLKATA   NL02N3814   \n",
       "5328  Jamshedpur KOLKATA   NL02N3814   \n",
       "5330  Jamshedpur KOLKATA   NL02N3814   \n",
       "\n",
       "                                              toll_both  time_taken  \\\n",
       "4690                                           Sergrarh   63.595833   \n",
       "4601                                          Panikholi   66.002222   \n",
       "4473                                            Manguli   67.488056   \n",
       "4132                           Gudipada (Old Gangapada)   68.857500   \n",
       "4177                                          Gurapalli   71.043611   \n",
       "3929                                          Bellupada   85.191111   \n",
       "4425                                            Madapam   89.519722   \n",
       "4051                                       Chilakapalem   90.272500   \n",
       "4381                                         Laxmipuram   91.336389   \n",
       "4554                          Nathavalasa/ Vizianagaram   91.336389   \n",
       "4823                                            Vempadu   97.708056   \n",
       "4337                                       Krishnavaram  102.237500   \n",
       "4243                                          Kalaparru  107.043333   \n",
       "4648                                          Pottipadu  107.693333   \n",
       "4285                                               Kaza  109.140000   \n",
       "3963                                          Bolapalli  111.742778   \n",
       "4776                                           Tangutur  113.518056   \n",
       "4733                               Sunambatti (Musunur)  122.180000   \n",
       "4867                 Venkatachallam &#160;(Old Nellore)  123.666111   \n",
       "4007                                            Budanam  124.570278   \n",
       "4092                                           Gaddurur  134.004722   \n",
       "4515                                           Mulbagal  134.925278   \n",
       "5037                                             Pundag   16.748611   \n",
       "5052                                     Rasoiya Dhamna   20.642778   \n",
       "5081                                            Saukala   39.560000   \n",
       "5067                                            Sasaram   42.858056   \n",
       "5019                                            Mohania   44.411389   \n",
       "4926                                              Daffi   47.523333   \n",
       "5001                                          Lalanagar   49.730278   \n",
       "4905  Allahabad Bypass (Khokhraj, Nawabganj, Soraon,...   52.150556   \n",
       "4975                                           Katoghan   76.688611   \n",
       "4919                                            Badauri   86.420833   \n",
       "5094                                   Usaka ( Chamari)   90.806111   \n",
       "4899                                                Ait   91.722778   \n",
       "5043                                             Raksha   96.366389   \n",
       "4936                                        Guna Bypass  113.003889   \n",
       "4965                         Indore Dewas (Indore side)  122.616389   \n",
       "4950                      Indore Dewas  (Indore Bypass)  134.403611   \n",
       "5329                                              Debra   35.776111   \n",
       "5363                          Jaladhulagori (Dhulagarh)   38.179722   \n",
       "5328                                              Debra   40.685833   \n",
       "5330                                              Debra   47.644444   \n",
       "\n",
       "       predicted       ist_timestamp    predicted_ist_timestamp  \n",
       "4690   47.942221 2017-11-24 19:44:00 2017-11-24 04:04:46.997242  \n",
       "4601   57.414666 2017-11-24 22:08:23 2017-11-24 13:33:07.795995  \n",
       "4473   17.296586 2017-11-24 23:37:32 2017-11-22 21:26:02.709459  \n",
       "4132   16.947158 2017-11-25 00:59:42 2017-11-22 21:05:04.769963  \n",
       "4177   22.374168 2017-11-25 03:10:52 2017-11-23 02:30:42.003650  \n",
       "3929   25.347423 2017-11-25 17:19:43 2017-11-23 05:29:05.724251  \n",
       "4425   27.767510 2017-11-25 21:39:26 2017-11-23 07:54:18.035827  \n",
       "4051   27.839374 2017-11-25 22:24:36 2017-11-23 07:58:36.745714  \n",
       "4381   30.614563 2017-11-25 23:28:26 2017-11-23 10:45:07.426158  \n",
       "4554   32.302786 2017-11-25 23:28:26 2017-11-23 12:26:25.030558  \n",
       "4823   87.350386 2017-11-26 05:50:44 2017-11-25 19:29:16.389386  \n",
       "4337   89.030039 2017-11-26 10:22:30 2017-11-25 21:10:03.142072  \n",
       "4243   95.091279 2017-11-26 15:10:51 2017-11-26 03:13:43.605561  \n",
       "4648   95.921506 2017-11-26 15:49:51 2017-11-26 04:03:32.421647  \n",
       "4285   98.081625 2017-11-26 17:16:39 2017-11-26 06:13:08.848883  \n",
       "3963  103.776386 2017-11-26 19:52:49 2017-11-26 11:54:49.989429  \n",
       "4776  104.805318 2017-11-26 21:39:20 2017-11-26 12:56:34.144064  \n",
       "4733  125.132008 2017-11-27 06:19:03 2017-11-27 09:16:10.229790  \n",
       "4867  123.420772 2017-11-27 07:48:13 2017-11-27 07:33:29.777741  \n",
       "4007  190.446244 2017-11-27 08:42:28 2017-11-30 02:35:01.477795  \n",
       "4092  224.043557 2017-11-27 18:08:32 2017-12-01 12:10:51.804018  \n",
       "4515  187.102122 2017-11-27 19:03:46 2017-11-29 23:14:22.638954  \n",
       "5037   38.688060 2017-11-30 07:47:54 2017-12-01 05:44:16.016312  \n",
       "5052   47.102224 2017-11-30 11:41:33 2017-12-01 14:09:07.007250  \n",
       "5081   54.503892 2017-12-01 06:36:35 2017-12-01 21:33:13.010302  \n",
       "5067   68.581585 2017-12-01 09:54:28 2017-12-02 11:37:52.706922  \n",
       "5019   82.420816 2017-12-01 11:27:40 2017-12-03 01:28:13.936176  \n",
       "4926   92.144109 2017-12-01 14:34:23 2017-12-03 11:11:37.793098  \n",
       "5001   95.106709 2017-12-01 16:46:48 2017-12-03 14:09:23.151635  \n",
       "4905  101.509466 2017-12-01 19:12:01 2017-12-03 20:33:33.076481  \n",
       "4975  103.454485 2017-12-02 19:44:18 2017-12-03 22:30:15.144541  \n",
       "4919  123.517724 2017-12-03 05:28:14 2017-12-04 18:34:02.807759  \n",
       "5094  148.647988 2017-12-03 09:51:21 2017-12-05 19:41:51.756137  \n",
       "4899  130.298527 2017-12-03 10:46:21 2017-12-05 01:20:53.696008  \n",
       "5043  153.288106 2017-12-03 15:24:58 2017-12-06 00:20:16.182331  \n",
       "4936  161.260348 2017-12-04 08:03:13 2017-12-06 08:18:36.254586  \n",
       "4965  165.697472 2017-12-04 17:39:58 2017-12-06 12:44:49.899884  \n",
       "4950  177.252626 2017-12-05 05:27:12 2017-12-07 00:18:08.453889  \n",
       "5329   25.116224 2017-11-19 13:48:33 2017-11-19 03:08:57.405082  \n",
       "5363   26.377771 2017-11-19 16:12:46 2017-11-19 04:24:38.977368  \n",
       "5328   28.151075 2017-11-05 07:58:31 2017-11-04 19:26:25.870418  \n",
       "5330   -1.238375 2017-12-06 16:17:42 2017-12-04 15:24:43.851099  "
      ]
     },
     "execution_count": 155,
     "metadata": {},
     "output_type": "execute_result"
    }
   ],
   "source": [
    "show_df[['route','vehicle_no','toll_both','time_taken','predicted','ist_timestamp','predicted_ist_timestamp']]"
   ]
  },
  {
   "cell_type": "code",
   "execution_count": null,
   "metadata": {},
   "outputs": [],
   "source": []
  },
  {
   "cell_type": "code",
   "execution_count": null,
   "metadata": {},
   "outputs": [],
   "source": []
  }
 ],
 "metadata": {
  "kernelspec": {
   "display_name": "Python 2",
   "language": "python",
   "name": "python2"
  },
  "language_info": {
   "codemirror_mode": {
    "name": "ipython",
    "version": 2
   },
   "file_extension": ".py",
   "mimetype": "text/x-python",
   "name": "python",
   "nbconvert_exporter": "python",
   "pygments_lexer": "ipython2",
   "version": "2.7.12"
  }
 },
 "nbformat": 4,
 "nbformat_minor": 2
}
