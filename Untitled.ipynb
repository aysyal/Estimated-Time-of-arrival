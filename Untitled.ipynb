{
 "cells": [
  {
   "cell_type": "code",
   "execution_count": null,
   "metadata": {},
   "outputs": [],
   "source": [
    "import sqlite3\n",
    "import mysql.connector\n",
    "import pandas as pd\n",
    "import getpass\n",
    "\n",
    "# Open the file\n",
    "f = open('gps_development.csv', 'w')\n",
    "# Create a connection and get a cursor\n",
    "password = getpass.getpass('Enter your mysql password: ')\n",
    "cnx = mysql.connector.connect(user='root', password=password, database='gps_development')\n",
    "cursor = cnx.cursor()\n",
    "\n",
    "consigner_data = pd.read_sql('SELECT * FROM daily_histories;', cnx )"
   ]
  },
  {
   "cell_type": "code",
   "execution_count": null,
   "metadata": {},
   "outputs": [],
   "source": []
  },
  {
   "cell_type": "code",
   "execution_count": 15,
   "metadata": {
    "collapsed": true
   },
   "outputs": [
    {
     "data": {
      "text/plain": [
       "id                               int64\n",
       "trucker_id                       int64\n",
       "truck_id                         int64\n",
       "shipper_id                       int64\n",
       "consigner_id                     int64\n",
       "consignee_id                    object\n",
       "source                          object\n",
       "data_string                     object\n",
       "invoice_no                      object\n",
       "lorry_receipt_no                object\n",
       "consigner_name                  object\n",
       "consignee_name                  object\n",
       "transporter                     object\n",
       "eta                             object\n",
       "origin                          object\n",
       "destination                     object\n",
       "loading_area                    object\n",
       "start_date                      object\n",
       "end_date                        object\n",
       "closed_by                       object\n",
       "closed_date             datetime64[ns]\n",
       "is_active                        int64\n",
       "created_at              datetime64[ns]\n",
       "updated_at              datetime64[ns]\n",
       "slug                            object\n",
       "card_no                         object\n",
       "vehicle_entry_time              object\n",
       "vehicle_exit_time               object\n",
       "vehicle_no                      object\n",
       "status                          object\n",
       "state                           object\n",
       "consigner_pincode_id            object\n",
       "consignee_pincode_id           float64\n",
       "consignee_lat                  float64\n",
       "consignee_long                 float64\n",
       "closure_reason                  object\n",
       "consigner_code                  object\n",
       "consigner_lat                  float64\n",
       "consigner_long                 float64\n",
       "dtype: object"
      ]
     },
     "execution_count": 15,
     "metadata": {},
     "output_type": "execute_result"
    }
   ],
   "source": [
    "consigner_data.dtypes"
   ]
  },
  {
   "cell_type": "code",
   "execution_count": 7,
   "metadata": {
    "scrolled": false
   },
   "outputs": [
    {
     "data": {
      "text/plain": [
       "(449, 39)"
      ]
     },
     "execution_count": 7,
     "metadata": {},
     "output_type": "execute_result"
    }
   ],
   "source": [
    "consigner_data.shape"
   ]
  },
  {
   "cell_type": "code",
   "execution_count": 28,
   "metadata": {},
   "outputs": [
    {
     "name": "stdout",
     "output_type": "stream",
     "text": [
      "consignee_id\n",
      "source\n",
      "lorry_receipt_no\n",
      "loading_area\n",
      "end_date\n",
      "consigner_pincode_id\n"
     ]
    }
   ],
   "source": [
    "for col in consigner_data.columns:\n",
    "    if consigner_data[col].isnull().sum() > 448:\n",
    "        print col"
   ]
  },
  {
   "cell_type": "code",
   "execution_count": 31,
   "metadata": {},
   "outputs": [
    {
     "data": {
      "text/plain": [
       "Early    1\n",
       "Name: status, dtype: int64"
      ]
     },
     "execution_count": 31,
     "metadata": {},
     "output_type": "execute_result"
    }
   ],
   "source": [
    "consigner_data['status'].value_counts()"
   ]
  },
  {
   "cell_type": "code",
   "execution_count": 35,
   "metadata": {},
   "outputs": [
    {
     "data": {
      "text/plain": [
       "448"
      ]
     },
     "execution_count": 35,
     "metadata": {},
     "output_type": "execute_result"
    }
   ],
   "source": [
    "consigner_data['status'].isnull().sum()"
   ]
  },
  {
   "cell_type": "code",
   "execution_count": null,
   "metadata": {},
   "outputs": [],
   "source": [
    " "
   ]
  },
  {
   "cell_type": "code",
   "execution_count": null,
   "metadata": {},
   "outputs": [],
   "source": []
  }
 ],
 "metadata": {
  "kernelspec": {
   "display_name": "Python 2",
   "language": "python",
   "name": "python2"
  },
  "language_info": {
   "codemirror_mode": {
    "name": "ipython",
    "version": 2
   },
   "file_extension": ".py",
   "mimetype": "text/x-python",
   "name": "python",
   "nbconvert_exporter": "python",
   "pygments_lexer": "ipython2",
   "version": "2.7.12"
  }
 },
 "nbformat": 4,
 "nbformat_minor": 2
}
