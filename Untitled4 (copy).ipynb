{
 "cells": [
  {
   "cell_type": "code",
   "execution_count": 1,
   "metadata": {},
   "outputs": [
    {
     "data": {
      "text/html": [
       "<script>requirejs.config({paths: { 'plotly': ['https://cdn.plot.ly/plotly-latest.min']},});if(!window.Plotly) {{require(['plotly'],function(plotly) {window.Plotly=plotly;});}}</script>"
      ],
      "text/vnd.plotly.v1+html": [
       "<script>requirejs.config({paths: { 'plotly': ['https://cdn.plot.ly/plotly-latest.min']},});if(!window.Plotly) {{require(['plotly'],function(plotly) {window.Plotly=plotly;});}}</script>"
      ]
     },
     "metadata": {},
     "output_type": "display_data"
    },
    {
     "name": "stderr",
     "output_type": "stream",
     "text": [
      "/usr/local/lib/python2.7/dist-packages/sklearn/cross_validation.py:41: DeprecationWarning:\n",
      "\n",
      "This module was deprecated in version 0.18 in favor of the model_selection module into which all the refactored classes and functions are moved. Also note that the interface of the new CV iterators are different from that of this module. This module will be removed in 0.20.\n",
      "\n"
     ]
    }
   ],
   "source": [
    "import sqlite3\n",
    "import numpy as np\n",
    "import mysql.connector\n",
    "import pandas as pd\n",
    "import getpass\n",
    "import seaborn as sns\n",
    "import matplotlib.pyplot as plt\n",
    "import plotly\n",
    "plotly.tools.set_credentials_file(username='mainakchain', api_key='B9m4DVrYYmsoW3jDSiok')\n",
    "import plotly.plotly as py\n",
    "import plotly.graph_objs as go\n",
    "from plotly import __version__\n",
    "from plotly.offline import download_plotlyjs, init_notebook_mode, plot, iplot\n",
    "import cufflinks as cf\n",
    "init_notebook_mode(connected=True)\n",
    "import plotly.figure_factory as ff\n",
    "from scipy import stats\n",
    "from sklearn.utils import shuffle\n",
    "from sklearn.neural_network import MLPRegressor\n",
    "from sklearn.neural_network import MLPClassifier\n",
    "from sklearn.ensemble import RandomForestRegressor\n",
    "from sklearn.preprocessing import LabelEncoder\n",
    "from sklearn.preprocessing import StandardScaler\n",
    "from sklearn.model_selection import train_test_split\n",
    "from datetime import timedelta\n",
    "from sklearn.ensemble import RandomForestRegressor\n",
    "import datetime\n",
    "import holidays\n",
    "from sklearn.model_selection import cross_val_score\n",
    "from sklearn.metrics import median_absolute_error\n",
    "from sklearn.model_selection import GridSearchCV\n",
    "from sklearn.cross_validation import StratifiedKFold\n",
    "from sklearn.linear_model import LinearRegression\n",
    "from sklearn.preprocessing import MinMaxScaler\n",
    "from sklearn.svm import LinearSVR\n",
    "from sklearn.svm import SVR"
   ]
  },
  {
   "cell_type": "code",
   "execution_count": 2,
   "metadata": {},
   "outputs": [],
   "source": [
    "toll_time = pd.read_csv('toll_time.csv')"
   ]
  },
  {
   "cell_type": "code",
   "execution_count": 3,
   "metadata": {},
   "outputs": [
    {
     "data": {
      "text/plain": [
       "(6425, 18)"
      ]
     },
     "execution_count": 3,
     "metadata": {},
     "output_type": "execute_result"
    }
   ],
   "source": [
    "toll_time.shape"
   ]
  },
  {
   "cell_type": "code",
   "execution_count": 4,
   "metadata": {},
   "outputs": [],
   "source": [
    "# new_toll_time = toll_time[toll_time['origin'] == 'Jamshedpur'][toll_time['destination'] == 'HOSUR']"
   ]
  },
  {
   "cell_type": "code",
   "execution_count": 5,
   "metadata": {},
   "outputs": [],
   "source": [
    "toll_time['route'] = toll_time['origin'] + ' ' + toll_time['destination']"
   ]
  },
  {
   "cell_type": "code",
   "execution_count": 6,
   "metadata": {},
   "outputs": [],
   "source": [
    "def change_route_to_dummy(df):\n",
    "    num = 1\n",
    "    dict_route = {}\n",
    "    for r in df['route'].unique().tolist():\n",
    "        df['route'] = df['route'].replace({r: num})\n",
    "        dict_route[num] = r\n",
    "        num += 1\n",
    "    return dict_route"
   ]
  },
  {
   "cell_type": "code",
   "execution_count": 7,
   "metadata": {},
   "outputs": [],
   "source": [
    "dict_route = change_route_to_dummy(toll_time)"
   ]
  },
  {
   "cell_type": "code",
   "execution_count": 8,
   "metadata": {},
   "outputs": [
    {
     "data": {
      "text/plain": [
       "(6425, 19)"
      ]
     },
     "execution_count": 8,
     "metadata": {},
     "output_type": "execute_result"
    }
   ],
   "source": [
    "toll_time.shape"
   ]
  },
  {
   "cell_type": "code",
   "execution_count": 9,
   "metadata": {},
   "outputs": [
    {
     "data": {
      "text/plain": [
       "12    990\n",
       "7     979\n",
       "9     627\n",
       "11    548\n",
       "19    452\n",
       "8     436\n",
       "10    418\n",
       "5     367\n",
       "4     270\n",
       "18    261\n",
       "17    249\n",
       "14    204\n",
       "13    201\n",
       "1     177\n",
       "16     90\n",
       "15     74\n",
       "3      50\n",
       "2      29\n",
       "6       3\n",
       "Name: route, dtype: int64"
      ]
     },
     "execution_count": 9,
     "metadata": {},
     "output_type": "execute_result"
    }
   ],
   "source": [
    "toll_time.route.value_counts()"
   ]
  },
  {
   "cell_type": "code",
   "execution_count": 10,
   "metadata": {},
   "outputs": [],
   "source": [
    "new_toll_time = toll_time.copy()"
   ]
  },
  {
   "cell_type": "code",
   "execution_count": 11,
   "metadata": {},
   "outputs": [],
   "source": [
    "today_date = datetime.datetime.now()\n",
    "today_date.strftime(\"%Y-%m-%d %H:%M:%S\")\n",
    "today = today_date.strftime(\"%Y-%m-%d %H:%M:%S\")\n",
    "new_toll_time['today'] = datetime.datetime.strptime(today, '%Y-%m-%d %H:%M:%S')"
   ]
  },
  {
   "cell_type": "code",
   "execution_count": 12,
   "metadata": {},
   "outputs": [
    {
     "data": {
      "text/plain": [
       "Unnamed: 0                     int64\n",
       "origin                        object\n",
       "destination                   object\n",
       "toll_both                     object\n",
       "vehicle_no                    object\n",
       "loading_out_time              object\n",
       "odometer_km                  float64\n",
       "ist_timestamp                 object\n",
       "distance_from_toll           float64\n",
       "loading_in_time               object\n",
       "start_date                    object\n",
       "eta                           object\n",
       "unloading_in_time             object\n",
       "slug                          object\n",
       "delivery_status               object\n",
       "distance_travelled           float64\n",
       "late_by_hrs                  float64\n",
       "time_taken                   float64\n",
       "route                          int64\n",
       "today                 datetime64[ns]\n",
       "dtype: object"
      ]
     },
     "execution_count": 12,
     "metadata": {},
     "output_type": "execute_result"
    }
   ],
   "source": [
    "new_toll_time.dtypes"
   ]
  },
  {
   "cell_type": "code",
   "execution_count": 13,
   "metadata": {},
   "outputs": [],
   "source": [
    "new_toll_time['start_date'] = new_toll_time['start_date'].apply(lambda x:datetime.datetime.strptime(x, '%Y-%m-%d %H:%M:%S') )\n",
    "new_toll_time['days_from_now'] = new_toll_time['today'] - new_toll_time['start_date'] \n",
    "new_toll_time['days_from_now'] = new_toll_time['days_from_now'].apply(lambda x: x.days)"
   ]
  },
  {
   "cell_type": "code",
   "execution_count": 14,
   "metadata": {},
   "outputs": [],
   "source": [
    "new_toll_time['unloading_in_time'] = new_toll_time['unloading_in_time'].apply(lambda x:datetime.datetime.strptime(x, '%Y-%m-%d %H:%M:%S') )\n",
    "new_toll_time['avg_travel_time'] = new_toll_time['start_date'] + (new_toll_time['unloading_in_time'] - new_toll_time['start_date'])/2"
   ]
  },
  {
   "cell_type": "code",
   "execution_count": 15,
   "metadata": {},
   "outputs": [],
   "source": [
    "new_toll_time['month_of_travel'] = new_toll_time['avg_travel_time'].apply(lambda x: x.month)"
   ]
  },
  {
   "cell_type": "code",
   "execution_count": 16,
   "metadata": {},
   "outputs": [],
   "source": [
    "new_toll_time['ist_timestamp'] = new_toll_time['ist_timestamp'].apply(lambda x:datetime.datetime.strptime(x, '%Y-%m-%d %H:%M:%S'))\n",
    "new_toll_time['time_of_travel'] = new_toll_time.ist_timestamp.apply(lambda x: x.hour)"
   ]
  },
  {
   "cell_type": "code",
   "execution_count": 17,
   "metadata": {},
   "outputs": [],
   "source": [
    "new_toll_time['time_of_travel'] = new_toll_time['time_of_travel'].replace({3:'midnight',4:'midnight',5:'midnight',6:'midnight'})\n",
    "new_toll_time['time_of_travel'] = new_toll_time['time_of_travel'].replace({7:'morning',8:'morning',9:'morning',10:'morning'})\n",
    "new_toll_time['time_of_travel'] = new_toll_time['time_of_travel'].replace({11:'noon',12:'noon',13:'noon',14:'noon'})\n",
    "new_toll_time['time_of_travel'] = new_toll_time['time_of_travel'].replace({15:'afternoon',16:'afternoon',17:'afternoon',18:'afternoon'})\n",
    "new_toll_time['time_of_travel'] = new_toll_time['time_of_travel'].replace({19:'evening',20:'evening',21:'evening',22:'evening'})\n",
    "new_toll_time['time_of_travel'] = new_toll_time['time_of_travel'].replace({23:'night',0:'night',1:'night',2:'night'})\n",
    "\n",
    "new_toll_time['time_of_travel'] = new_toll_time['time_of_travel'].replace({'midnight':1,'morning':2,'noon':3,'afternoon':4,'evening':5,'night':6})"
   ]
  },
  {
   "cell_type": "code",
   "execution_count": 18,
   "metadata": {},
   "outputs": [],
   "source": [
    "new_toll_time['day_of_travel'] = new_toll_time['avg_travel_time'].apply(lambda x: x.weekday())"
   ]
  },
  {
   "cell_type": "code",
   "execution_count": 19,
   "metadata": {},
   "outputs": [],
   "source": [
    "new_toll_time['season_of_travel'] = new_toll_time['month_of_travel'].replace({12:'Winter',1:'Winter',2:'Winter'})\n",
    "new_toll_time['season_of_travel'] = new_toll_time['season_of_travel'].replace({3:'Summer',4:'Summer',5:'Summer'})\n",
    "new_toll_time['season_of_travel'] = new_toll_time['season_of_travel'].replace({6:'Rainy',7:'Rainy',8:'Rainy',9:'Rainy'})\n",
    "new_toll_time['season_of_travel'] = new_toll_time['season_of_travel'].replace({10:'Autumn',11:'Autumn'})\n",
    "\n",
    "new_toll_time['season_of_travel'] = new_toll_time['season_of_travel'].replace({'Winter':1,'Summer':2,'Rainy':3,'Autumn':4})"
   ]
  },
  {
   "cell_type": "code",
   "execution_count": 20,
   "metadata": {},
   "outputs": [],
   "source": [
    "def change_vehicle_no_to_dummy(df):\n",
    "    num = 1\n",
    "    dict_vehicle_no = {}\n",
    "    for truck in df['vehicle_no'].unique().tolist():\n",
    "        df['vehicle_no'] = df['vehicle_no'].replace({truck: num})\n",
    "        dict_vehicle_no[num] = truck\n",
    "        num += 1\n",
    "    return dict_vehicle_no"
   ]
  },
  {
   "cell_type": "code",
   "execution_count": 21,
   "metadata": {},
   "outputs": [],
   "source": [
    "def change_toll_booth_to_dummy(df):\n",
    "    num = 1\n",
    "    dict_toll_both = {}\n",
    "    for toll in df['toll_both'].unique().tolist():\n",
    "        df['toll_both'] = df['toll_both'].replace({toll: num})\n",
    "        dict_toll_both[num] = toll\n",
    "        num += 1\n",
    "    return dict_toll_both"
   ]
  },
  {
   "cell_type": "code",
   "execution_count": 22,
   "metadata": {},
   "outputs": [],
   "source": [
    "dict_toll_both = change_toll_booth_to_dummy(new_toll_time)"
   ]
  },
  {
   "cell_type": "code",
   "execution_count": 23,
   "metadata": {},
   "outputs": [],
   "source": [
    "def change_delivery_status_to_dummy(df):\n",
    "    df['delivery_status'] = df['delivery_status'].replace({'early':1,'on-time':2,'late':3})"
   ]
  },
  {
   "cell_type": "code",
   "execution_count": 24,
   "metadata": {},
   "outputs": [],
   "source": [
    "new_toll_time['loading_out_time'] = new_toll_time['loading_out_time'].apply(lambda x:datetime.datetime.strptime(x, '%Y-%m-%d %H:%M:%S') )\n"
   ]
  },
  {
   "cell_type": "code",
   "execution_count": 25,
   "metadata": {},
   "outputs": [],
   "source": [
    "new_toll_time = new_toll_time.sort_values(['route','vehicle_no','time_taken'])"
   ]
  },
  {
   "cell_type": "code",
   "execution_count": 26,
   "metadata": {},
   "outputs": [],
   "source": [
    "def time_between_toll(df):\n",
    "    for truck in df.vehicle_no.unique().tolist():\n",
    "        for route in df.route.unique().tolist():\n",
    "            if df[(df.vehicle_no == truck) & (df.route == route)].shape[0] == 1:\n",
    "                continue\n",
    "            elif df[(df.vehicle_no == truck) & (df.route == route)].shape[0] > 1 :\n",
    "                df['time_btn_toll'][(df['vehicle_no'] == truck) & (df['route'] == route)] = df['time_taken'][(df['vehicle_no'] == truck) & (df['route'] == route)].diff()\n",
    "            else:\n",
    "                continue\n",
    "    return df"
   ]
  },
  {
   "cell_type": "code",
   "execution_count": 27,
   "metadata": {
    "collapsed": true
   },
   "outputs": [
    {
     "name": "stderr",
     "output_type": "stream",
     "text": [
      "/usr/local/lib/python2.7/dist-packages/ipykernel_launcher.py:7: SettingWithCopyWarning:\n",
      "\n",
      "\n",
      "A value is trying to be set on a copy of a slice from a DataFrame\n",
      "\n",
      "See the caveats in the documentation: http://pandas.pydata.org/pandas-docs/stable/indexing.html#indexing-view-versus-copy\n",
      "\n"
     ]
    },
    {
     "ename": "KeyboardInterrupt",
     "evalue": "",
     "output_type": "error",
     "traceback": [
      "\u001b[0;31m---------------------------------------------------------------------------\u001b[0m",
      "\u001b[0;31mKeyboardInterrupt\u001b[0m                         Traceback (most recent call last)",
      "\u001b[0;32m<ipython-input-27-d5b68770ce7e>\u001b[0m in \u001b[0;36m<module>\u001b[0;34m()\u001b[0m\n\u001b[1;32m      1\u001b[0m \u001b[0mnew_toll_time\u001b[0m\u001b[0;34m[\u001b[0m\u001b[0;34m'time_btn_toll'\u001b[0m\u001b[0;34m]\u001b[0m \u001b[0;34m=\u001b[0m \u001b[0;36m0\u001b[0m\u001b[0;34m\u001b[0m\u001b[0m\n\u001b[0;32m----> 2\u001b[0;31m \u001b[0mnew_toll_time\u001b[0m \u001b[0;34m=\u001b[0m \u001b[0mtime_between_toll\u001b[0m\u001b[0;34m(\u001b[0m\u001b[0mnew_toll_time\u001b[0m\u001b[0;34m)\u001b[0m\u001b[0;34m\u001b[0m\u001b[0m\n\u001b[0m\u001b[1;32m      3\u001b[0m \u001b[0mnew_toll_time\u001b[0m\u001b[0;34m[\u001b[0m\u001b[0;34m'time_btn_toll'\u001b[0m\u001b[0;34m]\u001b[0m \u001b[0;34m=\u001b[0m \u001b[0mnew_toll_time\u001b[0m\u001b[0;34m[\u001b[0m\u001b[0;34m'time_btn_toll'\u001b[0m\u001b[0;34m]\u001b[0m\u001b[0;34m.\u001b[0m\u001b[0mfillna\u001b[0m\u001b[0;34m(\u001b[0m\u001b[0;36m0\u001b[0m\u001b[0;34m)\u001b[0m\u001b[0;34m\u001b[0m\u001b[0m\n",
      "\u001b[0;32m<ipython-input-26-753e90d98f52>\u001b[0m in \u001b[0;36mtime_between_toll\u001b[0;34m(df)\u001b[0m\n\u001b[1;32m      2\u001b[0m     \u001b[0;32mfor\u001b[0m \u001b[0mtruck\u001b[0m \u001b[0;32min\u001b[0m \u001b[0mdf\u001b[0m\u001b[0;34m.\u001b[0m\u001b[0mvehicle_no\u001b[0m\u001b[0;34m.\u001b[0m\u001b[0munique\u001b[0m\u001b[0;34m(\u001b[0m\u001b[0;34m)\u001b[0m\u001b[0;34m.\u001b[0m\u001b[0mtolist\u001b[0m\u001b[0;34m(\u001b[0m\u001b[0;34m)\u001b[0m\u001b[0;34m:\u001b[0m\u001b[0;34m\u001b[0m\u001b[0m\n\u001b[1;32m      3\u001b[0m         \u001b[0;32mfor\u001b[0m \u001b[0mroute\u001b[0m \u001b[0;32min\u001b[0m \u001b[0mdf\u001b[0m\u001b[0;34m.\u001b[0m\u001b[0mroute\u001b[0m\u001b[0;34m.\u001b[0m\u001b[0munique\u001b[0m\u001b[0;34m(\u001b[0m\u001b[0;34m)\u001b[0m\u001b[0;34m.\u001b[0m\u001b[0mtolist\u001b[0m\u001b[0;34m(\u001b[0m\u001b[0;34m)\u001b[0m\u001b[0;34m:\u001b[0m\u001b[0;34m\u001b[0m\u001b[0m\n\u001b[0;32m----> 4\u001b[0;31m             \u001b[0;32mif\u001b[0m \u001b[0mdf\u001b[0m\u001b[0;34m[\u001b[0m\u001b[0;34m(\u001b[0m\u001b[0mdf\u001b[0m\u001b[0;34m.\u001b[0m\u001b[0mvehicle_no\u001b[0m \u001b[0;34m==\u001b[0m \u001b[0mtruck\u001b[0m\u001b[0;34m)\u001b[0m \u001b[0;34m&\u001b[0m \u001b[0;34m(\u001b[0m\u001b[0mdf\u001b[0m\u001b[0;34m.\u001b[0m\u001b[0mroute\u001b[0m \u001b[0;34m==\u001b[0m \u001b[0mroute\u001b[0m\u001b[0;34m)\u001b[0m\u001b[0;34m]\u001b[0m\u001b[0;34m.\u001b[0m\u001b[0mshape\u001b[0m\u001b[0;34m[\u001b[0m\u001b[0;36m0\u001b[0m\u001b[0;34m]\u001b[0m \u001b[0;34m==\u001b[0m \u001b[0;36m1\u001b[0m\u001b[0;34m:\u001b[0m\u001b[0;34m\u001b[0m\u001b[0m\n\u001b[0m\u001b[1;32m      5\u001b[0m                 \u001b[0;32mcontinue\u001b[0m\u001b[0;34m\u001b[0m\u001b[0m\n\u001b[1;32m      6\u001b[0m             \u001b[0;32melif\u001b[0m \u001b[0mdf\u001b[0m\u001b[0;34m[\u001b[0m\u001b[0;34m(\u001b[0m\u001b[0mdf\u001b[0m\u001b[0;34m.\u001b[0m\u001b[0mvehicle_no\u001b[0m \u001b[0;34m==\u001b[0m \u001b[0mtruck\u001b[0m\u001b[0;34m)\u001b[0m \u001b[0;34m&\u001b[0m \u001b[0;34m(\u001b[0m\u001b[0mdf\u001b[0m\u001b[0;34m.\u001b[0m\u001b[0mroute\u001b[0m \u001b[0;34m==\u001b[0m \u001b[0mroute\u001b[0m\u001b[0;34m)\u001b[0m\u001b[0;34m]\u001b[0m\u001b[0;34m.\u001b[0m\u001b[0mshape\u001b[0m\u001b[0;34m[\u001b[0m\u001b[0;36m0\u001b[0m\u001b[0;34m]\u001b[0m \u001b[0;34m>\u001b[0m \u001b[0;36m1\u001b[0m \u001b[0;34m:\u001b[0m\u001b[0;34m\u001b[0m\u001b[0m\n",
      "\u001b[0;32m/usr/local/lib/python2.7/dist-packages/pandas/core/frame.pyc\u001b[0m in \u001b[0;36m__getitem__\u001b[0;34m(self, key)\u001b[0m\n\u001b[1;32m   1956\u001b[0m         \u001b[0;32mif\u001b[0m \u001b[0misinstance\u001b[0m\u001b[0;34m(\u001b[0m\u001b[0mkey\u001b[0m\u001b[0;34m,\u001b[0m \u001b[0;34m(\u001b[0m\u001b[0mSeries\u001b[0m\u001b[0;34m,\u001b[0m \u001b[0mnp\u001b[0m\u001b[0;34m.\u001b[0m\u001b[0mndarray\u001b[0m\u001b[0;34m,\u001b[0m \u001b[0mIndex\u001b[0m\u001b[0;34m,\u001b[0m \u001b[0mlist\u001b[0m\u001b[0;34m)\u001b[0m\u001b[0;34m)\u001b[0m\u001b[0;34m:\u001b[0m\u001b[0;34m\u001b[0m\u001b[0m\n\u001b[1;32m   1957\u001b[0m             \u001b[0;31m# either boolean or fancy integer index\u001b[0m\u001b[0;34m\u001b[0m\u001b[0;34m\u001b[0m\u001b[0m\n\u001b[0;32m-> 1958\u001b[0;31m             \u001b[0;32mreturn\u001b[0m \u001b[0mself\u001b[0m\u001b[0;34m.\u001b[0m\u001b[0m_getitem_array\u001b[0m\u001b[0;34m(\u001b[0m\u001b[0mkey\u001b[0m\u001b[0;34m)\u001b[0m\u001b[0;34m\u001b[0m\u001b[0m\n\u001b[0m\u001b[1;32m   1959\u001b[0m         \u001b[0;32melif\u001b[0m \u001b[0misinstance\u001b[0m\u001b[0;34m(\u001b[0m\u001b[0mkey\u001b[0m\u001b[0;34m,\u001b[0m \u001b[0mDataFrame\u001b[0m\u001b[0;34m)\u001b[0m\u001b[0;34m:\u001b[0m\u001b[0;34m\u001b[0m\u001b[0m\n\u001b[1;32m   1960\u001b[0m             \u001b[0;32mreturn\u001b[0m \u001b[0mself\u001b[0m\u001b[0;34m.\u001b[0m\u001b[0m_getitem_frame\u001b[0m\u001b[0;34m(\u001b[0m\u001b[0mkey\u001b[0m\u001b[0;34m)\u001b[0m\u001b[0;34m\u001b[0m\u001b[0m\n",
      "\u001b[0;32m/usr/local/lib/python2.7/dist-packages/pandas/core/frame.pyc\u001b[0m in \u001b[0;36m_getitem_array\u001b[0;34m(self, key)\u001b[0m\n\u001b[1;32m   1998\u001b[0m             \u001b[0mkey\u001b[0m \u001b[0;34m=\u001b[0m \u001b[0mcheck_bool_indexer\u001b[0m\u001b[0;34m(\u001b[0m\u001b[0mself\u001b[0m\u001b[0;34m.\u001b[0m\u001b[0mindex\u001b[0m\u001b[0;34m,\u001b[0m \u001b[0mkey\u001b[0m\u001b[0;34m)\u001b[0m\u001b[0;34m\u001b[0m\u001b[0m\n\u001b[1;32m   1999\u001b[0m             \u001b[0mindexer\u001b[0m \u001b[0;34m=\u001b[0m \u001b[0mkey\u001b[0m\u001b[0;34m.\u001b[0m\u001b[0mnonzero\u001b[0m\u001b[0;34m(\u001b[0m\u001b[0;34m)\u001b[0m\u001b[0;34m[\u001b[0m\u001b[0;36m0\u001b[0m\u001b[0;34m]\u001b[0m\u001b[0;34m\u001b[0m\u001b[0m\n\u001b[0;32m-> 2000\u001b[0;31m             \u001b[0;32mreturn\u001b[0m \u001b[0mself\u001b[0m\u001b[0;34m.\u001b[0m\u001b[0mtake\u001b[0m\u001b[0;34m(\u001b[0m\u001b[0mindexer\u001b[0m\u001b[0;34m,\u001b[0m \u001b[0maxis\u001b[0m\u001b[0;34m=\u001b[0m\u001b[0;36m0\u001b[0m\u001b[0;34m,\u001b[0m \u001b[0mconvert\u001b[0m\u001b[0;34m=\u001b[0m\u001b[0mFalse\u001b[0m\u001b[0;34m)\u001b[0m\u001b[0;34m\u001b[0m\u001b[0m\n\u001b[0m\u001b[1;32m   2001\u001b[0m         \u001b[0;32melse\u001b[0m\u001b[0;34m:\u001b[0m\u001b[0;34m\u001b[0m\u001b[0m\n\u001b[1;32m   2002\u001b[0m             \u001b[0mindexer\u001b[0m \u001b[0;34m=\u001b[0m \u001b[0mself\u001b[0m\u001b[0;34m.\u001b[0m\u001b[0mloc\u001b[0m\u001b[0;34m.\u001b[0m\u001b[0m_convert_to_indexer\u001b[0m\u001b[0;34m(\u001b[0m\u001b[0mkey\u001b[0m\u001b[0;34m,\u001b[0m \u001b[0maxis\u001b[0m\u001b[0;34m=\u001b[0m\u001b[0;36m1\u001b[0m\u001b[0;34m)\u001b[0m\u001b[0;34m\u001b[0m\u001b[0m\n",
      "\u001b[0;32m/usr/local/lib/python2.7/dist-packages/pandas/core/generic.pyc\u001b[0m in \u001b[0;36mtake\u001b[0;34m(self, indices, axis, convert, is_copy, **kwargs)\u001b[0m\n\u001b[1;32m   1923\u001b[0m         \"\"\"\n\u001b[1;32m   1924\u001b[0m         \u001b[0mnv\u001b[0m\u001b[0;34m.\u001b[0m\u001b[0mvalidate_take\u001b[0m\u001b[0;34m(\u001b[0m\u001b[0mtuple\u001b[0m\u001b[0;34m(\u001b[0m\u001b[0;34m)\u001b[0m\u001b[0;34m,\u001b[0m \u001b[0mkwargs\u001b[0m\u001b[0;34m)\u001b[0m\u001b[0;34m\u001b[0m\u001b[0m\n\u001b[0;32m-> 1925\u001b[0;31m         \u001b[0mself\u001b[0m\u001b[0;34m.\u001b[0m\u001b[0m_consolidate_inplace\u001b[0m\u001b[0;34m(\u001b[0m\u001b[0;34m)\u001b[0m\u001b[0;34m\u001b[0m\u001b[0m\n\u001b[0m\u001b[1;32m   1926\u001b[0m         new_data = self._data.take(indices,\n\u001b[1;32m   1927\u001b[0m                                    \u001b[0maxis\u001b[0m\u001b[0;34m=\u001b[0m\u001b[0mself\u001b[0m\u001b[0;34m.\u001b[0m\u001b[0m_get_block_manager_axis\u001b[0m\u001b[0;34m(\u001b[0m\u001b[0maxis\u001b[0m\u001b[0;34m)\u001b[0m\u001b[0;34m,\u001b[0m\u001b[0;34m\u001b[0m\u001b[0m\n",
      "\u001b[0;32m/usr/local/lib/python2.7/dist-packages/pandas/core/generic.pyc\u001b[0m in \u001b[0;36m_consolidate_inplace\u001b[0;34m(self)\u001b[0m\n\u001b[1;32m   3136\u001b[0m             \u001b[0mself\u001b[0m\u001b[0;34m.\u001b[0m\u001b[0m_data\u001b[0m \u001b[0;34m=\u001b[0m \u001b[0mself\u001b[0m\u001b[0;34m.\u001b[0m\u001b[0m_data\u001b[0m\u001b[0;34m.\u001b[0m\u001b[0mconsolidate\u001b[0m\u001b[0;34m(\u001b[0m\u001b[0;34m)\u001b[0m\u001b[0;34m\u001b[0m\u001b[0m\n\u001b[1;32m   3137\u001b[0m \u001b[0;34m\u001b[0m\u001b[0m\n\u001b[0;32m-> 3138\u001b[0;31m         \u001b[0mself\u001b[0m\u001b[0;34m.\u001b[0m\u001b[0m_protect_consolidate\u001b[0m\u001b[0;34m(\u001b[0m\u001b[0mf\u001b[0m\u001b[0;34m)\u001b[0m\u001b[0;34m\u001b[0m\u001b[0m\n\u001b[0m\u001b[1;32m   3139\u001b[0m \u001b[0;34m\u001b[0m\u001b[0m\n\u001b[1;32m   3140\u001b[0m     \u001b[0;32mdef\u001b[0m \u001b[0m_consolidate\u001b[0m\u001b[0;34m(\u001b[0m\u001b[0mself\u001b[0m\u001b[0;34m,\u001b[0m \u001b[0minplace\u001b[0m\u001b[0;34m=\u001b[0m\u001b[0mFalse\u001b[0m\u001b[0;34m)\u001b[0m\u001b[0;34m:\u001b[0m\u001b[0;34m\u001b[0m\u001b[0m\n",
      "\u001b[0;32m/usr/local/lib/python2.7/dist-packages/pandas/core/generic.pyc\u001b[0m in \u001b[0;36m_protect_consolidate\u001b[0;34m(self, f)\u001b[0m\n\u001b[1;32m   3125\u001b[0m         \"\"\"\n\u001b[1;32m   3126\u001b[0m         \u001b[0mblocks_before\u001b[0m \u001b[0;34m=\u001b[0m \u001b[0mlen\u001b[0m\u001b[0;34m(\u001b[0m\u001b[0mself\u001b[0m\u001b[0;34m.\u001b[0m\u001b[0m_data\u001b[0m\u001b[0;34m.\u001b[0m\u001b[0mblocks\u001b[0m\u001b[0;34m)\u001b[0m\u001b[0;34m\u001b[0m\u001b[0m\n\u001b[0;32m-> 3127\u001b[0;31m         \u001b[0mresult\u001b[0m \u001b[0;34m=\u001b[0m \u001b[0mf\u001b[0m\u001b[0;34m(\u001b[0m\u001b[0;34m)\u001b[0m\u001b[0;34m\u001b[0m\u001b[0m\n\u001b[0m\u001b[1;32m   3128\u001b[0m         \u001b[0;32mif\u001b[0m \u001b[0mlen\u001b[0m\u001b[0;34m(\u001b[0m\u001b[0mself\u001b[0m\u001b[0;34m.\u001b[0m\u001b[0m_data\u001b[0m\u001b[0;34m.\u001b[0m\u001b[0mblocks\u001b[0m\u001b[0;34m)\u001b[0m \u001b[0;34m!=\u001b[0m \u001b[0mblocks_before\u001b[0m\u001b[0;34m:\u001b[0m\u001b[0;34m\u001b[0m\u001b[0m\n\u001b[1;32m   3129\u001b[0m             \u001b[0mself\u001b[0m\u001b[0;34m.\u001b[0m\u001b[0m_clear_item_cache\u001b[0m\u001b[0;34m(\u001b[0m\u001b[0;34m)\u001b[0m\u001b[0;34m\u001b[0m\u001b[0m\n",
      "\u001b[0;32m/usr/local/lib/python2.7/dist-packages/pandas/core/generic.pyc\u001b[0m in \u001b[0;36mf\u001b[0;34m()\u001b[0m\n\u001b[1;32m   3134\u001b[0m \u001b[0;34m\u001b[0m\u001b[0m\n\u001b[1;32m   3135\u001b[0m         \u001b[0;32mdef\u001b[0m \u001b[0mf\u001b[0m\u001b[0;34m(\u001b[0m\u001b[0;34m)\u001b[0m\u001b[0;34m:\u001b[0m\u001b[0;34m\u001b[0m\u001b[0m\n\u001b[0;32m-> 3136\u001b[0;31m             \u001b[0mself\u001b[0m\u001b[0;34m.\u001b[0m\u001b[0m_data\u001b[0m \u001b[0;34m=\u001b[0m \u001b[0mself\u001b[0m\u001b[0;34m.\u001b[0m\u001b[0m_data\u001b[0m\u001b[0;34m.\u001b[0m\u001b[0mconsolidate\u001b[0m\u001b[0;34m(\u001b[0m\u001b[0;34m)\u001b[0m\u001b[0;34m\u001b[0m\u001b[0m\n\u001b[0m\u001b[1;32m   3137\u001b[0m \u001b[0;34m\u001b[0m\u001b[0m\n\u001b[1;32m   3138\u001b[0m         \u001b[0mself\u001b[0m\u001b[0;34m.\u001b[0m\u001b[0m_protect_consolidate\u001b[0m\u001b[0;34m(\u001b[0m\u001b[0mf\u001b[0m\u001b[0;34m)\u001b[0m\u001b[0;34m\u001b[0m\u001b[0m\n",
      "\u001b[0;32m/usr/local/lib/python2.7/dist-packages/pandas/core/internals.pyc\u001b[0m in \u001b[0;36mconsolidate\u001b[0;34m(self)\u001b[0m\n\u001b[1;32m   3566\u001b[0m         \u001b[0my\u001b[0m \u001b[0;34m:\u001b[0m \u001b[0mBlockManager\u001b[0m\u001b[0;34m\u001b[0m\u001b[0m\n\u001b[1;32m   3567\u001b[0m         \"\"\"\n\u001b[0;32m-> 3568\u001b[0;31m         \u001b[0;32mif\u001b[0m \u001b[0mself\u001b[0m\u001b[0;34m.\u001b[0m\u001b[0mis_consolidated\u001b[0m\u001b[0;34m(\u001b[0m\u001b[0;34m)\u001b[0m\u001b[0;34m:\u001b[0m\u001b[0;34m\u001b[0m\u001b[0m\n\u001b[0m\u001b[1;32m   3569\u001b[0m             \u001b[0;32mreturn\u001b[0m \u001b[0mself\u001b[0m\u001b[0;34m\u001b[0m\u001b[0m\n\u001b[1;32m   3570\u001b[0m \u001b[0;34m\u001b[0m\u001b[0m\n",
      "\u001b[0;32m/usr/local/lib/python2.7/dist-packages/pandas/core/internals.pyc\u001b[0m in \u001b[0;36mis_consolidated\u001b[0;34m(self)\u001b[0m\n\u001b[1;32m   3298\u001b[0m         \u001b[0mReturn\u001b[0m \u001b[0mTrue\u001b[0m \u001b[0;32mif\u001b[0m \u001b[0mmore\u001b[0m \u001b[0mthan\u001b[0m \u001b[0mone\u001b[0m \u001b[0mblock\u001b[0m \u001b[0;32mwith\u001b[0m \u001b[0mthe\u001b[0m \u001b[0msame\u001b[0m \u001b[0mdtype\u001b[0m\u001b[0;34m\u001b[0m\u001b[0m\n\u001b[1;32m   3299\u001b[0m         \"\"\"\n\u001b[0;32m-> 3300\u001b[0;31m         \u001b[0;32mif\u001b[0m \u001b[0;32mnot\u001b[0m \u001b[0mself\u001b[0m\u001b[0;34m.\u001b[0m\u001b[0m_known_consolidated\u001b[0m\u001b[0;34m:\u001b[0m\u001b[0;34m\u001b[0m\u001b[0m\n\u001b[0m\u001b[1;32m   3301\u001b[0m             \u001b[0mself\u001b[0m\u001b[0;34m.\u001b[0m\u001b[0m_consolidate_check\u001b[0m\u001b[0;34m(\u001b[0m\u001b[0;34m)\u001b[0m\u001b[0;34m\u001b[0m\u001b[0m\n\u001b[1;32m   3302\u001b[0m         \u001b[0;32mreturn\u001b[0m \u001b[0mself\u001b[0m\u001b[0;34m.\u001b[0m\u001b[0m_is_consolidated\u001b[0m\u001b[0;34m\u001b[0m\u001b[0m\n",
      "\u001b[0;31mKeyboardInterrupt\u001b[0m: "
     ]
    }
   ],
   "source": [
    "new_toll_time['time_btn_toll'] = 0\n",
    "new_toll_time = time_between_toll(new_toll_time)\n",
    "new_toll_time['time_btn_toll'] = new_toll_time['time_btn_toll'].fillna(0)"
   ]
  },
  {
   "cell_type": "code",
   "execution_count": 28,
   "metadata": {},
   "outputs": [],
   "source": [
    "new_toll_time['loading_out_time'] = new_toll_time['loading_out_time'].apply(lambda x: x.hour)"
   ]
  },
  {
   "cell_type": "code",
   "execution_count": 29,
   "metadata": {},
   "outputs": [],
   "source": [
    "new_toll_time.late_by_hrs = new_toll_time.late_by_hrs.round()"
   ]
  },
  {
   "cell_type": "code",
   "execution_count": 30,
   "metadata": {},
   "outputs": [],
   "source": [
    "train_df = new_toll_time[new_toll_time['vehicle_no'].isin(['OD04D5891','PB10CH3759','NL02N3814']) == False]"
   ]
  },
  {
   "cell_type": "code",
   "execution_count": 31,
   "metadata": {},
   "outputs": [],
   "source": [
    "test_df = new_toll_time[new_toll_time['vehicle_no'].isin(['OD04D5891','PB10CH3759','NL02N3814']) == True]"
   ]
  },
  {
   "cell_type": "code",
   "execution_count": 32,
   "metadata": {},
   "outputs": [
    {
     "data": {
      "text/plain": [
       "((42, 27), (6383, 27))"
      ]
     },
     "execution_count": 32,
     "metadata": {},
     "output_type": "execute_result"
    }
   ],
   "source": [
    "test_df.shape, train_df.shape"
   ]
  },
  {
   "cell_type": "code",
   "execution_count": 33,
   "metadata": {
    "scrolled": false
   },
   "outputs": [
    {
     "data": {
      "text/plain": [
       "['Unnamed: 0',\n",
       " 'origin',\n",
       " 'destination',\n",
       " 'toll_both',\n",
       " 'vehicle_no',\n",
       " 'loading_out_time',\n",
       " 'odometer_km',\n",
       " 'ist_timestamp',\n",
       " 'distance_from_toll',\n",
       " 'loading_in_time',\n",
       " 'start_date',\n",
       " 'eta',\n",
       " 'unloading_in_time',\n",
       " 'slug',\n",
       " 'delivery_status',\n",
       " 'distance_travelled',\n",
       " 'late_by_hrs',\n",
       " 'time_taken',\n",
       " 'route',\n",
       " 'today',\n",
       " 'days_from_now',\n",
       " 'avg_travel_time',\n",
       " 'month_of_travel',\n",
       " 'time_of_travel',\n",
       " 'day_of_travel',\n",
       " 'season_of_travel',\n",
       " 'time_btn_toll']"
      ]
     },
     "execution_count": 33,
     "metadata": {},
     "output_type": "execute_result"
    }
   ],
   "source": [
    "test_df.columns.tolist()"
   ]
  },
  {
   "cell_type": "code",
   "execution_count": 34,
   "metadata": {},
   "outputs": [],
   "source": [
    "if set(test_df.vehicle_no.unique().tolist()) < set(train_df.vehicle_no.unique().tolist()):\n",
    "    final_train_df = train_df[['route','toll_both','vehicle_no','odometer_km','loading_out_time','distance_travelled','time_of_travel','day_of_travel','season_of_travel','month_of_travel','days_from_now','time_taken']]\n",
    "    final_test_df = test_df[['route','toll_both','vehicle_no','odometer_km','loading_out_time','distance_travelled','time_of_travel','day_of_travel','season_of_travel','month_of_travel','days_from_now','time_taken']]\n",
    "    train_dict_vehicle_no = change_vehicle_no_to_dummy(final_train_df)\n",
    "    test_dict_vehilce_no = change_vehicle_no_to_dummy(final_test_df)\n",
    "    \n",
    "else:\n",
    "    final_train_df = train_df[['route','toll_both','odometer_km','loading_out_time','distance_travelled','time_of_travel','day_of_travel','season_of_travel','month_of_travel','days_from_now','time_taken']]\n",
    "    final_test_df = test_df[['route','toll_both','odometer_km','loading_out_time','distance_travelled','time_of_travel','day_of_travel','season_of_travel','month_of_travel','days_from_now','time_taken']]"
   ]
  },
  {
   "cell_type": "code",
   "execution_count": 35,
   "metadata": {},
   "outputs": [],
   "source": [
    "train_X = final_train_df.drop(['time_taken'], axis=1)\n",
    "train_y = final_train_df['time_taken']\n",
    "\n",
    "test_X = final_test_df.drop(['time_taken'], axis=1)\n",
    "test_y = final_test_df['time_taken']"
   ]
  },
  {
   "cell_type": "code",
   "execution_count": 36,
   "metadata": {},
   "outputs": [],
   "source": [
    "X_train, X_test, y_train, y_test = train_test_split(train_X,train_y, test_size=0.1, random_state=42)"
   ]
  },
  {
   "cell_type": "code",
   "execution_count": 37,
   "metadata": {},
   "outputs": [],
   "source": [
    "scale= MinMaxScaler()\n",
    "X_train_scaled = scale.fit_transform(X_train)\n",
    "X_test_scaled = scale.fit_transform(X_test)\n",
    "\n",
    "# y_train_std = final_train_df['time_btn_toll']\n",
    "# y_test_std = final_test_df['time_btn_toll']"
   ]
  },
  {
   "cell_type": "code",
   "execution_count": 38,
   "metadata": {},
   "outputs": [],
   "source": [
    "# parameters = {\n",
    "#     'hidden_layer_sizes':[15,20,30,40],\n",
    "#     'activation':['logistic','relu','identity'],\n",
    "#     'solver':['adam'],\n",
    "#     'learning_rate':['invscaling','constant']\n",
    "#              }"
   ]
  },
  {
   "cell_type": "code",
   "execution_count": 39,
   "metadata": {},
   "outputs": [],
   "source": [
    "# reg_mlp = MLPRegressor( hidden_layer_sizes=(100,50),  activation='logistic', solver='adam', alpha=1, batch_size='auto',\n",
    "#     learning_rate='constant', learning_rate_init=0.01, power_t=0.01, max_iter=5000, shuffle=False, tol=0.0001, verbose=False, warm_start=False, momentum=0.9, nesterovs_momentum=True,\n",
    "#     early_stopping=False,random_state=6, validation_fraction=0.1, beta_1=0.9, beta_2=0.999, epsilon=1e-08)"
   ]
  },
  {
   "cell_type": "code",
   "execution_count": 41,
   "metadata": {},
   "outputs": [],
   "source": [
    "reg_mlp = MLPRegressor(hidden_layer_sizes=(100,50), activation='logistic', alpha=8, solver='lbfgs', random_state=42)"
   ]
  },
  {
   "cell_type": "code",
   "execution_count": 42,
   "metadata": {},
   "outputs": [],
   "source": [
    "# reg_svr = SVR(epsilon=0.0, tol=0.0001, C=0.01 ,verbose=0, max_iter=1000)"
   ]
  },
  {
   "cell_type": "code",
   "execution_count": 43,
   "metadata": {},
   "outputs": [],
   "source": [
    "# reg_rf = RandomForestRegressor(bootstrap=True, criterion='mse', max_depth=10,\n",
    "#            max_features='auto', max_leaf_nodes=50,\n",
    "#            min_impurity_decrease=0.0, min_impurity_split=None,\n",
    "#            min_samples_leaf=1, min_samples_split=4,\n",
    "#            min_weight_fraction_leaf=0.0, n_estimators=1000, n_jobs=-1,\n",
    "#            oob_score=False, random_state=42, verbose=1, warm_start=False)"
   ]
  },
  {
   "cell_type": "code",
   "execution_count": 44,
   "metadata": {},
   "outputs": [],
   "source": [
    "# reg_lin = LinearRegression(fit_intercept=True, normalize=True, copy_X=True, n_jobs=-1)"
   ]
  },
  {
   "cell_type": "code",
   "execution_count": 45,
   "metadata": {},
   "outputs": [],
   "source": [
    "# grid = GridSearchCV(reg_mlp, parameters, n_jobs=-1,\n",
    "#                    scoring='neg_median_absolute_error',\n",
    "#                    verbose=1, refit=True)"
   ]
  },
  {
   "cell_type": "code",
   "execution_count": 46,
   "metadata": {},
   "outputs": [],
   "source": [
    "# grid_result = grid.fit(X_train, y_train)"
   ]
  },
  {
   "cell_type": "code",
   "execution_count": 47,
   "metadata": {},
   "outputs": [],
   "source": [
    "# # summarize results\n",
    "# print(\"Best: %f using %s\" % (grid_result.best_score_, grid_result.best_params_))"
   ]
  },
  {
   "cell_type": "code",
   "execution_count": 48,
   "metadata": {
    "scrolled": true
   },
   "outputs": [
    {
     "data": {
      "text/plain": [
       "0.79813342702559842"
      ]
     },
     "execution_count": 48,
     "metadata": {},
     "output_type": "execute_result"
    }
   ],
   "source": [
    "reg_mlp.fit(X_train_scaled, y_train)\n",
    "reg_mlp.score(X_test_scaled, y_test)"
   ]
  },
  {
   "cell_type": "code",
   "execution_count": 49,
   "metadata": {},
   "outputs": [],
   "source": [
    "scores = cross_val_score(reg_mlp, X_train_scaled, y_train, scoring='r2', n_jobs=-1)"
   ]
  },
  {
   "cell_type": "code",
   "execution_count": 50,
   "metadata": {},
   "outputs": [
    {
     "name": "stdout",
     "output_type": "stream",
     "text": [
      "Accuracy: 0.67 (+/- 0.05)\n"
     ]
    }
   ],
   "source": [
    "print(\"Accuracy: %0.2f (+/- %0.2f)\" % (scores.mean(), scores.std() * 2))"
   ]
  },
  {
   "cell_type": "code",
   "execution_count": 51,
   "metadata": {},
   "outputs": [],
   "source": [
    "scale = MinMaxScaler()\n",
    "X_predict_scaled = scale.fit_transform(test_X)\n",
    "\n",
    "y_predict = test_y"
   ]
  },
  {
   "cell_type": "code",
   "execution_count": 52,
   "metadata": {},
   "outputs": [],
   "source": [
    "predictions = reg_mlp.predict(X_predict_scaled)"
   ]
  },
  {
   "cell_type": "code",
   "execution_count": 53,
   "metadata": {},
   "outputs": [
    {
     "data": {
      "image/png": "[encoded data removed]",
      "text/plain": [
       "<matplotlib.figure.Figure at 0x7f132ba5ec50>"
      ]
     },
     "metadata": {},
     "output_type": "display_data"
    }
   ],
   "source": [
    "## The line / model\n",
    "plt.scatter(y_predict, predictions)\n",
    "plt.ylabel('predictions')\n",
    "plt.xlabel('actual')\n",
    "# plt.axis('equal')\n",
    "plt.gca().set_aspect('equal', adjustable='box')\n",
    "plt.show()\n"
   ]
  },
  {
   "cell_type": "code",
   "execution_count": 56,
   "metadata": {},
   "outputs": [
    {
     "data": {
      "text/plain": [
       "((42, 27), (42,))"
      ]
     },
     "execution_count": 56,
     "metadata": {},
     "output_type": "execute_result"
    }
   ],
   "source": [
    "test_df.shape, predictions.shape"
   ]
  },
  {
   "cell_type": "code",
   "execution_count": 57,
   "metadata": {},
   "outputs": [],
   "source": [
    "show_df = test_df.copy()"
   ]
  },
  {
   "cell_type": "code",
   "execution_count": 58,
   "metadata": {
    "scrolled": false
   },
   "outputs": [],
   "source": [
    "show_df['predicted'] = predictions"
   ]
  },
  {
   "cell_type": "code",
   "execution_count": 59,
   "metadata": {},
   "outputs": [],
   "source": [
    "show_df['time_taken_delta'] = show_df['time_taken'].apply(lambda x: timedelta(hours=x))"
   ]
  },
  {
   "cell_type": "code",
   "execution_count": 60,
   "metadata": {},
   "outputs": [],
   "source": [
    "show_df['predict_delta'] = show_df['predicted'].apply(lambda x: timedelta(hours=x))"
   ]
  },
  {
   "cell_type": "code",
   "execution_count": 61,
   "metadata": {},
   "outputs": [],
   "source": [
    "show_df['predicted_ist_timestamp'] = show_df['ist_timestamp'] - show_df['time_taken_delta'] + show_df['predict_delta']"
   ]
  },
  {
   "cell_type": "code",
   "execution_count": 62,
   "metadata": {},
   "outputs": [],
   "source": [
    "show_df['route'] = test_df['route'].replace(dict_route)"
   ]
  },
  {
   "cell_type": "code",
   "execution_count": 63,
   "metadata": {},
   "outputs": [],
   "source": [
    "show_df['toll_both'] = show_df['toll_both'].replace(dict_toll_both) "
   ]
  },
  {
   "cell_type": "code",
   "execution_count": 64,
   "metadata": {},
   "outputs": [],
   "source": [
    "show_df = show_df.sort_values(['route','vehicle_no','time_taken'])"
   ]
  },
  {
   "cell_type": "code",
   "execution_count": 65,
   "metadata": {},
   "outputs": [
    {
     "data": {
      "text/html": [
       "<div>\n",
       "<style>\n",
       "    .dataframe thead tr:only-child th {\n",
       "        text-align: right;\n",
       "    }\n",
       "\n",
       "    .dataframe thead th {\n",
       "        text-align: left;\n",
       "    }\n",
       "\n",
       "    .dataframe tbody tr th {\n",
       "        vertical-align: top;\n",
       "    }\n",
       "</style>\n",
       "<table border=\"1\" class=\"dataframe\">\n",
       "  <thead>\n",
       "    <tr style=\"text-align: right;\">\n",
       "      <th></th>\n",
       "      <th>route</th>\n",
       "      <th>vehicle_no</th>\n",
       "      <th>toll_both</th>\n",
       "      <th>time_taken</th>\n",
       "      <th>predicted</th>\n",
       "      <th>ist_timestamp</th>\n",
       "      <th>predicted_ist_timestamp</th>\n",
       "    </tr>\n",
       "  </thead>\n",
       "  <tbody>\n",
       "    <tr>\n",
       "      <th>4690</th>\n",
       "      <td>Jamshedpur HOSUR</td>\n",
       "      <td>OD04D5891</td>\n",
       "      <td>Sergrarh</td>\n",
       "      <td>63.595833</td>\n",
       "      <td>17.665135</td>\n",
       "      <td>2017-11-24 19:44:00</td>\n",
       "      <td>2017-11-22 21:48:09.487675</td>\n",
       "    </tr>\n",
       "    <tr>\n",
       "      <th>4601</th>\n",
       "      <td>Jamshedpur HOSUR</td>\n",
       "      <td>OD04D5891</td>\n",
       "      <td>Panikholi</td>\n",
       "      <td>66.002222</td>\n",
       "      <td>20.556471</td>\n",
       "      <td>2017-11-24 22:08:23</td>\n",
       "      <td>2017-11-23 00:41:38.294663</td>\n",
       "    </tr>\n",
       "    <tr>\n",
       "      <th>4473</th>\n",
       "      <td>Jamshedpur HOSUR</td>\n",
       "      <td>OD04D5891</td>\n",
       "      <td>Manguli</td>\n",
       "      <td>67.488056</td>\n",
       "      <td>4.600498</td>\n",
       "      <td>2017-11-24 23:37:32</td>\n",
       "      <td>2017-11-22 08:44:16.792337</td>\n",
       "    </tr>\n",
       "    <tr>\n",
       "      <th>4132</th>\n",
       "      <td>Jamshedpur HOSUR</td>\n",
       "      <td>OD04D5891</td>\n",
       "      <td>Gudipada (Old Gangapada)</td>\n",
       "      <td>68.857500</td>\n",
       "      <td>4.580071</td>\n",
       "      <td>2017-11-25 00:59:42</td>\n",
       "      <td>2017-11-22 08:43:03.256505</td>\n",
       "    </tr>\n",
       "    <tr>\n",
       "      <th>4177</th>\n",
       "      <td>Jamshedpur HOSUR</td>\n",
       "      <td>OD04D5891</td>\n",
       "      <td>Gurapalli</td>\n",
       "      <td>71.043611</td>\n",
       "      <td>6.029047</td>\n",
       "      <td>2017-11-25 03:10:52</td>\n",
       "      <td>2017-11-22 10:09:59.569441</td>\n",
       "    </tr>\n",
       "    <tr>\n",
       "      <th>3929</th>\n",
       "      <td>Jamshedpur HOSUR</td>\n",
       "      <td>OD04D5891</td>\n",
       "      <td>Bellupada</td>\n",
       "      <td>85.191111</td>\n",
       "      <td>4.790456</td>\n",
       "      <td>2017-11-25 17:19:43</td>\n",
       "      <td>2017-11-22 08:55:40.640562</td>\n",
       "    </tr>\n",
       "    <tr>\n",
       "      <th>4425</th>\n",
       "      <td>Jamshedpur HOSUR</td>\n",
       "      <td>OD04D5891</td>\n",
       "      <td>Madapam</td>\n",
       "      <td>89.519722</td>\n",
       "      <td>5.438115</td>\n",
       "      <td>2017-11-25 21:39:26</td>\n",
       "      <td>2017-11-22 09:34:32.213829</td>\n",
       "    </tr>\n",
       "    <tr>\n",
       "      <th>4051</th>\n",
       "      <td>Jamshedpur HOSUR</td>\n",
       "      <td>OD04D5891</td>\n",
       "      <td>Chilakapalem</td>\n",
       "      <td>90.272500</td>\n",
       "      <td>5.767180</td>\n",
       "      <td>2017-11-25 22:24:36</td>\n",
       "      <td>2017-11-22 09:54:16.848167</td>\n",
       "    </tr>\n",
       "    <tr>\n",
       "      <th>4381</th>\n",
       "      <td>Jamshedpur HOSUR</td>\n",
       "      <td>OD04D5891</td>\n",
       "      <td>Laxmipuram</td>\n",
       "      <td>91.336389</td>\n",
       "      <td>10.786601</td>\n",
       "      <td>2017-11-25 23:28:26</td>\n",
       "      <td>2017-11-22 14:55:26.764202</td>\n",
       "    </tr>\n",
       "    <tr>\n",
       "      <th>4554</th>\n",
       "      <td>Jamshedpur HOSUR</td>\n",
       "      <td>OD04D5891</td>\n",
       "      <td>Nathavalasa/ Vizianagaram</td>\n",
       "      <td>91.336389</td>\n",
       "      <td>12.147600</td>\n",
       "      <td>2017-11-25 23:28:26</td>\n",
       "      <td>2017-11-22 16:17:06.360662</td>\n",
       "    </tr>\n",
       "    <tr>\n",
       "      <th>4823</th>\n",
       "      <td>Jamshedpur HOSUR</td>\n",
       "      <td>OD04D5891</td>\n",
       "      <td>Vempadu</td>\n",
       "      <td>97.708056</td>\n",
       "      <td>63.572689</td>\n",
       "      <td>2017-11-26 05:50:44</td>\n",
       "      <td>2017-11-24 19:42:36.680498</td>\n",
       "    </tr>\n",
       "    <tr>\n",
       "      <th>4337</th>\n",
       "      <td>Jamshedpur HOSUR</td>\n",
       "      <td>OD04D5891</td>\n",
       "      <td>Krishnavaram</td>\n",
       "      <td>102.237500</td>\n",
       "      <td>65.819027</td>\n",
       "      <td>2017-11-26 10:22:30</td>\n",
       "      <td>2017-11-24 21:57:23.498656</td>\n",
       "    </tr>\n",
       "    <tr>\n",
       "      <th>4243</th>\n",
       "      <td>Jamshedpur HOSUR</td>\n",
       "      <td>OD04D5891</td>\n",
       "      <td>Kalaparru</td>\n",
       "      <td>107.043333</td>\n",
       "      <td>67.679934</td>\n",
       "      <td>2017-11-26 15:10:51</td>\n",
       "      <td>2017-11-24 23:49:02.763326</td>\n",
       "    </tr>\n",
       "    <tr>\n",
       "      <th>4648</th>\n",
       "      <td>Jamshedpur HOSUR</td>\n",
       "      <td>OD04D5891</td>\n",
       "      <td>Pottipadu</td>\n",
       "      <td>107.693333</td>\n",
       "      <td>67.519767</td>\n",
       "      <td>2017-11-26 15:49:51</td>\n",
       "      <td>2017-11-24 23:39:26.162360</td>\n",
       "    </tr>\n",
       "    <tr>\n",
       "      <th>4285</th>\n",
       "      <td>Jamshedpur HOSUR</td>\n",
       "      <td>OD04D5891</td>\n",
       "      <td>Kaza</td>\n",
       "      <td>109.140000</td>\n",
       "      <td>68.488943</td>\n",
       "      <td>2017-11-26 17:16:39</td>\n",
       "      <td>2017-11-25 00:37:35.195204</td>\n",
       "    </tr>\n",
       "    <tr>\n",
       "      <th>3963</th>\n",
       "      <td>Jamshedpur HOSUR</td>\n",
       "      <td>OD04D5891</td>\n",
       "      <td>Bolapalli</td>\n",
       "      <td>111.742778</td>\n",
       "      <td>71.502089</td>\n",
       "      <td>2017-11-26 19:52:49</td>\n",
       "      <td>2017-11-25 03:38:22.521368</td>\n",
       "    </tr>\n",
       "    <tr>\n",
       "      <th>4776</th>\n",
       "      <td>Jamshedpur HOSUR</td>\n",
       "      <td>OD04D5891</td>\n",
       "      <td>Tangutur</td>\n",
       "      <td>113.518056</td>\n",
       "      <td>71.403908</td>\n",
       "      <td>2017-11-26 21:39:20</td>\n",
       "      <td>2017-11-25 03:32:29.068486</td>\n",
       "    </tr>\n",
       "    <tr>\n",
       "      <th>4733</th>\n",
       "      <td>Jamshedpur HOSUR</td>\n",
       "      <td>OD04D5891</td>\n",
       "      <td>Sunambatti (Musunur)</td>\n",
       "      <td>122.180000</td>\n",
       "      <td>70.109764</td>\n",
       "      <td>2017-11-27 06:19:03</td>\n",
       "      <td>2017-11-25 02:14:50.150742</td>\n",
       "    </tr>\n",
       "    <tr>\n",
       "      <th>4867</th>\n",
       "      <td>Jamshedpur HOSUR</td>\n",
       "      <td>OD04D5891</td>\n",
       "      <td>Venkatachallam &amp;#160;(Old Nellore)</td>\n",
       "      <td>123.666111</td>\n",
       "      <td>72.378999</td>\n",
       "      <td>2017-11-27 07:48:13</td>\n",
       "      <td>2017-11-25 04:30:59.395737</td>\n",
       "    </tr>\n",
       "    <tr>\n",
       "      <th>4007</th>\n",
       "      <td>Jamshedpur HOSUR</td>\n",
       "      <td>OD04D5891</td>\n",
       "      <td>Budanam</td>\n",
       "      <td>124.570278</td>\n",
       "      <td>73.849047</td>\n",
       "      <td>2017-11-27 08:42:28</td>\n",
       "      <td>2017-11-25 05:59:11.568004</td>\n",
       "    </tr>\n",
       "    <tr>\n",
       "      <th>4092</th>\n",
       "      <td>Jamshedpur HOSUR</td>\n",
       "      <td>OD04D5891</td>\n",
       "      <td>Gaddurur</td>\n",
       "      <td>134.004722</td>\n",
       "      <td>83.202246</td>\n",
       "      <td>2017-11-27 18:08:32</td>\n",
       "      <td>2017-11-25 15:20:23.086617</td>\n",
       "    </tr>\n",
       "    <tr>\n",
       "      <th>4515</th>\n",
       "      <td>Jamshedpur HOSUR</td>\n",
       "      <td>OD04D5891</td>\n",
       "      <td>Mulbagal</td>\n",
       "      <td>134.925278</td>\n",
       "      <td>85.165294</td>\n",
       "      <td>2017-11-27 19:03:46</td>\n",
       "      <td>2017-11-25 17:18:10.058611</td>\n",
       "    </tr>\n",
       "    <tr>\n",
       "      <th>5037</th>\n",
       "      <td>Jamshedpur INDORE</td>\n",
       "      <td>PB10CH3759</td>\n",
       "      <td>Pundag</td>\n",
       "      <td>16.748611</td>\n",
       "      <td>70.337624</td>\n",
       "      <td>2017-11-30 07:47:54</td>\n",
       "      <td>2017-12-02 13:23:14.445269</td>\n",
       "    </tr>\n",
       "    <tr>\n",
       "      <th>5052</th>\n",
       "      <td>Jamshedpur INDORE</td>\n",
       "      <td>PB10CH3759</td>\n",
       "      <td>Rasoiya Dhamna</td>\n",
       "      <td>20.642778</td>\n",
       "      <td>73.336504</td>\n",
       "      <td>2017-11-30 11:41:33</td>\n",
       "      <td>2017-12-02 16:23:10.415248</td>\n",
       "    </tr>\n",
       "    <tr>\n",
       "      <th>5081</th>\n",
       "      <td>Jamshedpur INDORE</td>\n",
       "      <td>PB10CH3759</td>\n",
       "      <td>Saukala</td>\n",
       "      <td>39.560000</td>\n",
       "      <td>74.209109</td>\n",
       "      <td>2017-12-01 06:36:35</td>\n",
       "      <td>2017-12-02 17:15:31.791840</td>\n",
       "    </tr>\n",
       "    <tr>\n",
       "      <th>5067</th>\n",
       "      <td>Jamshedpur INDORE</td>\n",
       "      <td>PB10CH3759</td>\n",
       "      <td>Sasaram</td>\n",
       "      <td>42.858056</td>\n",
       "      <td>77.979088</td>\n",
       "      <td>2017-12-01 09:54:28</td>\n",
       "      <td>2017-12-02 21:01:43.716873</td>\n",
       "    </tr>\n",
       "    <tr>\n",
       "      <th>5019</th>\n",
       "      <td>Jamshedpur INDORE</td>\n",
       "      <td>PB10CH3759</td>\n",
       "      <td>Mohania</td>\n",
       "      <td>44.411389</td>\n",
       "      <td>76.676187</td>\n",
       "      <td>2017-12-01 11:27:40</td>\n",
       "      <td>2017-12-02 19:43:33.274374</td>\n",
       "    </tr>\n",
       "    <tr>\n",
       "      <th>4926</th>\n",
       "      <td>Jamshedpur INDORE</td>\n",
       "      <td>PB10CH3759</td>\n",
       "      <td>Daffi</td>\n",
       "      <td>47.523333</td>\n",
       "      <td>87.773640</td>\n",
       "      <td>2017-12-01 14:34:23</td>\n",
       "      <td>2017-12-03 06:49:24.102896</td>\n",
       "    </tr>\n",
       "    <tr>\n",
       "      <th>5001</th>\n",
       "      <td>Jamshedpur INDORE</td>\n",
       "      <td>PB10CH3759</td>\n",
       "      <td>Lalanagar</td>\n",
       "      <td>49.730278</td>\n",
       "      <td>88.656568</td>\n",
       "      <td>2017-12-01 16:46:48</td>\n",
       "      <td>2017-12-03 07:42:22.646145</td>\n",
       "    </tr>\n",
       "    <tr>\n",
       "      <th>4905</th>\n",
       "      <td>Jamshedpur INDORE</td>\n",
       "      <td>PB10CH3759</td>\n",
       "      <td>Allahabad Bypass (Khokhraj, Nawabganj, Soraon,...</td>\n",
       "      <td>52.150556</td>\n",
       "      <td>102.458697</td>\n",
       "      <td>2017-12-01 19:12:01</td>\n",
       "      <td>2017-12-03 21:30:30.308725</td>\n",
       "    </tr>\n",
       "    <tr>\n",
       "      <th>4975</th>\n",
       "      <td>Jamshedpur INDORE</td>\n",
       "      <td>PB10CH3759</td>\n",
       "      <td>Katoghan</td>\n",
       "      <td>76.688611</td>\n",
       "      <td>104.530973</td>\n",
       "      <td>2017-12-02 19:44:18</td>\n",
       "      <td>2017-12-03 23:34:50.503657</td>\n",
       "    </tr>\n",
       "    <tr>\n",
       "      <th>4919</th>\n",
       "      <td>Jamshedpur INDORE</td>\n",
       "      <td>PB10CH3759</td>\n",
       "      <td>Badauri</td>\n",
       "      <td>86.420833</td>\n",
       "      <td>122.868069</td>\n",
       "      <td>2017-12-03 05:28:14</td>\n",
       "      <td>2017-12-04 17:55:04.047309</td>\n",
       "    </tr>\n",
       "    <tr>\n",
       "      <th>5094</th>\n",
       "      <td>Jamshedpur INDORE</td>\n",
       "      <td>PB10CH3759</td>\n",
       "      <td>Usaka ( Chamari)</td>\n",
       "      <td>90.806111</td>\n",
       "      <td>125.072520</td>\n",
       "      <td>2017-12-03 09:51:21</td>\n",
       "      <td>2017-12-04 20:07:20.072221</td>\n",
       "    </tr>\n",
       "    <tr>\n",
       "      <th>4899</th>\n",
       "      <td>Jamshedpur INDORE</td>\n",
       "      <td>PB10CH3759</td>\n",
       "      <td>Ait</td>\n",
       "      <td>91.722778</td>\n",
       "      <td>137.572321</td>\n",
       "      <td>2017-12-03 10:46:21</td>\n",
       "      <td>2017-12-05 08:37:19.356472</td>\n",
       "    </tr>\n",
       "    <tr>\n",
       "      <th>5043</th>\n",
       "      <td>Jamshedpur INDORE</td>\n",
       "      <td>PB10CH3759</td>\n",
       "      <td>Raksha</td>\n",
       "      <td>96.366389</td>\n",
       "      <td>158.417653</td>\n",
       "      <td>2017-12-03 15:24:58</td>\n",
       "      <td>2017-12-06 05:28:02.552348</td>\n",
       "    </tr>\n",
       "    <tr>\n",
       "      <th>4936</th>\n",
       "      <td>Jamshedpur INDORE</td>\n",
       "      <td>PB10CH3759</td>\n",
       "      <td>Guna Bypass</td>\n",
       "      <td>113.003889</td>\n",
       "      <td>153.386713</td>\n",
       "      <td>2017-12-04 08:03:13</td>\n",
       "      <td>2017-12-06 00:26:11.165800</td>\n",
       "    </tr>\n",
       "    <tr>\n",
       "      <th>4965</th>\n",
       "      <td>Jamshedpur INDORE</td>\n",
       "      <td>PB10CH3759</td>\n",
       "      <td>Indore Dewas (Indore side)</td>\n",
       "      <td>122.616389</td>\n",
       "      <td>186.621669</td>\n",
       "      <td>2017-12-04 17:39:58</td>\n",
       "      <td>2017-12-07 09:40:17.007362</td>\n",
       "    </tr>\n",
       "    <tr>\n",
       "      <th>4950</th>\n",
       "      <td>Jamshedpur INDORE</td>\n",
       "      <td>PB10CH3759</td>\n",
       "      <td>Indore Dewas  (Indore Bypass)</td>\n",
       "      <td>134.403611</td>\n",
       "      <td>175.473017</td>\n",
       "      <td>2017-12-05 05:27:12</td>\n",
       "      <td>2017-12-06 22:31:21.860987</td>\n",
       "    </tr>\n",
       "    <tr>\n",
       "      <th>5329</th>\n",
       "      <td>Jamshedpur KOLKATA</td>\n",
       "      <td>NL02N3814</td>\n",
       "      <td>Debra</td>\n",
       "      <td>35.776111</td>\n",
       "      <td>43.044275</td>\n",
       "      <td>2017-11-19 13:48:33</td>\n",
       "      <td>2017-11-19 21:04:38.389663</td>\n",
       "    </tr>\n",
       "    <tr>\n",
       "      <th>5363</th>\n",
       "      <td>Jamshedpur KOLKATA</td>\n",
       "      <td>NL02N3814</td>\n",
       "      <td>Jaladhulagori (Dhulagarh)</td>\n",
       "      <td>38.179722</td>\n",
       "      <td>48.082919</td>\n",
       "      <td>2017-11-19 16:12:46</td>\n",
       "      <td>2017-11-20 02:06:57.508702</td>\n",
       "    </tr>\n",
       "    <tr>\n",
       "      <th>5328</th>\n",
       "      <td>Jamshedpur KOLKATA</td>\n",
       "      <td>NL02N3814</td>\n",
       "      <td>Debra</td>\n",
       "      <td>40.685833</td>\n",
       "      <td>28.601100</td>\n",
       "      <td>2017-11-05 07:58:31</td>\n",
       "      <td>2017-11-04 19:53:25.961271</td>\n",
       "    </tr>\n",
       "    <tr>\n",
       "      <th>5330</th>\n",
       "      <td>Jamshedpur KOLKATA</td>\n",
       "      <td>NL02N3814</td>\n",
       "      <td>Debra</td>\n",
       "      <td>47.644444</td>\n",
       "      <td>48.801945</td>\n",
       "      <td>2017-12-06 16:17:42</td>\n",
       "      <td>2017-12-06 17:27:09.001241</td>\n",
       "    </tr>\n",
       "  </tbody>\n",
       "</table>\n",
       "</div>"
      ],
      "text/plain": [
       "                   route  vehicle_no  \\\n",
       "4690    Jamshedpur HOSUR   OD04D5891   \n",
       "4601    Jamshedpur HOSUR   OD04D5891   \n",
       "4473    Jamshedpur HOSUR   OD04D5891   \n",
       "4132    Jamshedpur HOSUR   OD04D5891   \n",
       "4177    Jamshedpur HOSUR   OD04D5891   \n",
       "3929    Jamshedpur HOSUR   OD04D5891   \n",
       "4425    Jamshedpur HOSUR   OD04D5891   \n",
       "4051    Jamshedpur HOSUR   OD04D5891   \n",
       "4381    Jamshedpur HOSUR   OD04D5891   \n",
       "4554    Jamshedpur HOSUR   OD04D5891   \n",
       "4823    Jamshedpur HOSUR   OD04D5891   \n",
       "4337    Jamshedpur HOSUR   OD04D5891   \n",
       "4243    Jamshedpur HOSUR   OD04D5891   \n",
       "4648    Jamshedpur HOSUR   OD04D5891   \n",
       "4285    Jamshedpur HOSUR   OD04D5891   \n",
       "3963    Jamshedpur HOSUR   OD04D5891   \n",
       "4776    Jamshedpur HOSUR   OD04D5891   \n",
       "4733    Jamshedpur HOSUR   OD04D5891   \n",
       "4867    Jamshedpur HOSUR   OD04D5891   \n",
       "4007    Jamshedpur HOSUR   OD04D5891   \n",
       "4092    Jamshedpur HOSUR   OD04D5891   \n",
       "4515    Jamshedpur HOSUR   OD04D5891   \n",
       "5037   Jamshedpur INDORE  PB10CH3759   \n",
       "5052   Jamshedpur INDORE  PB10CH3759   \n",
       "5081   Jamshedpur INDORE  PB10CH3759   \n",
       "5067   Jamshedpur INDORE  PB10CH3759   \n",
       "5019   Jamshedpur INDORE  PB10CH3759   \n",
       "4926   Jamshedpur INDORE  PB10CH3759   \n",
       "5001   Jamshedpur INDORE  PB10CH3759   \n",
       "4905   Jamshedpur INDORE  PB10CH3759   \n",
       "4975   Jamshedpur INDORE  PB10CH3759   \n",
       "4919   Jamshedpur INDORE  PB10CH3759   \n",
       "5094   Jamshedpur INDORE  PB10CH3759   \n",
       "4899   Jamshedpur INDORE  PB10CH3759   \n",
       "5043   Jamshedpur INDORE  PB10CH3759   \n",
       "4936   Jamshedpur INDORE  PB10CH3759   \n",
       "4965   Jamshedpur INDORE  PB10CH3759   \n",
       "4950   Jamshedpur INDORE  PB10CH3759   \n",
       "5329  Jamshedpur KOLKATA   NL02N3814   \n",
       "5363  Jamshedpur KOLKATA   NL02N3814   \n",
       "5328  Jamshedpur KOLKATA   NL02N3814   \n",
       "5330  Jamshedpur KOLKATA   NL02N3814   \n",
       "\n",
       "                                              toll_both  time_taken  \\\n",
       "4690                                           Sergrarh   63.595833   \n",
       "4601                                          Panikholi   66.002222   \n",
       "4473                                            Manguli   67.488056   \n",
       "4132                           Gudipada (Old Gangapada)   68.857500   \n",
       "4177                                          Gurapalli   71.043611   \n",
       "3929                                          Bellupada   85.191111   \n",
       "4425                                            Madapam   89.519722   \n",
       "4051                                       Chilakapalem   90.272500   \n",
       "4381                                         Laxmipuram   91.336389   \n",
       "4554                          Nathavalasa/ Vizianagaram   91.336389   \n",
       "4823                                            Vempadu   97.708056   \n",
       "4337                                       Krishnavaram  102.237500   \n",
       "4243                                          Kalaparru  107.043333   \n",
       "4648                                          Pottipadu  107.693333   \n",
       "4285                                               Kaza  109.140000   \n",
       "3963                                          Bolapalli  111.742778   \n",
       "4776                                           Tangutur  113.518056   \n",
       "4733                               Sunambatti (Musunur)  122.180000   \n",
       "4867                 Venkatachallam &#160;(Old Nellore)  123.666111   \n",
       "4007                                            Budanam  124.570278   \n",
       "4092                                           Gaddurur  134.004722   \n",
       "4515                                           Mulbagal  134.925278   \n",
       "5037                                             Pundag   16.748611   \n",
       "5052                                     Rasoiya Dhamna   20.642778   \n",
       "5081                                            Saukala   39.560000   \n",
       "5067                                            Sasaram   42.858056   \n",
       "5019                                            Mohania   44.411389   \n",
       "4926                                              Daffi   47.523333   \n",
       "5001                                          Lalanagar   49.730278   \n",
       "4905  Allahabad Bypass (Khokhraj, Nawabganj, Soraon,...   52.150556   \n",
       "4975                                           Katoghan   76.688611   \n",
       "4919                                            Badauri   86.420833   \n",
       "5094                                   Usaka ( Chamari)   90.806111   \n",
       "4899                                                Ait   91.722778   \n",
       "5043                                             Raksha   96.366389   \n",
       "4936                                        Guna Bypass  113.003889   \n",
       "4965                         Indore Dewas (Indore side)  122.616389   \n",
       "4950                      Indore Dewas  (Indore Bypass)  134.403611   \n",
       "5329                                              Debra   35.776111   \n",
       "5363                          Jaladhulagori (Dhulagarh)   38.179722   \n",
       "5328                                              Debra   40.685833   \n",
       "5330                                              Debra   47.644444   \n",
       "\n",
       "       predicted       ist_timestamp    predicted_ist_timestamp  \n",
       "4690   17.665135 2017-11-24 19:44:00 2017-11-22 21:48:09.487675  \n",
       "4601   20.556471 2017-11-24 22:08:23 2017-11-23 00:41:38.294663  \n",
       "4473    4.600498 2017-11-24 23:37:32 2017-11-22 08:44:16.792337  \n",
       "4132    4.580071 2017-11-25 00:59:42 2017-11-22 08:43:03.256505  \n",
       "4177    6.029047 2017-11-25 03:10:52 2017-11-22 10:09:59.569441  \n",
       "3929    4.790456 2017-11-25 17:19:43 2017-11-22 08:55:40.640562  \n",
       "4425    5.438115 2017-11-25 21:39:26 2017-11-22 09:34:32.213829  \n",
       "4051    5.767180 2017-11-25 22:24:36 2017-11-22 09:54:16.848167  \n",
       "4381   10.786601 2017-11-25 23:28:26 2017-11-22 14:55:26.764202  \n",
       "4554   12.147600 2017-11-25 23:28:26 2017-11-22 16:17:06.360662  \n",
       "4823   63.572689 2017-11-26 05:50:44 2017-11-24 19:42:36.680498  \n",
       "4337   65.819027 2017-11-26 10:22:30 2017-11-24 21:57:23.498656  \n",
       "4243   67.679934 2017-11-26 15:10:51 2017-11-24 23:49:02.763326  \n",
       "4648   67.519767 2017-11-26 15:49:51 2017-11-24 23:39:26.162360  \n",
       "4285   68.488943 2017-11-26 17:16:39 2017-11-25 00:37:35.195204  \n",
       "3963   71.502089 2017-11-26 19:52:49 2017-11-25 03:38:22.521368  \n",
       "4776   71.403908 2017-11-26 21:39:20 2017-11-25 03:32:29.068486  \n",
       "4733   70.109764 2017-11-27 06:19:03 2017-11-25 02:14:50.150742  \n",
       "4867   72.378999 2017-11-27 07:48:13 2017-11-25 04:30:59.395737  \n",
       "4007   73.849047 2017-11-27 08:42:28 2017-11-25 05:59:11.568004  \n",
       "4092   83.202246 2017-11-27 18:08:32 2017-11-25 15:20:23.086617  \n",
       "4515   85.165294 2017-11-27 19:03:46 2017-11-25 17:18:10.058611  \n",
       "5037   70.337624 2017-11-30 07:47:54 2017-12-02 13:23:14.445269  \n",
       "5052   73.336504 2017-11-30 11:41:33 2017-12-02 16:23:10.415248  \n",
       "5081   74.209109 2017-12-01 06:36:35 2017-12-02 17:15:31.791840  \n",
       "5067   77.979088 2017-12-01 09:54:28 2017-12-02 21:01:43.716873  \n",
       "5019   76.676187 2017-12-01 11:27:40 2017-12-02 19:43:33.274374  \n",
       "4926   87.773640 2017-12-01 14:34:23 2017-12-03 06:49:24.102896  \n",
       "5001   88.656568 2017-12-01 16:46:48 2017-12-03 07:42:22.646145  \n",
       "4905  102.458697 2017-12-01 19:12:01 2017-12-03 21:30:30.308725  \n",
       "4975  104.530973 2017-12-02 19:44:18 2017-12-03 23:34:50.503657  \n",
       "4919  122.868069 2017-12-03 05:28:14 2017-12-04 17:55:04.047309  \n",
       "5094  125.072520 2017-12-03 09:51:21 2017-12-04 20:07:20.072221  \n",
       "4899  137.572321 2017-12-03 10:46:21 2017-12-05 08:37:19.356472  \n",
       "5043  158.417653 2017-12-03 15:24:58 2017-12-06 05:28:02.552348  \n",
       "4936  153.386713 2017-12-04 08:03:13 2017-12-06 00:26:11.165800  \n",
       "4965  186.621669 2017-12-04 17:39:58 2017-12-07 09:40:17.007362  \n",
       "4950  175.473017 2017-12-05 05:27:12 2017-12-06 22:31:21.860987  \n",
       "5329   43.044275 2017-11-19 13:48:33 2017-11-19 21:04:38.389663  \n",
       "5363   48.082919 2017-11-19 16:12:46 2017-11-20 02:06:57.508702  \n",
       "5328   28.601100 2017-11-05 07:58:31 2017-11-04 19:53:25.961271  \n",
       "5330   48.801945 2017-12-06 16:17:42 2017-12-06 17:27:09.001241  "
      ]
     },
     "execution_count": 65,
     "metadata": {},
     "output_type": "execute_result"
    }
   ],
   "source": [
    "show_df[['route','vehicle_no','toll_both','time_taken','predicted','ist_timestamp','predicted_ist_timestamp']]"
   ]
  },
  {
   "cell_type": "code",
   "execution_count": null,
   "metadata": {},
   "outputs": [],
   "source": []
  },
  {
   "cell_type": "code",
   "execution_count": null,
   "metadata": {},
   "outputs": [],
   "source": []
  }
 ],
 "metadata": {
  "kernelspec": {
   "display_name": "Python 2",
   "language": "python",
   "name": "python2"
  },
  "language_info": {
   "codemirror_mode": {
    "name": "ipython",
    "version": 2
   },
   "file_extension": ".py",
   "mimetype": "text/x-python",
   "name": "python",
   "nbconvert_exporter": "python",
   "pygments_lexer": "ipython2",
   "version": "2.7.12"
  }
 },
 "nbformat": 4,
 "nbformat_minor": 2
}
