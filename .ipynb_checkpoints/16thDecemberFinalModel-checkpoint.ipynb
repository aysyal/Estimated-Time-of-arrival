{
 "cells": [
  {
   "cell_type": "code",
   "execution_count": 1,
   "metadata": {},
   "outputs": [],
   "source": [
    "import pandas as pd\n",
    "import numpy as np\n",
    "%matplotlib inline\n",
    "from sklearn.neural_network import MLPRegressor\n",
    "import datetime\n",
    "from sklearn.model_selection import train_test_split\n",
    "from sklearn.preprocessing import MinMaxScaler\n",
    "from sklearn.model_selection import cross_val_score"
   ]
  },
  {
   "cell_type": "code",
   "execution_count": 2,
   "metadata": {},
   "outputs": [],
   "source": [
    "new_toll_time = pd.read_csv('new_toll_time_no_0.csv')"
   ]
  },
  {
   "cell_type": "code",
   "execution_count": 8,
   "metadata": {},
   "outputs": [],
   "source": [
    "new_toll_time.drop(['Unnamed: 0'], axis=1, inplace=True)"
   ]
  },
  {
   "cell_type": "code",
   "execution_count": 2,
   "metadata": {},
   "outputs": [],
   "source": [
    "# train_df = pd.read_csv('Ffinal_train_df_14Dec2017.csv')\n",
    "# test_df = pd.read_csv('Ffinal_test_df_14Dec2017.csv')"
   ]
  },
  {
   "cell_type": "code",
   "execution_count": null,
   "metadata": {},
   "outputs": [],
   "source": [
    "how "
   ]
  },
  {
   "cell_type": "code",
   "execution_count": null,
   "metadata": {},
   "outputs": [],
   "source": []
  },
  {
   "cell_type": "code",
   "execution_count": 4,
   "metadata": {},
   "outputs": [],
   "source": [
    "train_df.loc[train_df['time_btn_tolls'] == 0, 'time_btn_tolls']  = train_df.loc[train_df['time_btn_tolls'] == 0, 'time_taken']  "
   ]
  },
  {
   "cell_type": "code",
   "execution_count": 7,
   "metadata": {},
   "outputs": [],
   "source": [
    "dict_last_ist = {'OR04M532M': datetime.datetime(2017, 11, 4, 12, 10, 12),\n",
    " 'OR04M53MM': datetime.datetime(2017, 10, 23, 1, 35, 49)}"
   ]
  },
  {
   "cell_type": "code",
   "execution_count": 8,
   "metadata": {},
   "outputs": [],
   "source": [
    "def find_toll_num(df):\n",
    "    toll_dict = {}\n",
    "    new_toll_dict = {}\n",
    "    x = {}\n",
    "    num = 1\n",
    "    for toll in df.toll_both.unique().tolist():\n",
    "        t = df['time_taken'][df.toll_both == toll].median()\n",
    "        toll_dict[toll] = t\n",
    "    \n",
    "    for key, value in sorted(toll_dict.iteritems(), key=lambda (k,v): (v,k)):\n",
    "        x[key] = value\n",
    "        new_toll_dict[key] = num\n",
    "        num+=1\n",
    "        \n",
    "    return new_toll_dict, x"
   ]
  },
  {
   "cell_type": "code",
   "execution_count": 10,
   "metadata": {},
   "outputs": [],
   "source": [
    "new_toll_dict,x = find_toll_num(new_toll_time)"
   ]
  },
  {
   "cell_type": "code",
   "execution_count": 14,
   "metadata": {},
   "outputs": [],
   "source": [
    "# dict_toll_both_train_df = change_toll_booth_to_dummy(train_df)\n",
    "train_df.toll_both = train_df.toll_both.replace(new_toll_dict)\n",
    "test_df.toll_both = test_df.toll_both.replace(new_toll_dict)"
   ]
  },
  {
   "cell_type": "code",
   "execution_count": 15,
   "metadata": {},
   "outputs": [],
   "source": [
    "def change_vehicle_no_to_dummy(df):\n",
    "    num = 1\n",
    "    dict_vehicle_no = {}\n",
    "    for truck in df['vehicle_no'].unique().tolist():\n",
    "        df['vehicle_no'] = df['vehicle_no'].replace({truck: num})\n",
    "        dict_vehicle_no[num] = truck\n",
    "        num += 1\n",
    "    return dict_vehicle_no"
   ]
  },
  {
   "cell_type": "code",
   "execution_count": 16,
   "metadata": {},
   "outputs": [],
   "source": [
    "dict_vehicle_no_train_df = change_vehicle_no_to_dummy(train_df)\n",
    "rev_dict_vehicle_no_test_df = dict((v,k) for k,v in dict_vehicle_no_train_df.iteritems())\n",
    "test_df.vehicle_no = test_df.vehicle_no.replace(rev_dict_vehicle_no_test_df)"
   ]
  },
  {
   "cell_type": "code",
   "execution_count": 17,
   "metadata": {},
   "outputs": [],
   "source": [
    "train_df.drop(['time_taken'], axis=1, inplace=True)\n",
    "test_df.drop(['time_taken','time_btn_tolls'], axis=1, inplace=True)"
   ]
  },
  {
   "cell_type": "code",
   "execution_count": 18,
   "metadata": {},
   "outputs": [],
   "source": [
    "train_X = train_df.drop(['time_btn_tolls'], axis=1)\n",
    "train_y = train_df.time_btn_tolls"
   ]
  },
  {
   "cell_type": "code",
   "execution_count": 21,
   "metadata": {},
   "outputs": [],
   "source": [
    "X_train, X_test, y_train, y_test = train_test_split(train_X,train_y, test_size=0.3, random_state=42)"
   ]
  },
  {
   "cell_type": "code",
   "execution_count": 24,
   "metadata": {},
   "outputs": [],
   "source": [
    "scale= MinMaxScaler()\n",
    "X_train_scaled = scale.fit_transform(X_train)\n",
    "X_test_scaled = scale.fit_transform(X_test)"
   ]
  },
  {
   "cell_type": "code",
   "execution_count": 25,
   "metadata": {},
   "outputs": [],
   "source": [
    "reg_mlp = MLPRegressor(hidden_layer_sizes=(500,), activation='logistic', alpha=8, solver='lbfgs', random_state=42)"
   ]
  },
  {
   "cell_type": "code",
   "execution_count": 92,
   "metadata": {},
   "outputs": [
    {
     "ename": "AttributeError",
     "evalue": "partial_fit is only available for stochastic optimizers. lbfgs is not stochastic.",
     "output_type": "error",
     "traceback": [
      "\u001b[0;31m---------------------------------------------------------------------------\u001b[0m",
      "\u001b[0;31mAttributeError\u001b[0m                            Traceback (most recent call last)",
      "\u001b[0;32m<ipython-input-92-ae8fc98992f1>\u001b[0m in \u001b[0;36m<module>\u001b[0;34m()\u001b[0m\n\u001b[1;32m      1\u001b[0m \u001b[0;31m# reg_svr = SVR(C=100.0, cache_size=200, coef0=0.0, degree=3, epsilon=0.1, gamma=1.0,\u001b[0m\u001b[0;34m\u001b[0m\u001b[0;34m\u001b[0m\u001b[0m\n\u001b[1;32m      2\u001b[0m \u001b[0;31m#   kernel='rbf', max_iter=-1, shrinking=True, tol=0.001, verbose=False)\u001b[0m\u001b[0;34m\u001b[0m\u001b[0;34m\u001b[0m\u001b[0m\n\u001b[0;32m----> 3\u001b[0;31m \u001b[0mreg_mlp\u001b[0m\u001b[0;34m.\u001b[0m\u001b[0mpartial_fit\u001b[0m\u001b[0;34m(\u001b[0m\u001b[0mX_train_scaled\u001b[0m\u001b[0;34m,\u001b[0m \u001b[0my_train\u001b[0m\u001b[0;34m)\u001b[0m\u001b[0;34m\u001b[0m\u001b[0m\n\u001b[0m\u001b[1;32m      4\u001b[0m \u001b[0mreg_mlp\u001b[0m\u001b[0;34m.\u001b[0m\u001b[0mscore\u001b[0m\u001b[0;34m(\u001b[0m\u001b[0mX_test_scaled\u001b[0m\u001b[0;34m,\u001b[0m \u001b[0my_test\u001b[0m\u001b[0;34m)\u001b[0m\u001b[0;34m\u001b[0m\u001b[0m\n",
      "\u001b[0;32m/usr/local/lib/python2.7/dist-packages/sklearn/neural_network/multilayer_perceptron.pyc\u001b[0m in \u001b[0;36mpartial_fit\u001b[0;34m(self)\u001b[0m\n\u001b[1;32m    639\u001b[0m             raise AttributeError(\"partial_fit is only available for stochastic\"\n\u001b[1;32m    640\u001b[0m                                  \u001b[0;34m\" optimizers. %s is not stochastic.\"\u001b[0m\u001b[0;34m\u001b[0m\u001b[0m\n\u001b[0;32m--> 641\u001b[0;31m                                  % self.solver)\n\u001b[0m\u001b[1;32m    642\u001b[0m         \u001b[0;32mreturn\u001b[0m \u001b[0mself\u001b[0m\u001b[0;34m.\u001b[0m\u001b[0m_partial_fit\u001b[0m\u001b[0;34m\u001b[0m\u001b[0m\n\u001b[1;32m    643\u001b[0m \u001b[0;34m\u001b[0m\u001b[0m\n",
      "\u001b[0;31mAttributeError\u001b[0m: partial_fit is only available for stochastic optimizers. lbfgs is not stochastic."
     ]
    }
   ],
   "source": [
    "# reg_svr = SVR(C=100.0, cache_size=200, coef0=0.0, degree=3, epsilon=0.1, gamma=1.0,\n",
    "#   kernel='rbf', max_iter=-1, shrinking=True, tol=0.001, verbose=False)\n",
    "reg_mlp.partial_fit(X_train_scaled, y_train)\n",
    "reg_mlp.score(X_test_scaled, y_test)"
   ]
  },
  {
   "cell_type": "code",
   "execution_count": 29,
   "metadata": {},
   "outputs": [
    {
     "name": "stdout",
     "output_type": "stream",
     "text": [
      "Accuracy: 0.56 (+/- 0.04)\n"
     ]
    }
   ],
   "source": [
    "scores = cross_val_score(reg_mlp, X_train_scaled, y_train, scoring='r2', n_jobs=-1)\n",
    "print(\"Accuracy: %0.2f (+/- %0.2f)\" % (scores.mean(), scores.std() * 2))"
   ]
  },
  {
   "cell_type": "code",
   "execution_count": 75,
   "metadata": {},
   "outputs": [],
   "source": [
    "scale = MinMaxScaler()\n",
    "X_predict_scaled = scale.fit_transform(test_df)\n",
    "predictions = reg_mlp.predict(X_predict_scaled)"
   ]
  },
  {
   "cell_type": "code",
   "execution_count": 76,
   "metadata": {},
   "outputs": [],
   "source": [
    "show_df = test_df.copy()\n",
    "show_df['predicted'] = predictions"
   ]
  },
  {
   "cell_type": "code",
   "execution_count": 79,
   "metadata": {},
   "outputs": [],
   "source": [
    "# # for num, truck in dict_vehicle_no_train_df.iteritems():\n",
    "# list_truck = []\n",
    "# for truck, ist in dict_last_ist.iteritems():\n",
    "#     list_truck.append(truck)\n",
    "    \n",
    "# for truck in list_truck:\n",
    "#     i = rev_dict_vehicle_no_test_df[truck]\n",
    "#     dict_last_ist[i] = dict_last_ist.pop(truck)"
   ]
  },
  {
   "cell_type": "code",
   "execution_count": 80,
   "metadata": {},
   "outputs": [],
   "source": [
    "show_df['eta'] = show_df['predicted']"
   ]
  },
  {
   "cell_type": "code",
   "execution_count": 81,
   "metadata": {},
   "outputs": [
    {
     "name": "stderr",
     "output_type": "stream",
     "text": [
      "/usr/local/lib/python2.7/dist-packages/ipykernel_launcher.py:3: SettingWithCopyWarning: \n",
      "A value is trying to be set on a copy of a slice from a DataFrame\n",
      "\n",
      "See the caveats in the documentation: http://pandas.pydata.org/pandas-docs/stable/indexing.html#indexing-view-versus-copy\n",
      "  This is separate from the ipykernel package so we can avoid doing imports until\n"
     ]
    }
   ],
   "source": [
    "show_df['time_taken'] = 0\n",
    "for truck, ist in dict_last_ist.iteritems():\n",
    "    show_df['time_taken'][show_df['vehicle_no'] == truck] = show_df['predicted'][show_df['vehicle_no'] == truck].cumsum()"
   ]
  },
  {
   "cell_type": "code",
   "execution_count": 82,
   "metadata": {},
   "outputs": [
    {
     "name": "stderr",
     "output_type": "stream",
     "text": [
      "/usr/local/lib/python2.7/dist-packages/ipykernel_launcher.py:2: SettingWithCopyWarning: \n",
      "A value is trying to be set on a copy of a slice from a DataFrame\n",
      "\n",
      "See the caveats in the documentation: http://pandas.pydata.org/pandas-docs/stable/indexing.html#indexing-view-versus-copy\n",
      "  \n"
     ]
    }
   ],
   "source": [
    "for truck, ist in dict_last_ist.iteritems():\n",
    "    show_df['eta'][show_df['vehicle_no'] == truck] = str(ist)"
   ]
  },
  {
   "cell_type": "code",
   "execution_count": 83,
   "metadata": {},
   "outputs": [],
   "source": [
    "show_df['eta'] = show_df['eta'].apply(lambda x:datetime.datetime.strptime(x, '%Y-%m-%d %H:%M:%S') )"
   ]
  },
  {
   "cell_type": "code",
   "execution_count": 84,
   "metadata": {},
   "outputs": [
    {
     "data": {
      "text/plain": [
       "toll_both                      int64\n",
       "vehicle_no                     int64\n",
       "loading_out_time               int64\n",
       "distance_travelled           float64\n",
       "time_of_travel                 int64\n",
       "day_of_travel                  int64\n",
       "month_of_travel                int64\n",
       "days_from_now                  int64\n",
       "predicted                    float64\n",
       "eta                   datetime64[ns]\n",
       "time_taken                   float64\n",
       "dtype: object"
      ]
     },
     "execution_count": 84,
     "metadata": {},
     "output_type": "execute_result"
    }
   ],
   "source": [
    "show_df.dtypes"
   ]
  },
  {
   "cell_type": "code",
   "execution_count": 85,
   "metadata": {},
   "outputs": [],
   "source": [
    "show_df['time_taken'] = show_df['time_taken'].apply(lambda x: datetime.timedelta(hours=x) )"
   ]
  },
  {
   "cell_type": "code",
   "execution_count": 86,
   "metadata": {},
   "outputs": [],
   "source": [
    "show_df['eta'] = show_df['eta'] + show_df['time_taken']"
   ]
  },
  {
   "cell_type": "code",
   "execution_count": 87,
   "metadata": {},
   "outputs": [
    {
     "data": {
      "text/plain": [
       "'OR04M532M'"
      ]
     },
     "execution_count": 87,
     "metadata": {},
     "output_type": "execute_result"
    }
   ],
   "source": [
    "dict_vehicle_no_train_df[131]"
   ]
  },
  {
   "cell_type": "code",
   "execution_count": 89,
   "metadata": {},
   "outputs": [],
   "source": [
    "show_df['vehicle_no'] = show_df['vehicle_no'].apply(lambda x:dict_vehicle_no_train_df[x])"
   ]
  },
  {
   "cell_type": "code",
   "execution_count": 90,
   "metadata": {},
   "outputs": [],
   "source": [
    "rev_toll_dict = dict((v,k) for k,v in new_toll_dict.iteritems())\n",
    "show_df.toll_both = show_df.toll_both.replace(rev_toll_dict)"
   ]
  },
  {
   "cell_type": "code",
   "execution_count": 91,
   "metadata": {},
   "outputs": [
    {
     "data": {
      "text/html": [
       "<div>\n",
       "<style>\n",
       "    .dataframe thead tr:only-child th {\n",
       "        text-align: right;\n",
       "    }\n",
       "\n",
       "    .dataframe thead th {\n",
       "        text-align: left;\n",
       "    }\n",
       "\n",
       "    .dataframe tbody tr th {\n",
       "        vertical-align: top;\n",
       "    }\n",
       "</style>\n",
       "<table border=\"1\" class=\"dataframe\">\n",
       "  <thead>\n",
       "    <tr style=\"text-align: right;\">\n",
       "      <th></th>\n",
       "      <th>toll_both</th>\n",
       "      <th>vehicle_no</th>\n",
       "      <th>loading_out_time</th>\n",
       "      <th>distance_travelled</th>\n",
       "      <th>time_of_travel</th>\n",
       "      <th>day_of_travel</th>\n",
       "      <th>month_of_travel</th>\n",
       "      <th>days_from_now</th>\n",
       "      <th>predicted</th>\n",
       "      <th>eta</th>\n",
       "      <th>time_taken</th>\n",
       "    </tr>\n",
       "  </thead>\n",
       "  <tbody>\n",
       "    <tr>\n",
       "      <th>0</th>\n",
       "      <td>Gudipada (Old Gangapada)</td>\n",
       "      <td>OR04M532M</td>\n",
       "      <td>12</td>\n",
       "      <td>56.155</td>\n",
       "      <td>8</td>\n",
       "      <td>6</td>\n",
       "      <td>11</td>\n",
       "      <td>41</td>\n",
       "      <td>7.479163</td>\n",
       "      <td>2017-11-04 19:38:56.986745</td>\n",
       "      <td>0 days 07:28:44.986745</td>\n",
       "    </tr>\n",
       "    <tr>\n",
       "      <th>1</th>\n",
       "      <td>Gurapalli</td>\n",
       "      <td>OR04M532M</td>\n",
       "      <td>12</td>\n",
       "      <td>88.000</td>\n",
       "      <td>11</td>\n",
       "      <td>6</td>\n",
       "      <td>11</td>\n",
       "      <td>41</td>\n",
       "      <td>4.134102</td>\n",
       "      <td>2017-11-04 23:46:59.753713</td>\n",
       "      <td>0 days 11:36:47.753713</td>\n",
       "    </tr>\n",
       "    <tr>\n",
       "      <th>2</th>\n",
       "      <td>Bellupada</td>\n",
       "      <td>OR04M532M</td>\n",
       "      <td>12</td>\n",
       "      <td>83.835</td>\n",
       "      <td>18</td>\n",
       "      <td>6</td>\n",
       "      <td>11</td>\n",
       "      <td>41</td>\n",
       "      <td>3.622545</td>\n",
       "      <td>2017-11-05 03:24:20.916424</td>\n",
       "      <td>0 days 15:14:08.916424</td>\n",
       "    </tr>\n",
       "    <tr>\n",
       "      <th>3</th>\n",
       "      <td>Madapam</td>\n",
       "      <td>OR04M532M</td>\n",
       "      <td>12</td>\n",
       "      <td>115.690</td>\n",
       "      <td>22</td>\n",
       "      <td>6</td>\n",
       "      <td>11</td>\n",
       "      <td>41</td>\n",
       "      <td>8.032359</td>\n",
       "      <td>2017-11-05 11:26:17.408600</td>\n",
       "      <td>0 days 23:16:05.408600</td>\n",
       "    </tr>\n",
       "    <tr>\n",
       "      <th>4</th>\n",
       "      <td>Chilakapalem</td>\n",
       "      <td>OR04M532M</td>\n",
       "      <td>12</td>\n",
       "      <td>27.020</td>\n",
       "      <td>0</td>\n",
       "      <td>0</td>\n",
       "      <td>11</td>\n",
       "      <td>41</td>\n",
       "      <td>11.896269</td>\n",
       "      <td>2017-11-05 23:20:03.977875</td>\n",
       "      <td>1 days 11:09:51.977875</td>\n",
       "    </tr>\n",
       "    <tr>\n",
       "      <th>5</th>\n",
       "      <td>Nathavalasa/ Vizianagaram</td>\n",
       "      <td>OR04M532M</td>\n",
       "      <td>12</td>\n",
       "      <td>39.330</td>\n",
       "      <td>4</td>\n",
       "      <td>0</td>\n",
       "      <td>11</td>\n",
       "      <td>41</td>\n",
       "      <td>4.159764</td>\n",
       "      <td>2017-11-06 03:29:39.126488</td>\n",
       "      <td>1 days 15:19:27.126488</td>\n",
       "    </tr>\n",
       "    <tr>\n",
       "      <th>6</th>\n",
       "      <td>Vempadu</td>\n",
       "      <td>OR04M532M</td>\n",
       "      <td>12</td>\n",
       "      <td>127.950</td>\n",
       "      <td>8</td>\n",
       "      <td>0</td>\n",
       "      <td>11</td>\n",
       "      <td>41</td>\n",
       "      <td>11.399508</td>\n",
       "      <td>2017-11-06 14:53:37.355313</td>\n",
       "      <td>2 days 02:43:25.355313</td>\n",
       "    </tr>\n",
       "    <tr>\n",
       "      <th>7</th>\n",
       "      <td>Krishnavaram</td>\n",
       "      <td>OR04M532M</td>\n",
       "      <td>12</td>\n",
       "      <td>69.660</td>\n",
       "      <td>12</td>\n",
       "      <td>0</td>\n",
       "      <td>11</td>\n",
       "      <td>41</td>\n",
       "      <td>4.368015</td>\n",
       "      <td>2017-11-06 19:15:42.209151</td>\n",
       "      <td>2 days 07:05:30.209151</td>\n",
       "    </tr>\n",
       "    <tr>\n",
       "      <th>8</th>\n",
       "      <td>Kalaparru</td>\n",
       "      <td>OR04M532M</td>\n",
       "      <td>12</td>\n",
       "      <td>144.380</td>\n",
       "      <td>19</td>\n",
       "      <td>0</td>\n",
       "      <td>11</td>\n",
       "      <td>41</td>\n",
       "      <td>14.193812</td>\n",
       "      <td>2017-11-07 09:27:19.931264</td>\n",
       "      <td>2 days 21:17:07.931264</td>\n",
       "    </tr>\n",
       "    <tr>\n",
       "      <th>9</th>\n",
       "      <td>Kaza</td>\n",
       "      <td>OR04M532M</td>\n",
       "      <td>12</td>\n",
       "      <td>45.510</td>\n",
       "      <td>20</td>\n",
       "      <td>0</td>\n",
       "      <td>11</td>\n",
       "      <td>41</td>\n",
       "      <td>2.664515</td>\n",
       "      <td>2017-11-07 12:07:12.184931</td>\n",
       "      <td>2 days 23:57:00.184931</td>\n",
       "    </tr>\n",
       "    <tr>\n",
       "      <th>10</th>\n",
       "      <td>Bolapalli</td>\n",
       "      <td>OR04M532M</td>\n",
       "      <td>12</td>\n",
       "      <td>82.215</td>\n",
       "      <td>1</td>\n",
       "      <td>1</td>\n",
       "      <td>11</td>\n",
       "      <td>41</td>\n",
       "      <td>6.779628</td>\n",
       "      <td>2017-11-07 18:53:58.846361</td>\n",
       "      <td>3 days 06:43:46.846361</td>\n",
       "    </tr>\n",
       "    <tr>\n",
       "      <th>11</th>\n",
       "      <td>Tangutur</td>\n",
       "      <td>OR04M532M</td>\n",
       "      <td>12</td>\n",
       "      <td>63.975</td>\n",
       "      <td>3</td>\n",
       "      <td>1</td>\n",
       "      <td>11</td>\n",
       "      <td>41</td>\n",
       "      <td>4.750822</td>\n",
       "      <td>2017-11-07 23:39:01.805607</td>\n",
       "      <td>3 days 11:28:49.805607</td>\n",
       "    </tr>\n",
       "    <tr>\n",
       "      <th>12</th>\n",
       "      <td>Sunambatti (Musunur)</td>\n",
       "      <td>OR04M532M</td>\n",
       "      <td>12</td>\n",
       "      <td>62.070</td>\n",
       "      <td>5</td>\n",
       "      <td>1</td>\n",
       "      <td>11</td>\n",
       "      <td>41</td>\n",
       "      <td>4.782828</td>\n",
       "      <td>2017-11-08 04:25:59.984841</td>\n",
       "      <td>3 days 16:15:47.984841</td>\n",
       "    </tr>\n",
       "    <tr>\n",
       "      <th>13</th>\n",
       "      <td>Budanam</td>\n",
       "      <td>OR04M532M</td>\n",
       "      <td>12</td>\n",
       "      <td>97.575</td>\n",
       "      <td>10</td>\n",
       "      <td>1</td>\n",
       "      <td>11</td>\n",
       "      <td>41</td>\n",
       "      <td>9.598972</td>\n",
       "      <td>2017-11-08 14:01:56.284494</td>\n",
       "      <td>4 days 01:51:44.284494</td>\n",
       "    </tr>\n",
       "    <tr>\n",
       "      <th>14</th>\n",
       "      <td>Gaddurur</td>\n",
       "      <td>OR04M532M</td>\n",
       "      <td>12</td>\n",
       "      <td>217.330</td>\n",
       "      <td>3</td>\n",
       "      <td>2</td>\n",
       "      <td>11</td>\n",
       "      <td>41</td>\n",
       "      <td>23.749238</td>\n",
       "      <td>2017-11-09 13:46:53.541528</td>\n",
       "      <td>5 days 01:36:41.541528</td>\n",
       "    </tr>\n",
       "    <tr>\n",
       "      <th>15</th>\n",
       "      <td>Bellupada</td>\n",
       "      <td>OR04M53MM</td>\n",
       "      <td>21</td>\n",
       "      <td>83.835</td>\n",
       "      <td>3</td>\n",
       "      <td>1</td>\n",
       "      <td>10</td>\n",
       "      <td>53</td>\n",
       "      <td>5.524627</td>\n",
       "      <td>2017-10-23 07:07:17.658898</td>\n",
       "      <td>0 days 05:31:28.658898</td>\n",
       "    </tr>\n",
       "    <tr>\n",
       "      <th>16</th>\n",
       "      <td>Madapam</td>\n",
       "      <td>OR04M53MM</td>\n",
       "      <td>21</td>\n",
       "      <td>115.690</td>\n",
       "      <td>7</td>\n",
       "      <td>1</td>\n",
       "      <td>10</td>\n",
       "      <td>53</td>\n",
       "      <td>10.417977</td>\n",
       "      <td>2017-10-23 17:32:22.377648</td>\n",
       "      <td>0 days 15:56:33.377648</td>\n",
       "    </tr>\n",
       "    <tr>\n",
       "      <th>17</th>\n",
       "      <td>Chilakapalem</td>\n",
       "      <td>OR04M53MM</td>\n",
       "      <td>21</td>\n",
       "      <td>27.020</td>\n",
       "      <td>9</td>\n",
       "      <td>1</td>\n",
       "      <td>10</td>\n",
       "      <td>53</td>\n",
       "      <td>10.374481</td>\n",
       "      <td>2017-10-24 03:54:50.509312</td>\n",
       "      <td>1 days 02:19:01.509312</td>\n",
       "    </tr>\n",
       "    <tr>\n",
       "      <th>18</th>\n",
       "      <td>Nathavalasa/ Vizianagaram</td>\n",
       "      <td>OR04M53MM</td>\n",
       "      <td>21</td>\n",
       "      <td>39.330</td>\n",
       "      <td>13</td>\n",
       "      <td>1</td>\n",
       "      <td>10</td>\n",
       "      <td>53</td>\n",
       "      <td>3.609387</td>\n",
       "      <td>2017-10-24 07:31:24.301886</td>\n",
       "      <td>1 days 05:55:35.301886</td>\n",
       "    </tr>\n",
       "    <tr>\n",
       "      <th>19</th>\n",
       "      <td>Vempadu</td>\n",
       "      <td>OR04M53MM</td>\n",
       "      <td>21</td>\n",
       "      <td>127.950</td>\n",
       "      <td>17</td>\n",
       "      <td>1</td>\n",
       "      <td>10</td>\n",
       "      <td>53</td>\n",
       "      <td>12.857156</td>\n",
       "      <td>2017-10-24 20:22:50.063341</td>\n",
       "      <td>1 days 18:47:01.063341</td>\n",
       "    </tr>\n",
       "    <tr>\n",
       "      <th>20</th>\n",
       "      <td>Krishnavaram</td>\n",
       "      <td>OR04M53MM</td>\n",
       "      <td>21</td>\n",
       "      <td>69.660</td>\n",
       "      <td>21</td>\n",
       "      <td>1</td>\n",
       "      <td>10</td>\n",
       "      <td>53</td>\n",
       "      <td>4.933766</td>\n",
       "      <td>2017-10-25 01:18:51.621638</td>\n",
       "      <td>1 days 23:43:02.621638</td>\n",
       "    </tr>\n",
       "    <tr>\n",
       "      <th>21</th>\n",
       "      <td>Kalaparru</td>\n",
       "      <td>OR04M53MM</td>\n",
       "      <td>21</td>\n",
       "      <td>144.380</td>\n",
       "      <td>4</td>\n",
       "      <td>2</td>\n",
       "      <td>10</td>\n",
       "      <td>53</td>\n",
       "      <td>16.375744</td>\n",
       "      <td>2017-10-25 17:41:24.298329</td>\n",
       "      <td>2 days 16:05:35.298329</td>\n",
       "    </tr>\n",
       "    <tr>\n",
       "      <th>22</th>\n",
       "      <td>Kaza</td>\n",
       "      <td>OR04M53MM</td>\n",
       "      <td>21</td>\n",
       "      <td>45.510</td>\n",
       "      <td>5</td>\n",
       "      <td>2</td>\n",
       "      <td>10</td>\n",
       "      <td>53</td>\n",
       "      <td>3.578886</td>\n",
       "      <td>2017-10-25 21:16:08.287222</td>\n",
       "      <td>2 days 19:40:19.287222</td>\n",
       "    </tr>\n",
       "    <tr>\n",
       "      <th>23</th>\n",
       "      <td>Bolapalli</td>\n",
       "      <td>OR04M53MM</td>\n",
       "      <td>21</td>\n",
       "      <td>82.215</td>\n",
       "      <td>10</td>\n",
       "      <td>2</td>\n",
       "      <td>10</td>\n",
       "      <td>53</td>\n",
       "      <td>8.733198</td>\n",
       "      <td>2017-10-26 06:00:07.801680</td>\n",
       "      <td>3 days 04:24:18.801680</td>\n",
       "    </tr>\n",
       "    <tr>\n",
       "      <th>24</th>\n",
       "      <td>Tangutur</td>\n",
       "      <td>OR04M53MM</td>\n",
       "      <td>21</td>\n",
       "      <td>63.975</td>\n",
       "      <td>12</td>\n",
       "      <td>2</td>\n",
       "      <td>10</td>\n",
       "      <td>53</td>\n",
       "      <td>6.514952</td>\n",
       "      <td>2017-10-26 12:31:01.628686</td>\n",
       "      <td>3 days 10:55:12.628686</td>\n",
       "    </tr>\n",
       "    <tr>\n",
       "      <th>25</th>\n",
       "      <td>Sunambatti (Musunur)</td>\n",
       "      <td>OR04M53MM</td>\n",
       "      <td>21</td>\n",
       "      <td>62.070</td>\n",
       "      <td>14</td>\n",
       "      <td>2</td>\n",
       "      <td>10</td>\n",
       "      <td>53</td>\n",
       "      <td>6.532691</td>\n",
       "      <td>2017-10-26 19:02:59.317552</td>\n",
       "      <td>3 days 17:27:10.317552</td>\n",
       "    </tr>\n",
       "    <tr>\n",
       "      <th>26</th>\n",
       "      <td>Budanam</td>\n",
       "      <td>OR04M53MM</td>\n",
       "      <td>21</td>\n",
       "      <td>97.575</td>\n",
       "      <td>19</td>\n",
       "      <td>2</td>\n",
       "      <td>10</td>\n",
       "      <td>53</td>\n",
       "      <td>11.562552</td>\n",
       "      <td>2017-10-27 06:36:44.503074</td>\n",
       "      <td>4 days 05:00:55.503074</td>\n",
       "    </tr>\n",
       "    <tr>\n",
       "      <th>27</th>\n",
       "      <td>Gaddurur</td>\n",
       "      <td>OR04M53MM</td>\n",
       "      <td>21</td>\n",
       "      <td>217.330</td>\n",
       "      <td>12</td>\n",
       "      <td>3</td>\n",
       "      <td>10</td>\n",
       "      <td>53</td>\n",
       "      <td>26.032754</td>\n",
       "      <td>2017-10-28 08:38:42.415877</td>\n",
       "      <td>5 days 07:02:53.415877</td>\n",
       "    </tr>\n",
       "  </tbody>\n",
       "</table>\n",
       "</div>"
      ],
      "text/plain": [
       "                    toll_both vehicle_no  loading_out_time  \\\n",
       "0    Gudipada (Old Gangapada)  OR04M532M                12   \n",
       "1                   Gurapalli  OR04M532M                12   \n",
       "2                   Bellupada  OR04M532M                12   \n",
       "3                     Madapam  OR04M532M                12   \n",
       "4                Chilakapalem  OR04M532M                12   \n",
       "5   Nathavalasa/ Vizianagaram  OR04M532M                12   \n",
       "6                     Vempadu  OR04M532M                12   \n",
       "7                Krishnavaram  OR04M532M                12   \n",
       "8                   Kalaparru  OR04M532M                12   \n",
       "9                        Kaza  OR04M532M                12   \n",
       "10                  Bolapalli  OR04M532M                12   \n",
       "11                   Tangutur  OR04M532M                12   \n",
       "12       Sunambatti (Musunur)  OR04M532M                12   \n",
       "13                    Budanam  OR04M532M                12   \n",
       "14                   Gaddurur  OR04M532M                12   \n",
       "15                  Bellupada  OR04M53MM                21   \n",
       "16                    Madapam  OR04M53MM                21   \n",
       "17               Chilakapalem  OR04M53MM                21   \n",
       "18  Nathavalasa/ Vizianagaram  OR04M53MM                21   \n",
       "19                    Vempadu  OR04M53MM                21   \n",
       "20               Krishnavaram  OR04M53MM                21   \n",
       "21                  Kalaparru  OR04M53MM                21   \n",
       "22                       Kaza  OR04M53MM                21   \n",
       "23                  Bolapalli  OR04M53MM                21   \n",
       "24                   Tangutur  OR04M53MM                21   \n",
       "25       Sunambatti (Musunur)  OR04M53MM                21   \n",
       "26                    Budanam  OR04M53MM                21   \n",
       "27                   Gaddurur  OR04M53MM                21   \n",
       "\n",
       "    distance_travelled  time_of_travel  day_of_travel  month_of_travel  \\\n",
       "0               56.155               8              6               11   \n",
       "1               88.000              11              6               11   \n",
       "2               83.835              18              6               11   \n",
       "3              115.690              22              6               11   \n",
       "4               27.020               0              0               11   \n",
       "5               39.330               4              0               11   \n",
       "6              127.950               8              0               11   \n",
       "7               69.660              12              0               11   \n",
       "8              144.380              19              0               11   \n",
       "9               45.510              20              0               11   \n",
       "10              82.215               1              1               11   \n",
       "11              63.975               3              1               11   \n",
       "12              62.070               5              1               11   \n",
       "13              97.575              10              1               11   \n",
       "14             217.330               3              2               11   \n",
       "15              83.835               3              1               10   \n",
       "16             115.690               7              1               10   \n",
       "17              27.020               9              1               10   \n",
       "18              39.330              13              1               10   \n",
       "19             127.950              17              1               10   \n",
       "20              69.660              21              1               10   \n",
       "21             144.380               4              2               10   \n",
       "22              45.510               5              2               10   \n",
       "23              82.215              10              2               10   \n",
       "24              63.975              12              2               10   \n",
       "25              62.070              14              2               10   \n",
       "26              97.575              19              2               10   \n",
       "27             217.330              12              3               10   \n",
       "\n",
       "    days_from_now  predicted                        eta             time_taken  \n",
       "0              41   7.479163 2017-11-04 19:38:56.986745 0 days 07:28:44.986745  \n",
       "1              41   4.134102 2017-11-04 23:46:59.753713 0 days 11:36:47.753713  \n",
       "2              41   3.622545 2017-11-05 03:24:20.916424 0 days 15:14:08.916424  \n",
       "3              41   8.032359 2017-11-05 11:26:17.408600 0 days 23:16:05.408600  \n",
       "4              41  11.896269 2017-11-05 23:20:03.977875 1 days 11:09:51.977875  \n",
       "5              41   4.159764 2017-11-06 03:29:39.126488 1 days 15:19:27.126488  \n",
       "6              41  11.399508 2017-11-06 14:53:37.355313 2 days 02:43:25.355313  \n",
       "7              41   4.368015 2017-11-06 19:15:42.209151 2 days 07:05:30.209151  \n",
       "8              41  14.193812 2017-11-07 09:27:19.931264 2 days 21:17:07.931264  \n",
       "9              41   2.664515 2017-11-07 12:07:12.184931 2 days 23:57:00.184931  \n",
       "10             41   6.779628 2017-11-07 18:53:58.846361 3 days 06:43:46.846361  \n",
       "11             41   4.750822 2017-11-07 23:39:01.805607 3 days 11:28:49.805607  \n",
       "12             41   4.782828 2017-11-08 04:25:59.984841 3 days 16:15:47.984841  \n",
       "13             41   9.598972 2017-11-08 14:01:56.284494 4 days 01:51:44.284494  \n",
       "14             41  23.749238 2017-11-09 13:46:53.541528 5 days 01:36:41.541528  \n",
       "15             53   5.524627 2017-10-23 07:07:17.658898 0 days 05:31:28.658898  \n",
       "16             53  10.417977 2017-10-23 17:32:22.377648 0 days 15:56:33.377648  \n",
       "17             53  10.374481 2017-10-24 03:54:50.509312 1 days 02:19:01.509312  \n",
       "18             53   3.609387 2017-10-24 07:31:24.301886 1 days 05:55:35.301886  \n",
       "19             53  12.857156 2017-10-24 20:22:50.063341 1 days 18:47:01.063341  \n",
       "20             53   4.933766 2017-10-25 01:18:51.621638 1 days 23:43:02.621638  \n",
       "21             53  16.375744 2017-10-25 17:41:24.298329 2 days 16:05:35.298329  \n",
       "22             53   3.578886 2017-10-25 21:16:08.287222 2 days 19:40:19.287222  \n",
       "23             53   8.733198 2017-10-26 06:00:07.801680 3 days 04:24:18.801680  \n",
       "24             53   6.514952 2017-10-26 12:31:01.628686 3 days 10:55:12.628686  \n",
       "25             53   6.532691 2017-10-26 19:02:59.317552 3 days 17:27:10.317552  \n",
       "26             53  11.562552 2017-10-27 06:36:44.503074 4 days 05:00:55.503074  \n",
       "27             53  26.032754 2017-10-28 08:38:42.415877 5 days 07:02:53.415877  "
      ]
     },
     "execution_count": 91,
     "metadata": {},
     "output_type": "execute_result"
    }
   ],
   "source": [
    "show_df"
   ]
  },
  {
   "cell_type": "code",
   "execution_count": null,
   "metadata": {},
   "outputs": [],
   "source": []
  }
 ],
 "metadata": {
  "kernelspec": {
   "display_name": "Python 2",
   "language": "python",
   "name": "python2"
  },
  "language_info": {
   "codemirror_mode": {
    "name": "ipython",
    "version": 2
   },
   "file_extension": ".py",
   "mimetype": "text/x-python",
   "name": "python",
   "nbconvert_exporter": "python",
   "pygments_lexer": "ipython2",
   "version": "2.7.12"
  }
 },
 "nbformat": 4,
 "nbformat_minor": 2
}
