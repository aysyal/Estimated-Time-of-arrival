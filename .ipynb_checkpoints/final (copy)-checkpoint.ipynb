{
 "cells": [
  {
   "cell_type": "code",
   "execution_count": 1,
   "metadata": {},
   "outputs": [
    {
     "data": {
      "text/html": [
       "<script>requirejs.config({paths: { 'plotly': ['https://cdn.plot.ly/plotly-latest.min']},});if(!window.Plotly) {{require(['plotly'],function(plotly) {window.Plotly=plotly;});}}</script>"
      ],
      "text/vnd.plotly.v1+html": [
       "<script>requirejs.config({paths: { 'plotly': ['https://cdn.plot.ly/plotly-latest.min']},});if(!window.Plotly) {{require(['plotly'],function(plotly) {window.Plotly=plotly;});}}</script>"
      ]
     },
     "metadata": {},
     "output_type": "display_data"
    },
    {
     "name": "stderr",
     "output_type": "stream",
     "text": [
      "/usr/local/lib/python2.7/dist-packages/sklearn/cross_validation.py:41: DeprecationWarning:\n",
      "\n",
      "This module was deprecated in version 0.18 in favor of the model_selection module into which all the refactored classes and functions are moved. Also note that the interface of the new CV iterators are different from that of this module. This module will be removed in 0.20.\n",
      "\n"
     ]
    }
   ],
   "source": [
    "import sqlite3\n",
    "import numpy as np\n",
    "import mysql.connector\n",
    "import pandas as pd\n",
    "import getpass\n",
    "import seaborn as sns\n",
    "import matplotlib.pyplot as plt\n",
    "import plotly\n",
    "plotly.tools.set_credentials_file(username='mainakchain', api_key='B9m4DVrYYmsoW3jDSiok')\n",
    "import plotly.plotly as py\n",
    "import plotly.graph_objs as go\n",
    "from plotly import __version__\n",
    "from plotly.offline import download_plotlyjs, init_notebook_mode, plot, iplot\n",
    "import cufflinks as cf\n",
    "init_notebook_mode(connected=True)\n",
    "import plotly.figure_factory as ff\n",
    "from scipy import stats\n",
    "from sklearn.utils import shuffle\n",
    "from sklearn.neural_network import MLPRegressor\n",
    "from sklearn.neural_network import MLPClassifier\n",
    "from sklearn.ensemble import RandomForestRegressor\n",
    "from sklearn.preprocessing import LabelEncoder\n",
    "from sklearn.preprocessing import StandardScaler\n",
    "from sklearn.model_selection import train_test_split\n",
    "from datetime import timedelta\n",
    "from sklearn.ensemble import RandomForestRegressor\n",
    "import datetime\n",
    "import holidays\n",
    "from sklearn.model_selection import cross_val_score\n",
    "from sklearn.metrics import median_absolute_error\n",
    "from sklearn.model_selection import GridSearchCV\n",
    "from sklearn.cross_validation import StratifiedKFold\n",
    "from sklearn.linear_model import LinearRegression\n",
    "from sklearn.preprocessing import MinMaxScaler\n",
    "from sklearn.svm import LinearSVR\n",
    "from sklearn.svm import SVR"
   ]
  },
  {
   "cell_type": "code",
   "execution_count": 2,
   "metadata": {},
   "outputs": [],
   "source": [
    "toll_time = pd.read_csv('toll_time.csv')"
   ]
  },
  {
   "cell_type": "code",
   "execution_count": 3,
   "metadata": {},
   "outputs": [],
   "source": [
    "# new_toll_time = toll_time[toll_time['origin'] == 'Jamshedpur'][toll_time['destination'] == 'HOSUR']"
   ]
  },
  {
   "cell_type": "code",
   "execution_count": 4,
   "metadata": {},
   "outputs": [],
   "source": [
    "toll_time.drop(['Unnamed: 0'], axis=1, inplace=True)"
   ]
  },
  {
   "cell_type": "code",
   "execution_count": 5,
   "metadata": {},
   "outputs": [],
   "source": [
    "toll_time['route'] = toll_time['origin'] + ' ' + toll_time['destination']"
   ]
  },
  {
   "cell_type": "code",
   "execution_count": 6,
   "metadata": {},
   "outputs": [],
   "source": [
    "def change_route_to_dummy(df):\n",
    "    num = 1\n",
    "    dict_route = {}\n",
    "    for r in df['route'].unique().tolist():\n",
    "        df['route'] = df['route'].replace({r: num})\n",
    "        dict_route[num] = r\n",
    "        num += 1\n",
    "    return dict_route"
   ]
  },
  {
   "cell_type": "code",
   "execution_count": 7,
   "metadata": {},
   "outputs": [],
   "source": [
    "dict_route = change_route_to_dummy(toll_time)"
   ]
  },
  {
   "cell_type": "code",
   "execution_count": 8,
   "metadata": {},
   "outputs": [
    {
     "data": {
      "text/plain": [
       "(6425, 18)"
      ]
     },
     "execution_count": 8,
     "metadata": {},
     "output_type": "execute_result"
    }
   ],
   "source": [
    "toll_time.shape"
   ]
  },
  {
   "cell_type": "code",
   "execution_count": 9,
   "metadata": {},
   "outputs": [],
   "source": [
    "new_toll_time = toll_time.copy()"
   ]
  },
  {
   "cell_type": "code",
   "execution_count": 10,
   "metadata": {},
   "outputs": [],
   "source": [
    "today_date = datetime.datetime.now()\n",
    "today_date.strftime(\"%Y-%m-%d %H:%M:%S\")\n",
    "today = today_date.strftime(\"%Y-%m-%d %H:%M:%S\")\n",
    "new_toll_time['today'] = datetime.datetime.strptime(today, '%Y-%m-%d %H:%M:%S')"
   ]
  },
  {
   "cell_type": "code",
   "execution_count": 11,
   "metadata": {},
   "outputs": [],
   "source": [
    "new_toll_time['start_date'] = new_toll_time['start_date'].apply(lambda x:datetime.datetime.strptime(x, '%Y-%m-%d %H:%M:%S') )\n",
    "new_toll_time['days_from_now'] = new_toll_time['today'] - new_toll_time['start_date'] \n",
    "new_toll_time['days_from_now'] = new_toll_time['days_from_now'].apply(lambda x: x.days)"
   ]
  },
  {
   "cell_type": "code",
   "execution_count": 12,
   "metadata": {},
   "outputs": [],
   "source": [
    "new_toll_time['unloading_in_time'] = new_toll_time['unloading_in_time'].apply(lambda x:datetime.datetime.strptime(x, '%Y-%m-%d %H:%M:%S') )\n",
    "new_toll_time['avg_travel_time'] = new_toll_time['start_date'] + (new_toll_time['unloading_in_time'] - new_toll_time['start_date'])/2"
   ]
  },
  {
   "cell_type": "code",
   "execution_count": 13,
   "metadata": {},
   "outputs": [],
   "source": [
    "new_toll_time['month_of_travel'] = new_toll_time['avg_travel_time'].apply(lambda x: x.month)"
   ]
  },
  {
   "cell_type": "code",
   "execution_count": 14,
   "metadata": {},
   "outputs": [],
   "source": [
    "new_toll_time['ist_timestamp'] = new_toll_time['ist_timestamp'].apply(lambda x:datetime.datetime.strptime(x, '%Y-%m-%d %H:%M:%S'))\n",
    "new_toll_time['time_of_travel'] = new_toll_time.ist_timestamp.apply(lambda x: x.hour)"
   ]
  },
  {
   "cell_type": "code",
   "execution_count": 15,
   "metadata": {},
   "outputs": [],
   "source": [
    "new_toll_time['time_of_travel'] = new_toll_time['time_of_travel'].replace({3:'midnight',4:'midnight',5:'midnight',6:'midnight'})\n",
    "new_toll_time['time_of_travel'] = new_toll_time['time_of_travel'].replace({7:'morning',8:'morning',9:'morning',10:'morning'})\n",
    "new_toll_time['time_of_travel'] = new_toll_time['time_of_travel'].replace({11:'noon',12:'noon',13:'noon',14:'noon'})\n",
    "new_toll_time['time_of_travel'] = new_toll_time['time_of_travel'].replace({15:'afternoon',16:'afternoon',17:'afternoon',18:'afternoon'})\n",
    "new_toll_time['time_of_travel'] = new_toll_time['time_of_travel'].replace({19:'evening',20:'evening',21:'evening',22:'evening'})\n",
    "new_toll_time['time_of_travel'] = new_toll_time['time_of_travel'].replace({23:'night',0:'night',1:'night',2:'night'})\n",
    "\n",
    "new_toll_time['time_of_travel'] = new_toll_time['time_of_travel'].replace({'midnight':1,'morning':2,'noon':3,'afternoon':4,'evening':5,'night':6})"
   ]
  },
  {
   "cell_type": "code",
   "execution_count": 16,
   "metadata": {},
   "outputs": [],
   "source": [
    "new_toll_time['day_of_travel'] = new_toll_time['avg_travel_time'].apply(lambda x: x.weekday())"
   ]
  },
  {
   "cell_type": "code",
   "execution_count": 17,
   "metadata": {},
   "outputs": [],
   "source": [
    "new_toll_time['season_of_travel'] = new_toll_time['month_of_travel'].replace({12:'Winter',1:'Winter',2:'Winter'})\n",
    "new_toll_time['season_of_travel'] = new_toll_time['season_of_travel'].replace({3:'Summer',4:'Summer',5:'Summer'})\n",
    "new_toll_time['season_of_travel'] = new_toll_time['season_of_travel'].replace({6:'Rainy',7:'Rainy',8:'Rainy',9:'Rainy'})\n",
    "new_toll_time['season_of_travel'] = new_toll_time['season_of_travel'].replace({10:'Autumn',11:'Autumn'})\n",
    "\n",
    "new_toll_time['season_of_travel'] = new_toll_time['season_of_travel'].replace({'Winter':1,'Summer':2,'Rainy':3,'Autumn':4})"
   ]
  },
  {
   "cell_type": "code",
   "execution_count": 18,
   "metadata": {},
   "outputs": [],
   "source": [
    "def change_vehicle_no_to_dummy(df):\n",
    "    num = 1\n",
    "    dict_vehicle_no = {}\n",
    "    for truck in df['vehicle_no'].unique().tolist():\n",
    "        df['vehicle_no'] = df['vehicle_no'].replace({truck: num})\n",
    "        dict_vehicle_no[num] = truck\n",
    "        num += 1\n",
    "    return dict_vehicle_no"
   ]
  },
  {
   "cell_type": "code",
   "execution_count": 19,
   "metadata": {},
   "outputs": [],
   "source": [
    "def change_toll_booth_to_dummy(df):\n",
    "    num = 1\n",
    "    dict_toll_both = {}\n",
    "    for toll in df['toll_both'].unique().tolist():\n",
    "        df['toll_both'] = df['toll_both'].replace({toll: num})\n",
    "        dict_toll_both[num] = toll\n",
    "        num += 1\n",
    "    return dict_toll_both"
   ]
  },
  {
   "cell_type": "code",
   "execution_count": 20,
   "metadata": {},
   "outputs": [],
   "source": [
    "dict_toll_both = change_toll_booth_to_dummy(new_toll_time)"
   ]
  },
  {
   "cell_type": "code",
   "execution_count": 21,
   "metadata": {},
   "outputs": [],
   "source": [
    "def change_delivery_status_to_dummy(df):\n",
    "    df['delivery_status'] = df['delivery_status'].replace({'early':1,'on-time':2,'late':3})"
   ]
  },
  {
   "cell_type": "code",
   "execution_count": 22,
   "metadata": {},
   "outputs": [],
   "source": [
    "new_toll_time['loading_out_time'] = new_toll_time['loading_out_time'].apply(lambda x:datetime.datetime.strptime(x, '%Y-%m-%d %H:%M:%S') )\n"
   ]
  },
  {
   "cell_type": "code",
   "execution_count": 23,
   "metadata": {},
   "outputs": [],
   "source": [
    "new_toll_time = new_toll_time.sort_values(['route','vehicle_no','time_taken'])"
   ]
  },
  {
   "cell_type": "code",
   "execution_count": 24,
   "metadata": {},
   "outputs": [],
   "source": [
    "def time_between_toll(df):\n",
    "    for truck in df.vehicle_no.unique().tolist():\n",
    "        for route in df.route.unique().tolist():\n",
    "            if df[(df.vehicle_no == truck) & (df.route == route)].shape[0] == 1:\n",
    "                continue\n",
    "            elif df[(df.vehicle_no == truck) & (df.route == route)].shape[0] > 1 :\n",
    "                df['time_btn_toll'][(df['vehicle_no'] == truck) & (df['route'] == route)] = df['time_taken'][(df['vehicle_no'] == truck) & (df['route'] == route)].diff()\n",
    "            else:\n",
    "                continue\n",
    "    return df"
   ]
  },
  {
   "cell_type": "code",
   "execution_count": 24,
   "metadata": {},
   "outputs": [
    {
     "name": "stderr",
     "output_type": "stream",
     "text": [
      "/usr/local/lib/python2.7/dist-packages/ipykernel_launcher.py:7: SettingWithCopyWarning:\n",
      "\n",
      "\n",
      "A value is trying to be set on a copy of a slice from a DataFrame\n",
      "\n",
      "See the caveats in the documentation: http://pandas.pydata.org/pandas-docs/stable/indexing.html#indexing-view-versus-copy\n",
      "\n"
     ]
    }
   ],
   "source": [
    "new_toll_time['time_btn_toll'] = 0\n",
    "new_toll_time = time_between_toll(new_toll_time)\n",
    "new_toll_time['time_btn_toll'] = new_toll_time['time_btn_toll'].fillna(0)"
   ]
  },
  {
   "cell_type": "code",
   "execution_count": 25,
   "metadata": {},
   "outputs": [],
   "source": [
    "new_toll_time['loading_out_time'] = new_toll_time['loading_out_time'].apply(lambda x: x.hour)"
   ]
  },
  {
   "cell_type": "code",
   "execution_count": 26,
   "metadata": {},
   "outputs": [],
   "source": [
    "new_toll_time.late_by_hrs = new_toll_time.late_by_hrs.round()"
   ]
  },
  {
   "cell_type": "code",
   "execution_count": 27,
   "metadata": {},
   "outputs": [],
   "source": [
    "train_df = new_toll_time[new_toll_time['vehicle_no'].isin(['OD04D5891','PB10CH3759','NL02N3814']) == False]"
   ]
  },
  {
   "cell_type": "code",
   "execution_count": 28,
   "metadata": {},
   "outputs": [],
   "source": [
    "test_df = new_toll_time[new_toll_time['vehicle_no'].isin(['OD04D5891','PB10CH3759','NL02N3814']) == True]"
   ]
  },
  {
   "cell_type": "code",
   "execution_count": 29,
   "metadata": {},
   "outputs": [
    {
     "data": {
      "text/plain": [
       "((42, 25), (6383, 25))"
      ]
     },
     "execution_count": 29,
     "metadata": {},
     "output_type": "execute_result"
    }
   ],
   "source": [
    "test_df.shape, train_df.shape"
   ]
  },
  {
   "cell_type": "code",
   "execution_count": 30,
   "metadata": {},
   "outputs": [],
   "source": [
    "if set(test_df.vehicle_no.unique().tolist()) < set(train_df.vehicle_no.unique().tolist()):\n",
    "    final_train_df = train_df[['route','toll_both','vehicle_no','odometer_km','loading_out_time','distance_travelled','time_of_travel','day_of_travel','season_of_travel','days_from_now','time_taken']]\n",
    "    final_test_df = test_df[['route','toll_both','vehicle_no','odometer_km','loading_out_time','distance_travelled','time_of_travel','day_of_travel','season_of_travel','days_from_now','time_taken']]\n",
    "    train_dict_vehicle_no = change_vehicle_no_to_dummy(final_train_df)\n",
    "    test_dict_vehilce_no = change_vehicle_no_to_dummy(final_test_df)\n",
    "    \n",
    "else:\n",
    "    final_train_df = train_df[['route','toll_both','odometer_km','loading_out_time','distance_travelled','time_of_travel','day_of_travel','season_of_travel','days_from_now','time_taken']]\n",
    "    final_test_df = test_df[['route','toll_both','odometer_km','loading_out_time','distance_travelled','time_of_travel','day_of_travel','season_of_travel','days_from_now','time_taken']]"
   ]
  },
  {
   "cell_type": "code",
   "execution_count": 31,
   "metadata": {},
   "outputs": [
    {
     "data": {
      "image/png": "[encoded data removed]",
      "text/plain": [
       "<matplotlib.figure.Figure at 0x7f89b4576c90>"
      ]
     },
     "metadata": {},
     "output_type": "display_data"
    }
   ],
   "source": [
    "corr = new_toll_time.corr()\n",
    "\n",
    "# plot the heatmap\n",
    "sns.heatmap(corr, \n",
    "        xticklabels=corr.columns,\n",
    "        yticklabels=corr.columns)\n",
    "plt.show()"
   ]
  },
  {
   "cell_type": "code",
   "execution_count": 32,
   "metadata": {},
   "outputs": [],
   "source": [
    "train_X = final_train_df.drop(['time_taken'], axis=1)\n",
    "train_y = final_train_df['time_taken']\n",
    "\n",
    "test_X = final_test_df.drop(['time_taken'], axis=1)\n",
    "test_y = final_test_df['time_taken']"
   ]
  },
  {
   "cell_type": "code",
   "execution_count": 33,
   "metadata": {},
   "outputs": [],
   "source": [
    "X_train, X_test, y_train, y_test = train_test_split(train_X,train_y, test_size=0.2, random_state=42)"
   ]
  },
  {
   "cell_type": "code",
   "execution_count": 34,
   "metadata": {},
   "outputs": [],
   "source": [
    "scale= MinMaxScaler()\n",
    "X_train_scaled = scale.fit_transform(X_train)\n",
    "X_test_scaled = scale.fit_transform(X_test)\n",
    "\n",
    "# y_train_std = final_train_df['time_btn_toll']\n",
    "# y_test_std = final_test_df['time_btn_toll']"
   ]
  },
  {
   "cell_type": "code",
   "execution_count": 80,
   "metadata": {},
   "outputs": [],
   "source": [
    "# parameters = {\n",
    "#     'hidden_layer_sizes':[15,20,30,40],\n",
    "#     'activation':['logistic','relu','identity'],\n",
    "#     'solver':['adam'],\n",
    "#     'learning_rate':['invscaling','constant']\n",
    "#              }"
   ]
  },
  {
   "cell_type": "code",
   "execution_count": 81,
   "metadata": {},
   "outputs": [],
   "source": [
    "# reg_mlp = MLPRegressor( hidden_layer_sizes=(100,50),  activation='logistic', solver='adam', alpha=1, batch_size='auto',\n",
    "#     learning_rate='constant', learning_rate_init=0.01, power_t=0.01, max_iter=5000, shuffle=False, tol=0.0001, verbose=False, warm_start=False, momentum=0.9, nesterovs_momentum=True,\n",
    "#     early_stopping=False,random_state=6, validation_fraction=0.1, beta_1=0.9, beta_2=0.999, epsilon=1e-08)"
   ]
  },
  {
   "cell_type": "code",
   "execution_count": 36,
   "metadata": {},
   "outputs": [],
   "source": [
    "parameters = {\"C\": [1e1, 1e2, 1e3, 1e4],\n",
    "                               \"gamma\": np.logspace(-2, 2, 5)}"
   ]
  },
  {
   "cell_type": "code",
   "execution_count": 37,
   "metadata": {},
   "outputs": [],
   "source": [
    "reg_svr = SVR(kernel='rbf', gamma=0.1)"
   ]
  },
  {
   "cell_type": "code",
   "execution_count": 39,
   "metadata": {},
   "outputs": [],
   "source": [
    "# grid = GridSearchCV(reg_svr, param_grid=parameters, n_jobs=-1,\n",
    "#                    scoring='r2',\n",
    "#                    verbose=1)\n",
    "grid = GridSearchCV(reg_svr, cv=5,\n",
    "                   param_grid=parameters, verbose=1, n_jobs=-1, scoring='r2')"
   ]
  },
  {
   "cell_type": "code",
   "execution_count": 40,
   "metadata": {},
   "outputs": [
    {
     "data": {
      "text/plain": [
       "((5106, 9), (5106,))"
      ]
     },
     "execution_count": 40,
     "metadata": {},
     "output_type": "execute_result"
    }
   ],
   "source": [
    "X_train_scaled.shape, y_train.shape"
   ]
  },
  {
   "cell_type": "code",
   "execution_count": null,
   "metadata": {
    "scrolled": true
   },
   "outputs": [
    {
     "name": "stdout",
     "output_type": "stream",
     "text": [
      "Fitting 5 folds for each of 20 candidates, totalling 100 fits\n"
     ]
    }
   ],
   "source": [
    "grid_result = grid.fit(X_train_scaled, y_train)"
   ]
  },
  {
   "cell_type": "code",
   "execution_count": 87,
   "metadata": {},
   "outputs": [
    {
     "name": "stdout",
     "output_type": "stream",
     "text": [
      "Best parameters set found on development set:\n",
      "SVR(C=1000.0, cache_size=200, coef0=0.0, degree=3, epsilon=0.1, gamma=10.0,\n",
      "  kernel='rbf', max_iter=-1, shrinking=True, tol=0.001, verbose=False)\n",
      "Grid scores on development set:\n",
      "-0.030 (+/-0.005) for {'C': 0.1, 'gamma': 0.01}\n",
      "0.022 (+/-0.005) for {'C': 0.1, 'gamma': 0.10000000000000001}\n",
      "0.100 (+/-0.007) for {'C': 0.1, 'gamma': 1.0}\n",
      "-0.008 (+/-0.005) for {'C': 0.1, 'gamma': 10.0}\n",
      "-0.035 (+/-0.005) for {'C': 0.1, 'gamma': 100.0}\n",
      "0.027 (+/-0.005) for {'C': 1.0, 'gamma': 0.01}\n",
      "0.165 (+/-0.008) for {'C': 1.0, 'gamma': 0.10000000000000001}\n",
      "0.323 (+/-0.011) for {'C': 1.0, 'gamma': 1.0}\n",
      "0.154 (+/-0.006) for {'C': 1.0, 'gamma': 10.0}\n",
      "-0.019 (+/-0.005) for {'C': 1.0, 'gamma': 100.0}\n",
      "0.168 (+/-0.008) for {'C': 10.0, 'gamma': 0.01}\n",
      "0.324 (+/-0.011) for {'C': 10.0, 'gamma': 0.10000000000000001}\n",
      "0.435 (+/-0.011) for {'C': 10.0, 'gamma': 1.0}\n",
      "0.452 (+/-0.016) for {'C': 10.0, 'gamma': 10.0}\n",
      "0.107 (+/-0.004) for {'C': 10.0, 'gamma': 100.0}\n",
      "0.288 (+/-0.010) for {'C': 100.0, 'gamma': 0.01}\n",
      "0.391 (+/-0.011) for {'C': 100.0, 'gamma': 0.10000000000000001}\n",
      "0.500 (+/-0.011) for {'C': 100.0, 'gamma': 1.0}\n",
      "0.649 (+/-0.026) for {'C': 100.0, 'gamma': 10.0}\n",
      "0.353 (+/-0.007) for {'C': 100.0, 'gamma': 100.0}\n",
      "0.326 (+/-0.012) for {'C': 1000.0, 'gamma': 0.01}\n",
      "0.431 (+/-0.010) for {'C': 1000.0, 'gamma': 0.10000000000000001}\n",
      "0.554 (+/-0.011) for {'C': 1000.0, 'gamma': 1.0}\n",
      "0.712 (+/-0.020) for {'C': 1000.0, 'gamma': 10.0}\n",
      "0.400 (+/-0.012) for {'C': 1000.0, 'gamma': 100.0}\n"
     ]
    },
    {
     "name": "stderr",
     "output_type": "stream",
     "text": [
      "/usr/local/lib/python2.7/dist-packages/sklearn/model_selection/_search.py:761: DeprecationWarning:\n",
      "\n",
      "The grid_scores_ attribute was deprecated in version 0.18 in favor of the more elaborate cv_results_ attribute. The grid_scores_ attribute will not be available from 0.20\n",
      "\n"
     ]
    }
   ],
   "source": [
    "print(\"Best parameters set found on development set:\")\n",
    "print(grid_result.best_estimator_)\n",
    "print(\"Grid scores on development set:\")\n",
    "for parameters, mean_score, scores in grid_result.grid_scores_:\n",
    "    print(\"%0.3f (+/-%0.03f) for %r\"\n",
    "          % (mean_score, scores.std() / 2, parameters))"
   ]
  },
  {
   "cell_type": "code",
   "execution_count": 43,
   "metadata": {},
   "outputs": [],
   "source": [
    "reg_sv = SVR(C=1500, cache_size=200, coef0=0.0, degree=3, epsilon=0.1, gamma=10.0,\n",
    "  kernel='sigmoid', max_iter=-1, shrinking=True, tol=0.001, verbose=False)"
   ]
  },
  {
   "cell_type": "code",
   "execution_count": 66,
   "metadata": {},
   "outputs": [],
   "source": [
    "reg_sv = SVR(C=1.0, cache_size=200, coef0=0.0, degree=3, epsilon=0.1, gamma=0.01,\n",
    "  kernel='linear', max_iter=-1, shrinking=True, tol=0.001, verbose=False)"
   ]
  },
  {
   "cell_type": "code",
   "execution_count": 88,
   "metadata": {},
   "outputs": [
    {
     "data": {
      "text/plain": [
       "SVR(C=1000.0, cache_size=200, coef0=0.0, degree=3, epsilon=0.1, gamma=10.0,\n",
       "  kernel='rbf', max_iter=-1, shrinking=True, tol=0.001, verbose=False)"
      ]
     },
     "execution_count": 88,
     "metadata": {},
     "output_type": "execute_result"
    }
   ],
   "source": [
    "SVR(C=1000.0, cache_size=200, coef0=0.0, degree=3, epsilon=0.1, gamma=10.0,\n",
    "  kernel='rbf', max_iter=-1, shrinking=True, tol=0.001, verbose=False)"
   ]
  },
  {
   "cell_type": "code",
   "execution_count": 89,
   "metadata": {},
   "outputs": [],
   "source": [
    "# reg_rf = RandomForestRegressor(bootstrap=True, criterion='mse', max_depth=10,\n",
    "#            max_features='auto', max_leaf_nodes=50,\n",
    "#            min_impurity_decrease=0.0, min_impurity_split=None,\n",
    "#            min_samples_leaf=1, min_samples_split=4,\n",
    "#            min_weight_fraction_leaf=0.0, n_estimators=1000, n_jobs=-1,\n",
    "#            oob_score=False, random_state=42, verbose=1, warm_start=False)"
   ]
  },
  {
   "cell_type": "code",
   "execution_count": 90,
   "metadata": {},
   "outputs": [],
   "source": [
    "# reg_lin = LinearRegression(fit_intercept=True, normalize=True, copy_X=True, n_jobs=-1)"
   ]
  },
  {
   "cell_type": "code",
   "execution_count": 91,
   "metadata": {},
   "outputs": [],
   "source": [
    "# # summarize results\n",
    "# print(\"Best: %f using %s\" % (grid_result.best_score_, grid_result.best_params_))"
   ]
  },
  {
   "cell_type": "code",
   "execution_count": 92,
   "metadata": {
    "scrolled": true
   },
   "outputs": [
    {
     "data": {
      "text/plain": [
       "0.34991366885763808"
      ]
     },
     "execution_count": 92,
     "metadata": {},
     "output_type": "execute_result"
    }
   ],
   "source": [
    "reg_sv.fit(X_train_scaled, y_train)\n",
    "reg_sv.score(X_test_scaled, y_test)"
   ]
  },
  {
   "cell_type": "code",
   "execution_count": 93,
   "metadata": {},
   "outputs": [],
   "source": [
    "scores = cross_val_score(reg_sv, X_train_scaled, y_train, scoring='r2', n_jobs=-1)"
   ]
  },
  {
   "cell_type": "code",
   "execution_count": 94,
   "metadata": {},
   "outputs": [
    {
     "name": "stdout",
     "output_type": "stream",
     "text": [
      "Accuracy: 0.26 (+/- 0.01)\n"
     ]
    }
   ],
   "source": [
    "print(\"Accuracy: %0.2f (+/- %0.2f)\" % (scores.mean(), scores.std() * 2))"
   ]
  },
  {
   "cell_type": "code",
   "execution_count": 95,
   "metadata": {},
   "outputs": [],
   "source": [
    "X_predict_scaled = MinMaxScaler().fit_transform(test_X)"
   ]
  },
  {
   "cell_type": "code",
   "execution_count": 96,
   "metadata": {},
   "outputs": [],
   "source": [
    "predictions = reg_sv.predict(X_predict_scaled)"
   ]
  },
  {
   "cell_type": "code",
   "execution_count": 97,
   "metadata": {},
   "outputs": [
    {
     "data": {
      "image/png": "[encoded data removed]",
      "text/plain": [
       "<matplotlib.figure.Figure at 0x7fd0e129a550>"
      ]
     },
     "metadata": {},
     "output_type": "display_data"
    }
   ],
   "source": [
    "## The line / model\n",
    "plt.scatter(test_y, predictions)\n",
    "plt.ylabel('predictions')\n",
    "plt.xlabel('actual')\n",
    "# plt.axis('equal')\n",
    "plt.gca().set_aspect('equal', adjustable='box')\n",
    "plt.show()\n"
   ]
  },
  {
   "cell_type": "code",
   "execution_count": 98,
   "metadata": {},
   "outputs": [
    {
     "data": {
      "text/plain": [
       "((42, 27), (42,))"
      ]
     },
     "execution_count": 98,
     "metadata": {},
     "output_type": "execute_result"
    }
   ],
   "source": [
    "test_df.shape, predictions.shape"
   ]
  },
  {
   "cell_type": "code",
   "execution_count": 99,
   "metadata": {},
   "outputs": [],
   "source": [
    "show_df = test_df.copy()"
   ]
  },
  {
   "cell_type": "code",
   "execution_count": 100,
   "metadata": {
    "scrolled": false
   },
   "outputs": [],
   "source": [
    "show_df['predicted'] = predictions"
   ]
  },
  {
   "cell_type": "code",
   "execution_count": 101,
   "metadata": {},
   "outputs": [],
   "source": [
    "show_df['time_taken_delta'] = show_df['time_taken'].apply(lambda x: timedelta(hours=x))"
   ]
  },
  {
   "cell_type": "code",
   "execution_count": 102,
   "metadata": {},
   "outputs": [],
   "source": [
    "show_df['predict_delta'] = show_df['predicted'].apply(lambda x: timedelta(hours=x))"
   ]
  },
  {
   "cell_type": "code",
   "execution_count": 103,
   "metadata": {},
   "outputs": [],
   "source": [
    "show_df['predicted_ist_timestamp'] = show_df['ist_timestamp'] - show_df['time_taken_delta'] + show_df['predict_delta']"
   ]
  },
  {
   "cell_type": "code",
   "execution_count": 104,
   "metadata": {},
   "outputs": [],
   "source": [
    "show_df['route'] = test_df['route'].replace(dict_route)"
   ]
  },
  {
   "cell_type": "code",
   "execution_count": 105,
   "metadata": {},
   "outputs": [],
   "source": [
    "show_df['toll_both'] = show_df['toll_both'].replace(dict_toll_both)"
   ]
  },
  {
   "cell_type": "code",
   "execution_count": 106,
   "metadata": {},
   "outputs": [],
   "source": [
    "show_df = show_df.sort_values(['route','vehicle_no','time_taken'])"
   ]
  },
  {
   "cell_type": "code",
   "execution_count": 107,
   "metadata": {},
   "outputs": [
    {
     "data": {
      "text/html": [
       "<div>\n",
       "<style>\n",
       "    .dataframe thead tr:only-child th {\n",
       "        text-align: right;\n",
       "    }\n",
       "\n",
       "    .dataframe thead th {\n",
       "        text-align: left;\n",
       "    }\n",
       "\n",
       "    .dataframe tbody tr th {\n",
       "        vertical-align: top;\n",
       "    }\n",
       "</style>\n",
       "<table border=\"1\" class=\"dataframe\">\n",
       "  <thead>\n",
       "    <tr style=\"text-align: right;\">\n",
       "      <th></th>\n",
       "      <th>route</th>\n",
       "      <th>vehicle_no</th>\n",
       "      <th>toll_both</th>\n",
       "      <th>time_taken</th>\n",
       "      <th>predicted</th>\n",
       "      <th>ist_timestamp</th>\n",
       "      <th>predicted_ist_timestamp</th>\n",
       "    </tr>\n",
       "  </thead>\n",
       "  <tbody>\n",
       "    <tr>\n",
       "      <th>4690</th>\n",
       "      <td>Jamshedpur HOSUR</td>\n",
       "      <td>OD04D5891</td>\n",
       "      <td>Sergrarh</td>\n",
       "      <td>63.595833</td>\n",
       "      <td>48.901976</td>\n",
       "      <td>2017-11-24 19:44:00</td>\n",
       "      <td>2017-11-24 05:02:22.114944</td>\n",
       "    </tr>\n",
       "    <tr>\n",
       "      <th>4601</th>\n",
       "      <td>Jamshedpur HOSUR</td>\n",
       "      <td>OD04D5891</td>\n",
       "      <td>Panikholi</td>\n",
       "      <td>66.002222</td>\n",
       "      <td>55.962630</td>\n",
       "      <td>2017-11-24 22:08:23</td>\n",
       "      <td>2017-11-24 12:06:00.469121</td>\n",
       "    </tr>\n",
       "    <tr>\n",
       "      <th>4473</th>\n",
       "      <td>Jamshedpur HOSUR</td>\n",
       "      <td>OD04D5891</td>\n",
       "      <td>Manguli</td>\n",
       "      <td>67.488056</td>\n",
       "      <td>44.736218</td>\n",
       "      <td>2017-11-24 23:37:32</td>\n",
       "      <td>2017-11-24 00:52:25.383770</td>\n",
       "    </tr>\n",
       "    <tr>\n",
       "      <th>4132</th>\n",
       "      <td>Jamshedpur HOSUR</td>\n",
       "      <td>OD04D5891</td>\n",
       "      <td>Gudipada (Old Gangapada)</td>\n",
       "      <td>68.857500</td>\n",
       "      <td>48.097237</td>\n",
       "      <td>2017-11-25 00:59:42</td>\n",
       "      <td>2017-11-24 04:14:05.051550</td>\n",
       "    </tr>\n",
       "    <tr>\n",
       "      <th>4177</th>\n",
       "      <td>Jamshedpur HOSUR</td>\n",
       "      <td>OD04D5891</td>\n",
       "      <td>Gurapalli</td>\n",
       "      <td>71.043611</td>\n",
       "      <td>57.302723</td>\n",
       "      <td>2017-11-25 03:10:52</td>\n",
       "      <td>2017-11-24 13:26:24.802640</td>\n",
       "    </tr>\n",
       "    <tr>\n",
       "      <th>3929</th>\n",
       "      <td>Jamshedpur HOSUR</td>\n",
       "      <td>OD04D5891</td>\n",
       "      <td>Bellupada</td>\n",
       "      <td>85.191111</td>\n",
       "      <td>62.376072</td>\n",
       "      <td>2017-11-25 17:19:43</td>\n",
       "      <td>2017-11-24 18:30:48.859302</td>\n",
       "    </tr>\n",
       "    <tr>\n",
       "      <th>4425</th>\n",
       "      <td>Jamshedpur HOSUR</td>\n",
       "      <td>OD04D5891</td>\n",
       "      <td>Madapam</td>\n",
       "      <td>89.519722</td>\n",
       "      <td>71.879683</td>\n",
       "      <td>2017-11-25 21:39:26</td>\n",
       "      <td>2017-11-25 04:01:01.860258</td>\n",
       "    </tr>\n",
       "    <tr>\n",
       "      <th>4051</th>\n",
       "      <td>Jamshedpur HOSUR</td>\n",
       "      <td>OD04D5891</td>\n",
       "      <td>Chilakapalem</td>\n",
       "      <td>90.272500</td>\n",
       "      <td>73.475973</td>\n",
       "      <td>2017-11-25 22:24:36</td>\n",
       "      <td>2017-11-25 05:36:48.503787</td>\n",
       "    </tr>\n",
       "    <tr>\n",
       "      <th>4381</th>\n",
       "      <td>Jamshedpur HOSUR</td>\n",
       "      <td>OD04D5891</td>\n",
       "      <td>Laxmipuram</td>\n",
       "      <td>91.336389</td>\n",
       "      <td>76.634635</td>\n",
       "      <td>2017-11-25 23:28:26</td>\n",
       "      <td>2017-11-25 08:46:19.685807</td>\n",
       "    </tr>\n",
       "    <tr>\n",
       "      <th>4554</th>\n",
       "      <td>Jamshedpur HOSUR</td>\n",
       "      <td>OD04D5891</td>\n",
       "      <td>Nathavalasa/ Vizianagaram</td>\n",
       "      <td>91.336389</td>\n",
       "      <td>77.061138</td>\n",
       "      <td>2017-11-25 23:28:26</td>\n",
       "      <td>2017-11-25 09:11:55.098352</td>\n",
       "    </tr>\n",
       "    <tr>\n",
       "      <th>4823</th>\n",
       "      <td>Jamshedpur HOSUR</td>\n",
       "      <td>OD04D5891</td>\n",
       "      <td>Vempadu</td>\n",
       "      <td>97.708056</td>\n",
       "      <td>105.912135</td>\n",
       "      <td>2017-11-26 05:50:44</td>\n",
       "      <td>2017-11-26 14:02:58.685376</td>\n",
       "    </tr>\n",
       "    <tr>\n",
       "      <th>4337</th>\n",
       "      <td>Jamshedpur HOSUR</td>\n",
       "      <td>OD04D5891</td>\n",
       "      <td>Krishnavaram</td>\n",
       "      <td>102.237500</td>\n",
       "      <td>109.067173</td>\n",
       "      <td>2017-11-26 10:22:30</td>\n",
       "      <td>2017-11-26 17:12:16.821509</td>\n",
       "    </tr>\n",
       "    <tr>\n",
       "      <th>4243</th>\n",
       "      <td>Jamshedpur HOSUR</td>\n",
       "      <td>OD04D5891</td>\n",
       "      <td>Kalaparru</td>\n",
       "      <td>107.043333</td>\n",
       "      <td>119.360924</td>\n",
       "      <td>2017-11-26 15:10:51</td>\n",
       "      <td>2017-11-27 03:29:54.325469</td>\n",
       "    </tr>\n",
       "    <tr>\n",
       "      <th>4648</th>\n",
       "      <td>Jamshedpur HOSUR</td>\n",
       "      <td>OD04D5891</td>\n",
       "      <td>Pottipadu</td>\n",
       "      <td>107.693333</td>\n",
       "      <td>122.514092</td>\n",
       "      <td>2017-11-26 15:49:51</td>\n",
       "      <td>2017-11-27 06:39:05.731188</td>\n",
       "    </tr>\n",
       "    <tr>\n",
       "      <th>4285</th>\n",
       "      <td>Jamshedpur HOSUR</td>\n",
       "      <td>OD04D5891</td>\n",
       "      <td>Kaza</td>\n",
       "      <td>109.140000</td>\n",
       "      <td>124.843648</td>\n",
       "      <td>2017-11-26 17:16:39</td>\n",
       "      <td>2017-11-27 08:58:52.134488</td>\n",
       "    </tr>\n",
       "    <tr>\n",
       "      <th>3963</th>\n",
       "      <td>Jamshedpur HOSUR</td>\n",
       "      <td>OD04D5891</td>\n",
       "      <td>Bolapalli</td>\n",
       "      <td>111.742778</td>\n",
       "      <td>130.162629</td>\n",
       "      <td>2017-11-26 19:52:49</td>\n",
       "      <td>2017-11-27 14:18:00.465244</td>\n",
       "    </tr>\n",
       "    <tr>\n",
       "      <th>4776</th>\n",
       "      <td>Jamshedpur HOSUR</td>\n",
       "      <td>OD04D5891</td>\n",
       "      <td>Tangutur</td>\n",
       "      <td>113.518056</td>\n",
       "      <td>137.942536</td>\n",
       "      <td>2017-11-26 21:39:20</td>\n",
       "      <td>2017-11-27 22:04:48.129269</td>\n",
       "    </tr>\n",
       "    <tr>\n",
       "      <th>4733</th>\n",
       "      <td>Jamshedpur HOSUR</td>\n",
       "      <td>OD04D5891</td>\n",
       "      <td>Sunambatti (Musunur)</td>\n",
       "      <td>122.180000</td>\n",
       "      <td>144.415744</td>\n",
       "      <td>2017-11-27 06:19:03</td>\n",
       "      <td>2017-11-28 04:33:11.678931</td>\n",
       "    </tr>\n",
       "    <tr>\n",
       "      <th>4867</th>\n",
       "      <td>Jamshedpur HOSUR</td>\n",
       "      <td>OD04D5891</td>\n",
       "      <td>Venkatachallam &amp;#160;(Old Nellore)</td>\n",
       "      <td>123.666111</td>\n",
       "      <td>150.076390</td>\n",
       "      <td>2017-11-27 07:48:13</td>\n",
       "      <td>2017-11-28 10:12:50.003162</td>\n",
       "    </tr>\n",
       "    <tr>\n",
       "      <th>4007</th>\n",
       "      <td>Jamshedpur HOSUR</td>\n",
       "      <td>OD04D5891</td>\n",
       "      <td>Budanam</td>\n",
       "      <td>124.570278</td>\n",
       "      <td>149.425790</td>\n",
       "      <td>2017-11-27 08:42:28</td>\n",
       "      <td>2017-11-28 09:33:47.843748</td>\n",
       "    </tr>\n",
       "    <tr>\n",
       "      <th>4092</th>\n",
       "      <td>Jamshedpur HOSUR</td>\n",
       "      <td>OD04D5891</td>\n",
       "      <td>Gaddurur</td>\n",
       "      <td>134.004722</td>\n",
       "      <td>166.203610</td>\n",
       "      <td>2017-11-27 18:08:32</td>\n",
       "      <td>2017-11-29 02:20:27.995970</td>\n",
       "    </tr>\n",
       "    <tr>\n",
       "      <th>4515</th>\n",
       "      <td>Jamshedpur HOSUR</td>\n",
       "      <td>OD04D5891</td>\n",
       "      <td>Mulbagal</td>\n",
       "      <td>134.925278</td>\n",
       "      <td>169.437672</td>\n",
       "      <td>2017-11-27 19:03:46</td>\n",
       "      <td>2017-11-29 05:34:30.620444</td>\n",
       "    </tr>\n",
       "    <tr>\n",
       "      <th>5037</th>\n",
       "      <td>Jamshedpur INDORE</td>\n",
       "      <td>PB10CH3759</td>\n",
       "      <td>Pundag</td>\n",
       "      <td>16.748611</td>\n",
       "      <td>26.042154</td>\n",
       "      <td>2017-11-30 07:47:54</td>\n",
       "      <td>2017-11-30 17:05:30.754304</td>\n",
       "    </tr>\n",
       "    <tr>\n",
       "      <th>5052</th>\n",
       "      <td>Jamshedpur INDORE</td>\n",
       "      <td>PB10CH3759</td>\n",
       "      <td>Rasoiya Dhamna</td>\n",
       "      <td>20.642778</td>\n",
       "      <td>34.818668</td>\n",
       "      <td>2017-11-30 11:41:33</td>\n",
       "      <td>2017-12-01 01:52:06.205457</td>\n",
       "    </tr>\n",
       "    <tr>\n",
       "      <th>5081</th>\n",
       "      <td>Jamshedpur INDORE</td>\n",
       "      <td>PB10CH3759</td>\n",
       "      <td>Saukala</td>\n",
       "      <td>39.560000</td>\n",
       "      <td>42.343537</td>\n",
       "      <td>2017-12-01 06:36:35</td>\n",
       "      <td>2017-12-01 09:23:35.734979</td>\n",
       "    </tr>\n",
       "    <tr>\n",
       "      <th>5067</th>\n",
       "      <td>Jamshedpur INDORE</td>\n",
       "      <td>PB10CH3759</td>\n",
       "      <td>Sasaram</td>\n",
       "      <td>42.858056</td>\n",
       "      <td>48.984049</td>\n",
       "      <td>2017-12-01 09:54:28</td>\n",
       "      <td>2017-12-01 16:02:01.575989</td>\n",
       "    </tr>\n",
       "    <tr>\n",
       "      <th>5019</th>\n",
       "      <td>Jamshedpur INDORE</td>\n",
       "      <td>PB10CH3759</td>\n",
       "      <td>Mohania</td>\n",
       "      <td>44.411389</td>\n",
       "      <td>49.862076</td>\n",
       "      <td>2017-12-01 11:27:40</td>\n",
       "      <td>2017-12-01 16:54:42.472920</td>\n",
       "    </tr>\n",
       "    <tr>\n",
       "      <th>4926</th>\n",
       "      <td>Jamshedpur INDORE</td>\n",
       "      <td>PB10CH3759</td>\n",
       "      <td>Daffi</td>\n",
       "      <td>47.523333</td>\n",
       "      <td>50.227846</td>\n",
       "      <td>2017-12-01 14:34:23</td>\n",
       "      <td>2017-12-01 17:16:39.246262</td>\n",
       "    </tr>\n",
       "    <tr>\n",
       "      <th>5001</th>\n",
       "      <td>Jamshedpur INDORE</td>\n",
       "      <td>PB10CH3759</td>\n",
       "      <td>Lalanagar</td>\n",
       "      <td>49.730278</td>\n",
       "      <td>57.824338</td>\n",
       "      <td>2017-12-01 16:46:48</td>\n",
       "      <td>2017-12-02 00:52:26.615972</td>\n",
       "    </tr>\n",
       "    <tr>\n",
       "      <th>4905</th>\n",
       "      <td>Jamshedpur INDORE</td>\n",
       "      <td>PB10CH3759</td>\n",
       "      <td>Allahabad Bypass (Khokhraj, Nawabganj, Soraon,...</td>\n",
       "      <td>52.150556</td>\n",
       "      <td>58.390821</td>\n",
       "      <td>2017-12-01 19:12:01</td>\n",
       "      <td>2017-12-02 01:26:25.955690</td>\n",
       "    </tr>\n",
       "    <tr>\n",
       "      <th>4975</th>\n",
       "      <td>Jamshedpur INDORE</td>\n",
       "      <td>PB10CH3759</td>\n",
       "      <td>Katoghan</td>\n",
       "      <td>76.688611</td>\n",
       "      <td>68.481191</td>\n",
       "      <td>2017-12-02 19:44:18</td>\n",
       "      <td>2017-12-02 11:31:51.289015</td>\n",
       "    </tr>\n",
       "    <tr>\n",
       "      <th>4919</th>\n",
       "      <td>Jamshedpur INDORE</td>\n",
       "      <td>PB10CH3759</td>\n",
       "      <td>Badauri</td>\n",
       "      <td>86.420833</td>\n",
       "      <td>72.075412</td>\n",
       "      <td>2017-12-03 05:28:14</td>\n",
       "      <td>2017-12-02 15:07:30.484183</td>\n",
       "    </tr>\n",
       "    <tr>\n",
       "      <th>5094</th>\n",
       "      <td>Jamshedpur INDORE</td>\n",
       "      <td>PB10CH3759</td>\n",
       "      <td>Usaka ( Chamari)</td>\n",
       "      <td>90.806111</td>\n",
       "      <td>90.994176</td>\n",
       "      <td>2017-12-03 09:51:21</td>\n",
       "      <td>2017-12-03 10:02:38.035344</td>\n",
       "    </tr>\n",
       "    <tr>\n",
       "      <th>4899</th>\n",
       "      <td>Jamshedpur INDORE</td>\n",
       "      <td>PB10CH3759</td>\n",
       "      <td>Ait</td>\n",
       "      <td>91.722778</td>\n",
       "      <td>83.066966</td>\n",
       "      <td>2017-12-03 10:46:21</td>\n",
       "      <td>2017-12-03 02:07:00.077910</td>\n",
       "    </tr>\n",
       "    <tr>\n",
       "      <th>5043</th>\n",
       "      <td>Jamshedpur INDORE</td>\n",
       "      <td>PB10CH3759</td>\n",
       "      <td>Raksha</td>\n",
       "      <td>96.366389</td>\n",
       "      <td>99.452446</td>\n",
       "      <td>2017-12-03 15:24:58</td>\n",
       "      <td>2017-12-03 18:30:07.806159</td>\n",
       "    </tr>\n",
       "    <tr>\n",
       "      <th>4936</th>\n",
       "      <td>Jamshedpur INDORE</td>\n",
       "      <td>PB10CH3759</td>\n",
       "      <td>Guna Bypass</td>\n",
       "      <td>113.003889</td>\n",
       "      <td>109.275892</td>\n",
       "      <td>2017-12-04 08:03:13</td>\n",
       "      <td>2017-12-04 04:19:32.212711</td>\n",
       "    </tr>\n",
       "    <tr>\n",
       "      <th>4965</th>\n",
       "      <td>Jamshedpur INDORE</td>\n",
       "      <td>PB10CH3759</td>\n",
       "      <td>Indore Dewas (Indore side)</td>\n",
       "      <td>122.616389</td>\n",
       "      <td>127.598475</td>\n",
       "      <td>2017-12-04 17:39:58</td>\n",
       "      <td>2017-12-04 22:38:53.509996</td>\n",
       "    </tr>\n",
       "    <tr>\n",
       "      <th>4950</th>\n",
       "      <td>Jamshedpur INDORE</td>\n",
       "      <td>PB10CH3759</td>\n",
       "      <td>Indore Dewas  (Indore Bypass)</td>\n",
       "      <td>134.403611</td>\n",
       "      <td>130.556428</td>\n",
       "      <td>2017-12-05 05:27:12</td>\n",
       "      <td>2017-12-05 01:36:22.139464</td>\n",
       "    </tr>\n",
       "    <tr>\n",
       "      <th>5329</th>\n",
       "      <td>Jamshedpur KOLKATA</td>\n",
       "      <td>NL02N3814</td>\n",
       "      <td>Debra</td>\n",
       "      <td>35.776111</td>\n",
       "      <td>55.329175</td>\n",
       "      <td>2017-11-19 13:48:33</td>\n",
       "      <td>2017-11-20 09:21:44.031000</td>\n",
       "    </tr>\n",
       "    <tr>\n",
       "      <th>5363</th>\n",
       "      <td>Jamshedpur KOLKATA</td>\n",
       "      <td>NL02N3814</td>\n",
       "      <td>Jaladhulagori (Dhulagarh)</td>\n",
       "      <td>38.179722</td>\n",
       "      <td>61.260152</td>\n",
       "      <td>2017-11-19 16:12:46</td>\n",
       "      <td>2017-11-20 15:17:35.546737</td>\n",
       "    </tr>\n",
       "    <tr>\n",
       "      <th>5328</th>\n",
       "      <td>Jamshedpur KOLKATA</td>\n",
       "      <td>NL02N3814</td>\n",
       "      <td>Debra</td>\n",
       "      <td>40.685833</td>\n",
       "      <td>48.794242</td>\n",
       "      <td>2017-11-05 07:58:31</td>\n",
       "      <td>2017-11-05 16:05:01.272262</td>\n",
       "    </tr>\n",
       "    <tr>\n",
       "      <th>5330</th>\n",
       "      <td>Jamshedpur KOLKATA</td>\n",
       "      <td>NL02N3814</td>\n",
       "      <td>Debra</td>\n",
       "      <td>47.644444</td>\n",
       "      <td>45.762111</td>\n",
       "      <td>2017-12-06 16:17:42</td>\n",
       "      <td>2017-12-06 14:24:45.599985</td>\n",
       "    </tr>\n",
       "  </tbody>\n",
       "</table>\n",
       "</div>"
      ],
      "text/plain": [
       "                   route  vehicle_no  \\\n",
       "4690    Jamshedpur HOSUR   OD04D5891   \n",
       "4601    Jamshedpur HOSUR   OD04D5891   \n",
       "4473    Jamshedpur HOSUR   OD04D5891   \n",
       "4132    Jamshedpur HOSUR   OD04D5891   \n",
       "4177    Jamshedpur HOSUR   OD04D5891   \n",
       "3929    Jamshedpur HOSUR   OD04D5891   \n",
       "4425    Jamshedpur HOSUR   OD04D5891   \n",
       "4051    Jamshedpur HOSUR   OD04D5891   \n",
       "4381    Jamshedpur HOSUR   OD04D5891   \n",
       "4554    Jamshedpur HOSUR   OD04D5891   \n",
       "4823    Jamshedpur HOSUR   OD04D5891   \n",
       "4337    Jamshedpur HOSUR   OD04D5891   \n",
       "4243    Jamshedpur HOSUR   OD04D5891   \n",
       "4648    Jamshedpur HOSUR   OD04D5891   \n",
       "4285    Jamshedpur HOSUR   OD04D5891   \n",
       "3963    Jamshedpur HOSUR   OD04D5891   \n",
       "4776    Jamshedpur HOSUR   OD04D5891   \n",
       "4733    Jamshedpur HOSUR   OD04D5891   \n",
       "4867    Jamshedpur HOSUR   OD04D5891   \n",
       "4007    Jamshedpur HOSUR   OD04D5891   \n",
       "4092    Jamshedpur HOSUR   OD04D5891   \n",
       "4515    Jamshedpur HOSUR   OD04D5891   \n",
       "5037   Jamshedpur INDORE  PB10CH3759   \n",
       "5052   Jamshedpur INDORE  PB10CH3759   \n",
       "5081   Jamshedpur INDORE  PB10CH3759   \n",
       "5067   Jamshedpur INDORE  PB10CH3759   \n",
       "5019   Jamshedpur INDORE  PB10CH3759   \n",
       "4926   Jamshedpur INDORE  PB10CH3759   \n",
       "5001   Jamshedpur INDORE  PB10CH3759   \n",
       "4905   Jamshedpur INDORE  PB10CH3759   \n",
       "4975   Jamshedpur INDORE  PB10CH3759   \n",
       "4919   Jamshedpur INDORE  PB10CH3759   \n",
       "5094   Jamshedpur INDORE  PB10CH3759   \n",
       "4899   Jamshedpur INDORE  PB10CH3759   \n",
       "5043   Jamshedpur INDORE  PB10CH3759   \n",
       "4936   Jamshedpur INDORE  PB10CH3759   \n",
       "4965   Jamshedpur INDORE  PB10CH3759   \n",
       "4950   Jamshedpur INDORE  PB10CH3759   \n",
       "5329  Jamshedpur KOLKATA   NL02N3814   \n",
       "5363  Jamshedpur KOLKATA   NL02N3814   \n",
       "5328  Jamshedpur KOLKATA   NL02N3814   \n",
       "5330  Jamshedpur KOLKATA   NL02N3814   \n",
       "\n",
       "                                              toll_both  time_taken  \\\n",
       "4690                                           Sergrarh   63.595833   \n",
       "4601                                          Panikholi   66.002222   \n",
       "4473                                            Manguli   67.488056   \n",
       "4132                           Gudipada (Old Gangapada)   68.857500   \n",
       "4177                                          Gurapalli   71.043611   \n",
       "3929                                          Bellupada   85.191111   \n",
       "4425                                            Madapam   89.519722   \n",
       "4051                                       Chilakapalem   90.272500   \n",
       "4381                                         Laxmipuram   91.336389   \n",
       "4554                          Nathavalasa/ Vizianagaram   91.336389   \n",
       "4823                                            Vempadu   97.708056   \n",
       "4337                                       Krishnavaram  102.237500   \n",
       "4243                                          Kalaparru  107.043333   \n",
       "4648                                          Pottipadu  107.693333   \n",
       "4285                                               Kaza  109.140000   \n",
       "3963                                          Bolapalli  111.742778   \n",
       "4776                                           Tangutur  113.518056   \n",
       "4733                               Sunambatti (Musunur)  122.180000   \n",
       "4867                 Venkatachallam &#160;(Old Nellore)  123.666111   \n",
       "4007                                            Budanam  124.570278   \n",
       "4092                                           Gaddurur  134.004722   \n",
       "4515                                           Mulbagal  134.925278   \n",
       "5037                                             Pundag   16.748611   \n",
       "5052                                     Rasoiya Dhamna   20.642778   \n",
       "5081                                            Saukala   39.560000   \n",
       "5067                                            Sasaram   42.858056   \n",
       "5019                                            Mohania   44.411389   \n",
       "4926                                              Daffi   47.523333   \n",
       "5001                                          Lalanagar   49.730278   \n",
       "4905  Allahabad Bypass (Khokhraj, Nawabganj, Soraon,...   52.150556   \n",
       "4975                                           Katoghan   76.688611   \n",
       "4919                                            Badauri   86.420833   \n",
       "5094                                   Usaka ( Chamari)   90.806111   \n",
       "4899                                                Ait   91.722778   \n",
       "5043                                             Raksha   96.366389   \n",
       "4936                                        Guna Bypass  113.003889   \n",
       "4965                         Indore Dewas (Indore side)  122.616389   \n",
       "4950                      Indore Dewas  (Indore Bypass)  134.403611   \n",
       "5329                                              Debra   35.776111   \n",
       "5363                          Jaladhulagori (Dhulagarh)   38.179722   \n",
       "5328                                              Debra   40.685833   \n",
       "5330                                              Debra   47.644444   \n",
       "\n",
       "       predicted       ist_timestamp    predicted_ist_timestamp  \n",
       "4690   48.901976 2017-11-24 19:44:00 2017-11-24 05:02:22.114944  \n",
       "4601   55.962630 2017-11-24 22:08:23 2017-11-24 12:06:00.469121  \n",
       "4473   44.736218 2017-11-24 23:37:32 2017-11-24 00:52:25.383770  \n",
       "4132   48.097237 2017-11-25 00:59:42 2017-11-24 04:14:05.051550  \n",
       "4177   57.302723 2017-11-25 03:10:52 2017-11-24 13:26:24.802640  \n",
       "3929   62.376072 2017-11-25 17:19:43 2017-11-24 18:30:48.859302  \n",
       "4425   71.879683 2017-11-25 21:39:26 2017-11-25 04:01:01.860258  \n",
       "4051   73.475973 2017-11-25 22:24:36 2017-11-25 05:36:48.503787  \n",
       "4381   76.634635 2017-11-25 23:28:26 2017-11-25 08:46:19.685807  \n",
       "4554   77.061138 2017-11-25 23:28:26 2017-11-25 09:11:55.098352  \n",
       "4823  105.912135 2017-11-26 05:50:44 2017-11-26 14:02:58.685376  \n",
       "4337  109.067173 2017-11-26 10:22:30 2017-11-26 17:12:16.821509  \n",
       "4243  119.360924 2017-11-26 15:10:51 2017-11-27 03:29:54.325469  \n",
       "4648  122.514092 2017-11-26 15:49:51 2017-11-27 06:39:05.731188  \n",
       "4285  124.843648 2017-11-26 17:16:39 2017-11-27 08:58:52.134488  \n",
       "3963  130.162629 2017-11-26 19:52:49 2017-11-27 14:18:00.465244  \n",
       "4776  137.942536 2017-11-26 21:39:20 2017-11-27 22:04:48.129269  \n",
       "4733  144.415744 2017-11-27 06:19:03 2017-11-28 04:33:11.678931  \n",
       "4867  150.076390 2017-11-27 07:48:13 2017-11-28 10:12:50.003162  \n",
       "4007  149.425790 2017-11-27 08:42:28 2017-11-28 09:33:47.843748  \n",
       "4092  166.203610 2017-11-27 18:08:32 2017-11-29 02:20:27.995970  \n",
       "4515  169.437672 2017-11-27 19:03:46 2017-11-29 05:34:30.620444  \n",
       "5037   26.042154 2017-11-30 07:47:54 2017-11-30 17:05:30.754304  \n",
       "5052   34.818668 2017-11-30 11:41:33 2017-12-01 01:52:06.205457  \n",
       "5081   42.343537 2017-12-01 06:36:35 2017-12-01 09:23:35.734979  \n",
       "5067   48.984049 2017-12-01 09:54:28 2017-12-01 16:02:01.575989  \n",
       "5019   49.862076 2017-12-01 11:27:40 2017-12-01 16:54:42.472920  \n",
       "4926   50.227846 2017-12-01 14:34:23 2017-12-01 17:16:39.246262  \n",
       "5001   57.824338 2017-12-01 16:46:48 2017-12-02 00:52:26.615972  \n",
       "4905   58.390821 2017-12-01 19:12:01 2017-12-02 01:26:25.955690  \n",
       "4975   68.481191 2017-12-02 19:44:18 2017-12-02 11:31:51.289015  \n",
       "4919   72.075412 2017-12-03 05:28:14 2017-12-02 15:07:30.484183  \n",
       "5094   90.994176 2017-12-03 09:51:21 2017-12-03 10:02:38.035344  \n",
       "4899   83.066966 2017-12-03 10:46:21 2017-12-03 02:07:00.077910  \n",
       "5043   99.452446 2017-12-03 15:24:58 2017-12-03 18:30:07.806159  \n",
       "4936  109.275892 2017-12-04 08:03:13 2017-12-04 04:19:32.212711  \n",
       "4965  127.598475 2017-12-04 17:39:58 2017-12-04 22:38:53.509996  \n",
       "4950  130.556428 2017-12-05 05:27:12 2017-12-05 01:36:22.139464  \n",
       "5329   55.329175 2017-11-19 13:48:33 2017-11-20 09:21:44.031000  \n",
       "5363   61.260152 2017-11-19 16:12:46 2017-11-20 15:17:35.546737  \n",
       "5328   48.794242 2017-11-05 07:58:31 2017-11-05 16:05:01.272262  \n",
       "5330   45.762111 2017-12-06 16:17:42 2017-12-06 14:24:45.599985  "
      ]
     },
     "execution_count": 107,
     "metadata": {},
     "output_type": "execute_result"
    }
   ],
   "source": [
    "show_df[['route','vehicle_no','toll_both','time_taken','predicted','ist_timestamp','predicted_ist_timestamp']]"
   ]
  },
  {
   "cell_type": "code",
   "execution_count": null,
   "metadata": {},
   "outputs": [],
   "source": []
  },
  {
   "cell_type": "code",
   "execution_count": null,
   "metadata": {},
   "outputs": [],
   "source": []
  }
 ],
 "metadata": {
  "kernelspec": {
   "display_name": "Python 2",
   "language": "python",
   "name": "python2"
  },
  "language_info": {
   "codemirror_mode": {
    "name": "ipython",
    "version": 2
   },
   "file_extension": ".py",
   "mimetype": "text/x-python",
   "name": "python",
   "nbconvert_exporter": "python",
   "pygments_lexer": "ipython2",
   "version": "2.7.12"
  }
 },
 "nbformat": 4,
 "nbformat_minor": 2
}
