{
 "cells": [
  {
   "cell_type": "code",
   "execution_count": 1390,
   "metadata": {},
   "outputs": [
    {
     "data": {
      "text/html": [
       "<script>requirejs.config({paths: { 'plotly': ['https://cdn.plot.ly/plotly-latest.min']},});if(!window.Plotly) {{require(['plotly'],function(plotly) {window.Plotly=plotly;});}}</script>"
      ],
      "text/vnd.plotly.v1+html": [
       "<script>requirejs.config({paths: { 'plotly': ['https://cdn.plot.ly/plotly-latest.min']},});if(!window.Plotly) {{require(['plotly'],function(plotly) {window.Plotly=plotly;});}}</script>"
      ]
     },
     "metadata": {},
     "output_type": "display_data"
    }
   ],
   "source": [
    "import sqlite3\n",
    "import numpy as np\n",
    "import mysql.connector\n",
    "import pandas as pd\n",
    "import getpass\n",
    "import seaborn as sns\n",
    "import matplotlib.pyplot as plt\n",
    "import plotly\n",
    "plotly.tools.set_credentials_file(username='mainakchain', api_key='B9m4DVrYYmsoW3jDSiok')\n",
    "import plotly.plotly as py\n",
    "import plotly.graph_objs as go\n",
    "from plotly import __version__\n",
    "from plotly.offline import download_plotlyjs, init_notebook_mode, plot, iplot\n",
    "import cufflinks as cf\n",
    "init_notebook_mode(connected=True)\n",
    "import plotly.figure_factory as ff\n",
    "from scipy import stats\n",
    "from sklearn.utils import shuffle\n",
    "from sklearn.neural_network import MLPRegressor\n",
    "from sklearn.neural_network import MLPClassifier\n",
    "from sklearn.ensemble import RandomForestRegressor\n",
    "from sklearn.preprocessing import LabelEncoder\n",
    "from sklearn.preprocessing import StandardScaler\n",
    "from sklearn.model_selection import train_test_split\n",
    "from datetime import timedelta\n",
    "from sklearn.ensemble import RandomForestRegressor\n",
    "import datetime\n",
    "import holidays\n",
    "from sklearn.model_selection import cross_val_score\n",
    "from sklearn.metrics import median_absolute_error\n",
    "from sklearn.model_selection import GridSearchCV\n",
    "from sklearn.cross_validation import StratifiedKFold\n",
    "from sklearn.linear_model import LinearRegression\n",
    "from sklearn.preprocessing import MinMaxScaler\n",
    "from sklearn.svm import LinearSVR\n",
    "from sklearn.svm import SVR"
   ]
  },
  {
   "cell_type": "code",
   "execution_count": 576,
   "metadata": {},
   "outputs": [],
   "source": [
    "toll_time = pd.read_csv('toll_time.csv')"
   ]
  },
  {
   "cell_type": "code",
   "execution_count": 577,
   "metadata": {},
   "outputs": [
    {
     "data": {
      "text/plain": [
       "(6425, 18)"
      ]
     },
     "execution_count": 577,
     "metadata": {},
     "output_type": "execute_result"
    }
   ],
   "source": [
    "toll_time.shape"
   ]
  },
  {
   "cell_type": "code",
   "execution_count": 578,
   "metadata": {},
   "outputs": [],
   "source": [
    "# new_toll_time = toll_time[toll_time['origin'] == 'Jamshedpur'][toll_time['destination'] == 'HOSUR']"
   ]
  },
  {
   "cell_type": "code",
   "execution_count": 579,
   "metadata": {},
   "outputs": [],
   "source": [
    "toll_time['route'] = toll_time['origin'] + ' ' + toll_time['destination']"
   ]
  },
  {
   "cell_type": "code",
   "execution_count": 580,
   "metadata": {},
   "outputs": [],
   "source": [
    "def change_route_to_dummy(df):\n",
    "    num = 1\n",
    "    dict_route = {}\n",
    "    for r in df['route'].unique().tolist():\n",
    "        df['route'] = df['route'].replace({r: num})\n",
    "        dict_route[num] = r\n",
    "        num += 1\n",
    "    return dict_route"
   ]
  },
  {
   "cell_type": "code",
   "execution_count": 581,
   "metadata": {},
   "outputs": [],
   "source": [
    "dict_route = change_route_to_dummy(toll_time)"
   ]
  },
  {
   "cell_type": "code",
   "execution_count": 582,
   "metadata": {},
   "outputs": [
    {
     "data": {
      "text/plain": [
       "(6425, 19)"
      ]
     },
     "execution_count": 582,
     "metadata": {},
     "output_type": "execute_result"
    }
   ],
   "source": [
    "toll_time.shape"
   ]
  },
  {
   "cell_type": "code",
   "execution_count": 583,
   "metadata": {},
   "outputs": [
    {
     "data": {
      "text/plain": [
       "12    990\n",
       "7     979\n",
       "9     627\n",
       "11    548\n",
       "19    452\n",
       "8     436\n",
       "10    418\n",
       "5     367\n",
       "4     270\n",
       "18    261\n",
       "17    249\n",
       "14    204\n",
       "13    201\n",
       "1     177\n",
       "16     90\n",
       "15     74\n",
       "3      50\n",
       "2      29\n",
       "6       3\n",
       "Name: route, dtype: int64"
      ]
     },
     "execution_count": 583,
     "metadata": {},
     "output_type": "execute_result"
    }
   ],
   "source": [
    "toll_time.route.value_counts()"
   ]
  },
  {
   "cell_type": "code",
   "execution_count": 584,
   "metadata": {},
   "outputs": [],
   "source": [
    "new_toll_time = toll_time.copy()"
   ]
  },
  {
   "cell_type": "code",
   "execution_count": 585,
   "metadata": {},
   "outputs": [],
   "source": [
    "today_date = datetime.datetime.now()\n",
    "today_date.strftime(\"%Y-%m-%d %H:%M:%S\")\n",
    "today = today_date.strftime(\"%Y-%m-%d %H:%M:%S\")\n",
    "new_toll_time['today'] = datetime.datetime.strptime(today, '%Y-%m-%d %H:%M:%S')"
   ]
  },
  {
   "cell_type": "code",
   "execution_count": 586,
   "metadata": {},
   "outputs": [
    {
     "data": {
      "text/plain": [
       "Unnamed: 0                     int64\n",
       "origin                        object\n",
       "destination                   object\n",
       "toll_both                     object\n",
       "vehicle_no                    object\n",
       "loading_out_time              object\n",
       "odometer_km                  float64\n",
       "ist_timestamp                 object\n",
       "distance_from_toll           float64\n",
       "loading_in_time               object\n",
       "start_date                    object\n",
       "eta                           object\n",
       "unloading_in_time             object\n",
       "slug                          object\n",
       "delivery_status               object\n",
       "distance_travelled           float64\n",
       "late_by_hrs                  float64\n",
       "time_taken                   float64\n",
       "route                          int64\n",
       "today                 datetime64[ns]\n",
       "dtype: object"
      ]
     },
     "execution_count": 586,
     "metadata": {},
     "output_type": "execute_result"
    }
   ],
   "source": [
    "new_toll_time.dtypes"
   ]
  },
  {
   "cell_type": "code",
   "execution_count": 587,
   "metadata": {},
   "outputs": [],
   "source": [
    "new_toll_time['start_date'] = new_toll_time['start_date'].apply(lambda x:datetime.datetime.strptime(x, '%Y-%m-%d %H:%M:%S') )\n",
    "new_toll_time['days_from_now'] = new_toll_time['today'] - new_toll_time['start_date'] \n",
    "new_toll_time['days_from_now'] = new_toll_time['days_from_now'].apply(lambda x: x.days)"
   ]
  },
  {
   "cell_type": "code",
   "execution_count": 588,
   "metadata": {},
   "outputs": [],
   "source": [
    "new_toll_time['unloading_in_time'] = new_toll_time['unloading_in_time'].apply(lambda x:datetime.datetime.strptime(x, '%Y-%m-%d %H:%M:%S') )\n",
    "new_toll_time['avg_travel_time'] = new_toll_time['start_date'] + (new_toll_time['unloading_in_time'] - new_toll_time['start_date'])/2"
   ]
  },
  {
   "cell_type": "code",
   "execution_count": 589,
   "metadata": {},
   "outputs": [],
   "source": [
    "new_toll_time['month_of_travel'] = new_toll_time['avg_travel_time'].apply(lambda x: x.month)"
   ]
  },
  {
   "cell_type": "code",
   "execution_count": 590,
   "metadata": {},
   "outputs": [],
   "source": [
    "new_toll_time['ist_timestamp'] = new_toll_time['ist_timestamp'].apply(lambda x:datetime.datetime.strptime(x, '%Y-%m-%d %H:%M:%S'))\n",
    "new_toll_time['time_of_travel'] = new_toll_time.ist_timestamp.apply(lambda x: x.hour)"
   ]
  },
  {
   "cell_type": "code",
   "execution_count": 591,
   "metadata": {},
   "outputs": [],
   "source": [
    "new_toll_time['time_of_travel'] = new_toll_time['time_of_travel'].replace({3:'midnight',4:'midnight',5:'midnight',6:'midnight'})\n",
    "new_toll_time['time_of_travel'] = new_toll_time['time_of_travel'].replace({7:'morning',8:'morning',9:'morning',10:'morning'})\n",
    "new_toll_time['time_of_travel'] = new_toll_time['time_of_travel'].replace({11:'noon',12:'noon',13:'noon',14:'noon'})\n",
    "new_toll_time['time_of_travel'] = new_toll_time['time_of_travel'].replace({15:'afternoon',16:'afternoon',17:'afternoon',18:'afternoon'})\n",
    "new_toll_time['time_of_travel'] = new_toll_time['time_of_travel'].replace({19:'evening',20:'evening',21:'evening',22:'evening'})\n",
    "new_toll_time['time_of_travel'] = new_toll_time['time_of_travel'].replace({23:'night',0:'night',1:'night',2:'night'})\n",
    "\n",
    "new_toll_time['time_of_travel'] = new_toll_time['time_of_travel'].replace({'midnight':1,'morning':2,'noon':3,'afternoon':4,'evening':5,'night':6})"
   ]
  },
  {
   "cell_type": "code",
   "execution_count": 592,
   "metadata": {},
   "outputs": [],
   "source": [
    "new_toll_time['day_of_travel'] = new_toll_time['avg_travel_time'].apply(lambda x: x.weekday())"
   ]
  },
  {
   "cell_type": "code",
   "execution_count": 593,
   "metadata": {},
   "outputs": [],
   "source": [
    "new_toll_time['season_of_travel'] = new_toll_time['month_of_travel'].replace({12:'Winter',1:'Winter',2:'Winter'})\n",
    "new_toll_time['season_of_travel'] = new_toll_time['season_of_travel'].replace({3:'Summer',4:'Summer',5:'Summer'})\n",
    "new_toll_time['season_of_travel'] = new_toll_time['season_of_travel'].replace({6:'Rainy',7:'Rainy',8:'Rainy',9:'Rainy'})\n",
    "new_toll_time['season_of_travel'] = new_toll_time['season_of_travel'].replace({10:'Autumn',11:'Autumn'})\n",
    "\n",
    "new_toll_time['season_of_travel'] = new_toll_time['season_of_travel'].replace({'Winter':1,'Summer':2,'Rainy':3,'Autumn':4})"
   ]
  },
  {
   "cell_type": "code",
   "execution_count": 594,
   "metadata": {},
   "outputs": [],
   "source": [
    "def change_vehicle_no_to_dummy(df):\n",
    "    num = 1\n",
    "    dict_vehicle_no = {}\n",
    "    for truck in df['vehicle_no'].unique().tolist():\n",
    "        df['vehicle_no'] = df['vehicle_no'].replace({truck: num})\n",
    "        dict_vehicle_no[num] = truck\n",
    "        num += 1\n",
    "    return dict_vehicle_no"
   ]
  },
  {
   "cell_type": "code",
   "execution_count": 595,
   "metadata": {},
   "outputs": [],
   "source": [
    "def change_toll_booth_to_dummy(df):\n",
    "    num = 1\n",
    "    dict_toll_both = {}\n",
    "    for toll in df['toll_both'].unique().tolist():\n",
    "        df['toll_both'] = df['toll_both'].replace({toll: num})\n",
    "        dict_toll_both[num] = toll\n",
    "        num += 1\n",
    "    return dict_toll_both"
   ]
  },
  {
   "cell_type": "code",
   "execution_count": 596,
   "metadata": {},
   "outputs": [],
   "source": [
    "dict_toll_both = change_toll_booth_to_dummy(new_toll_time)"
   ]
  },
  {
   "cell_type": "code",
   "execution_count": 597,
   "metadata": {},
   "outputs": [],
   "source": [
    "def change_delivery_status_to_dummy(df):\n",
    "    df['delivery_status'] = df['delivery_status'].replace({'early':1,'on-time':2,'late':3})"
   ]
  },
  {
   "cell_type": "code",
   "execution_count": 607,
   "metadata": {},
   "outputs": [],
   "source": [
    "new_toll_time['loading_out_time'] = new_toll_time['loading_out_time'].apply(lambda x:datetime.datetime.strptime(x, '%Y-%m-%d %H:%M:%S') )\n"
   ]
  },
  {
   "cell_type": "code",
   "execution_count": 1047,
   "metadata": {},
   "outputs": [],
   "source": [
    "new_toll_time = new_toll_time.sort_values(['route','vehicle_no','time_taken'])"
   ]
  },
  {
   "cell_type": "code",
   "execution_count": 1048,
   "metadata": {},
   "outputs": [],
   "source": [
    "def time_between_toll(df):\n",
    "    for truck in df.vehicle_no.unique().tolist():\n",
    "        for route in df.route.unique().tolist():\n",
    "            if df[(df.vehicle_no == truck) & (df.route == route)].shape[0] == 1:\n",
    "                continue\n",
    "            elif df[(df.vehicle_no == truck) & (df.route == route)].shape[0] > 1 :\n",
    "                df['time_btn_toll'][(df['vehicle_no'] == truck) & (df['route'] == route)] = df['time_taken'][(df['vehicle_no'] == truck) & (df['route'] == route)].diff()\n",
    "            else:\n",
    "                continue\n",
    "    return df"
   ]
  },
  {
   "cell_type": "code",
   "execution_count": 1050,
   "metadata": {},
   "outputs": [
    {
     "name": "stderr",
     "output_type": "stream",
     "text": [
      "/usr/local/lib/python2.7/dist-packages/ipykernel_launcher.py:7: SettingWithCopyWarning:\n",
      "\n",
      "\n",
      "A value is trying to be set on a copy of a slice from a DataFrame\n",
      "\n",
      "See the caveats in the documentation: http://pandas.pydata.org/pandas-docs/stable/indexing.html#indexing-view-versus-copy\n",
      "\n"
     ]
    }
   ],
   "source": [
    "new_toll_time['time_btn_toll'] = 0\n",
    "new_toll_time = time_between_toll(new_toll_time)\n",
    "new_toll_time['time_btn_toll'] = new_toll_time['time_btn_toll'].fillna(0)"
   ]
  },
  {
   "cell_type": "code",
   "execution_count": 1067,
   "metadata": {},
   "outputs": [
    {
     "ename": "AttributeError",
     "evalue": "'int' object has no attribute 'hour'",
     "output_type": "error",
     "traceback": [
      "\u001b[0;31m---------------------------------------------------------------------------\u001b[0m",
      "\u001b[0;31mAttributeError\u001b[0m                            Traceback (most recent call last)",
      "\u001b[0;32m<ipython-input-1067-dc8ea4db4895>\u001b[0m in \u001b[0;36m<module>\u001b[0;34m()\u001b[0m\n\u001b[0;32m----> 1\u001b[0;31m \u001b[0mnew_toll_time\u001b[0m\u001b[0;34m[\u001b[0m\u001b[0;34m'loading_out_time'\u001b[0m\u001b[0;34m]\u001b[0m \u001b[0;34m=\u001b[0m \u001b[0mnew_toll_time\u001b[0m\u001b[0;34m[\u001b[0m\u001b[0;34m'loading_out_time'\u001b[0m\u001b[0;34m]\u001b[0m\u001b[0;34m.\u001b[0m\u001b[0mapply\u001b[0m\u001b[0;34m(\u001b[0m\u001b[0;32mlambda\u001b[0m \u001b[0mx\u001b[0m\u001b[0;34m:\u001b[0m \u001b[0mx\u001b[0m\u001b[0;34m.\u001b[0m\u001b[0mhour\u001b[0m\u001b[0;34m)\u001b[0m\u001b[0;34m\u001b[0m\u001b[0m\n\u001b[0m",
      "\u001b[0;32m/usr/local/lib/python2.7/dist-packages/pandas/core/series.pyc\u001b[0m in \u001b[0;36mapply\u001b[0;34m(self, func, convert_dtype, args, **kwds)\u001b[0m\n\u001b[1;32m   2353\u001b[0m             \u001b[0;32melse\u001b[0m\u001b[0;34m:\u001b[0m\u001b[0;34m\u001b[0m\u001b[0m\n\u001b[1;32m   2354\u001b[0m                 \u001b[0mvalues\u001b[0m \u001b[0;34m=\u001b[0m \u001b[0mself\u001b[0m\u001b[0;34m.\u001b[0m\u001b[0masobject\u001b[0m\u001b[0;34m\u001b[0m\u001b[0m\n\u001b[0;32m-> 2355\u001b[0;31m                 \u001b[0mmapped\u001b[0m \u001b[0;34m=\u001b[0m \u001b[0mlib\u001b[0m\u001b[0;34m.\u001b[0m\u001b[0mmap_infer\u001b[0m\u001b[0;34m(\u001b[0m\u001b[0mvalues\u001b[0m\u001b[0;34m,\u001b[0m \u001b[0mf\u001b[0m\u001b[0;34m,\u001b[0m \u001b[0mconvert\u001b[0m\u001b[0;34m=\u001b[0m\u001b[0mconvert_dtype\u001b[0m\u001b[0;34m)\u001b[0m\u001b[0;34m\u001b[0m\u001b[0m\n\u001b[0m\u001b[1;32m   2356\u001b[0m \u001b[0;34m\u001b[0m\u001b[0m\n\u001b[1;32m   2357\u001b[0m         \u001b[0;32mif\u001b[0m \u001b[0mlen\u001b[0m\u001b[0;34m(\u001b[0m\u001b[0mmapped\u001b[0m\u001b[0;34m)\u001b[0m \u001b[0;32mand\u001b[0m \u001b[0misinstance\u001b[0m\u001b[0;34m(\u001b[0m\u001b[0mmapped\u001b[0m\u001b[0;34m[\u001b[0m\u001b[0;36m0\u001b[0m\u001b[0;34m]\u001b[0m\u001b[0;34m,\u001b[0m \u001b[0mSeries\u001b[0m\u001b[0;34m)\u001b[0m\u001b[0;34m:\u001b[0m\u001b[0;34m\u001b[0m\u001b[0m\n",
      "\u001b[0;32mpandas/_libs/src/inference.pyx\u001b[0m in \u001b[0;36mpandas._libs.lib.map_infer (pandas/_libs/lib.c:66645)\u001b[0;34m()\u001b[0m\n",
      "\u001b[0;32m<ipython-input-1067-dc8ea4db4895>\u001b[0m in \u001b[0;36m<lambda>\u001b[0;34m(x)\u001b[0m\n\u001b[0;32m----> 1\u001b[0;31m \u001b[0mnew_toll_time\u001b[0m\u001b[0;34m[\u001b[0m\u001b[0;34m'loading_out_time'\u001b[0m\u001b[0;34m]\u001b[0m \u001b[0;34m=\u001b[0m \u001b[0mnew_toll_time\u001b[0m\u001b[0;34m[\u001b[0m\u001b[0;34m'loading_out_time'\u001b[0m\u001b[0;34m]\u001b[0m\u001b[0;34m.\u001b[0m\u001b[0mapply\u001b[0m\u001b[0;34m(\u001b[0m\u001b[0;32mlambda\u001b[0m \u001b[0mx\u001b[0m\u001b[0;34m:\u001b[0m \u001b[0mx\u001b[0m\u001b[0;34m.\u001b[0m\u001b[0mhour\u001b[0m\u001b[0;34m)\u001b[0m\u001b[0;34m\u001b[0m\u001b[0m\n\u001b[0m",
      "\u001b[0;31mAttributeError\u001b[0m: 'int' object has no attribute 'hour'"
     ]
    }
   ],
   "source": [
    "new_toll_time['loading_out_time'] = new_toll_time['loading_out_time'].apply(lambda x: x.hour)"
   ]
  },
  {
   "cell_type": "code",
   "execution_count": 615,
   "metadata": {},
   "outputs": [],
   "source": [
    "new_toll_time.late_by_hrs = new_toll_time.late_by_hrs.round()"
   ]
  },
  {
   "cell_type": "code",
   "execution_count": 1302,
   "metadata": {},
   "outputs": [],
   "source": [
    "train_df = new_toll_time[new_toll_time['vehicle_no'].isin(['OD04D5891','PB10CH3759','NL02N3814']) == False]"
   ]
  },
  {
   "cell_type": "code",
   "execution_count": 1303,
   "metadata": {},
   "outputs": [],
   "source": [
    "test_df = new_toll_time[new_toll_time['vehicle_no'].isin(['OD04D5891','PB10CH3759','NL02N3814']) == True]"
   ]
  },
  {
   "cell_type": "code",
   "execution_count": 1304,
   "metadata": {},
   "outputs": [
    {
     "data": {
      "text/plain": [
       "((42, 27), (6383, 27))"
      ]
     },
     "execution_count": 1304,
     "metadata": {},
     "output_type": "execute_result"
    }
   ],
   "source": [
    "test_df.shape, train_df.shape"
   ]
  },
  {
   "cell_type": "code",
   "execution_count": 1305,
   "metadata": {
    "scrolled": false
   },
   "outputs": [
    {
     "data": {
      "text/plain": [
       "['Unnamed: 0',\n",
       " 'origin',\n",
       " 'destination',\n",
       " 'toll_both',\n",
       " 'vehicle_no',\n",
       " 'loading_out_time',\n",
       " 'odometer_km',\n",
       " 'ist_timestamp',\n",
       " 'distance_from_toll',\n",
       " 'loading_in_time',\n",
       " 'start_date',\n",
       " 'eta',\n",
       " 'unloading_in_time',\n",
       " 'slug',\n",
       " 'delivery_status',\n",
       " 'distance_travelled',\n",
       " 'late_by_hrs',\n",
       " 'time_taken',\n",
       " 'route',\n",
       " 'today',\n",
       " 'days_from_now',\n",
       " 'avg_travel_time',\n",
       " 'month_of_travel',\n",
       " 'time_of_travel',\n",
       " 'day_of_travel',\n",
       " 'season_of_travel',\n",
       " 'time_btn_toll']"
      ]
     },
     "execution_count": 1305,
     "metadata": {},
     "output_type": "execute_result"
    }
   ],
   "source": [
    "test_df.columns.tolist()"
   ]
  },
  {
   "cell_type": "code",
   "execution_count": 1306,
   "metadata": {},
   "outputs": [],
   "source": [
    "if set(test_df.vehicle_no.unique().tolist()) < set(train_df.vehicle_no.unique().tolist()):\n",
    "    final_train_df = train_df[['route','toll_both','vehicle_no','odometer_km','loading_out_time','distance_travelled','time_of_travel','day_of_travel','season_of_travel','month_of_travel','days_from_now','time_taken']]\n",
    "    final_test_df = test_df[['route','toll_both','vehicle_no','odometer_km','loading_out_time','distance_travelled','time_of_travel','day_of_travel','season_of_travel','month_of_travel','days_from_now','time_taken']]\n",
    "    train_dict_vehicle_no = change_vehicle_no_to_dummy(final_train_df)\n",
    "    test_dict_vehilce_no = change_vehicle_no_to_dummy(final_test_df)\n",
    "    \n",
    "else:\n",
    "    final_train_df = train_df[['route','toll_both','odometer_km','loading_out_time','distance_travelled','time_of_travel','day_of_travel','season_of_travel','month_of_travel','days_from_now','time_taken']]\n",
    "    final_test_df = test_df[['route','toll_both','odometer_km','loading_out_time','distance_travelled','time_of_travel','day_of_travel','season_of_travel','month_of_travel','days_from_now','time_taken']]"
   ]
  },
  {
   "cell_type": "code",
   "execution_count": 1356,
   "metadata": {},
   "outputs": [],
   "source": [
    "train_X = final_train_df.drop(['time_taken'], axis=1)\n",
    "train_y = final_train_df['time_taken']\n",
    "\n",
    "test_X = final_test_df.drop(['time_taken'], axis=1)\n",
    "test_y = final_test_df['time_taken']"
   ]
  },
  {
   "cell_type": "code",
   "execution_count": 1357,
   "metadata": {},
   "outputs": [],
   "source": [
    "X_train, X_test, y_train, y_test = train_test_split(train_X,train_y, test_size=0.2, random_state=42)"
   ]
  },
  {
   "cell_type": "code",
   "execution_count": 1358,
   "metadata": {},
   "outputs": [],
   "source": [
    "scale= MinMaxScaler()\n",
    "X_train_scaled = scale.fit_transform(X_train)\n",
    "X_test_scaled = scale.fit_transform(X_test)\n",
    "\n",
    "# y_train_std = final_train_df['time_btn_toll']\n",
    "# y_test_std = final_test_df['time_btn_toll']"
   ]
  },
  {
   "cell_type": "code",
   "execution_count": 1359,
   "metadata": {},
   "outputs": [],
   "source": [
    "# parameters = {\n",
    "#     'hidden_layer_sizes':[15,20,30,40],\n",
    "#     'activation':['logistic','relu','identity'],\n",
    "#     'solver':['adam'],\n",
    "#     'learning_rate':['invscaling','constant']\n",
    "#              }"
   ]
  },
  {
   "cell_type": "code",
   "execution_count": 1360,
   "metadata": {},
   "outputs": [],
   "source": [
    "# reg_mlp = MLPRegressor( hidden_layer_sizes=(100,50),  activation='logistic', solver='adam', alpha=1, batch_size='auto',\n",
    "#     learning_rate='constant', learning_rate_init=0.01, power_t=0.01, max_iter=5000, shuffle=False, tol=0.0001, verbose=False, warm_start=False, momentum=0.9, nesterovs_momentum=True,\n",
    "#     early_stopping=False,random_state=6, validation_fraction=0.1, beta_1=0.9, beta_2=0.999, epsilon=1e-08)"
   ]
  },
  {
   "cell_type": "code",
   "execution_count": 1361,
   "metadata": {},
   "outputs": [],
   "source": [
    "reg_mlp = MLPRegressor(hidden_layer_sizes=(100,50), activation='logistic', alpha=5, solver='lbfgs', random_state=42)"
   ]
  },
  {
   "cell_type": "code",
   "execution_count": 1397,
   "metadata": {},
   "outputs": [],
   "source": [
    "reg_svr = SVR(epsilon=0.0, tol=0.0001, C=0.01 ,verbose=0, max_iter=1000)"
   ]
  },
  {
   "cell_type": "code",
   "execution_count": 1389,
   "metadata": {},
   "outputs": [],
   "source": [
    "# reg_rf = RandomForestRegressor(bootstrap=True, criterion='mse', max_depth=10,\n",
    "#            max_features='auto', max_leaf_nodes=50,\n",
    "#            min_impurity_decrease=0.0, min_impurity_split=None,\n",
    "#            min_samples_leaf=1, min_samples_split=4,\n",
    "#            min_weight_fraction_leaf=0.0, n_estimators=1000, n_jobs=-1,\n",
    "#            oob_score=False, random_state=42, verbose=1, warm_start=False)"
   ]
  },
  {
   "cell_type": "code",
   "execution_count": 1363,
   "metadata": {},
   "outputs": [],
   "source": [
    "# reg_lin = LinearRegression(fit_intercept=True, normalize=True, copy_X=True, n_jobs=-1)"
   ]
  },
  {
   "cell_type": "code",
   "execution_count": 1364,
   "metadata": {},
   "outputs": [],
   "source": [
    "# grid = GridSearchCV(reg_mlp, parameters, n_jobs=-1,\n",
    "#                    scoring='neg_median_absolute_error',\n",
    "#                    verbose=1, refit=True)"
   ]
  },
  {
   "cell_type": "code",
   "execution_count": 1365,
   "metadata": {},
   "outputs": [],
   "source": [
    "# grid_result = grid.fit(X_train, y_train)"
   ]
  },
  {
   "cell_type": "code",
   "execution_count": 1366,
   "metadata": {},
   "outputs": [],
   "source": [
    "# # summarize results\n",
    "# print(\"Best: %f using %s\" % (grid_result.best_score_, grid_result.best_params_))"
   ]
  },
  {
   "cell_type": "code",
   "execution_count": 1399,
   "metadata": {
    "scrolled": true
   },
   "outputs": [
    {
     "data": {
      "text/plain": [
       "0.75702572690103731"
      ]
     },
     "execution_count": 1399,
     "metadata": {},
     "output_type": "execute_result"
    }
   ],
   "source": [
    "reg_mlp.fit(X_train_scaled, y_train)\n",
    "reg_mlp.score(X_test_scaled, y_test)"
   ]
  },
  {
   "cell_type": "code",
   "execution_count": 1400,
   "metadata": {},
   "outputs": [],
   "source": [
    "scores = cross_val_score(reg_mlp, X_train_scaled, y_train, scoring='r2', n_jobs=-1)"
   ]
  },
  {
   "cell_type": "code",
   "execution_count": 1401,
   "metadata": {},
   "outputs": [
    {
     "name": "stdout",
     "output_type": "stream",
     "text": [
      "Accuracy: 0.63 (+/- 0.11)\n"
     ]
    }
   ],
   "source": [
    "print(\"Accuracy: %0.2f (+/- %0.2f)\" % (scores.mean(), scores.std() * 2))"
   ]
  },
  {
   "cell_type": "code",
   "execution_count": 1402,
   "metadata": {},
   "outputs": [],
   "source": [
    "scale = MinMaxScaler()\n",
    "X_predict_scaled = scale.fit_transform(test_X)\n",
    "\n",
    "y_predict = test_y"
   ]
  },
  {
   "cell_type": "code",
   "execution_count": 1403,
   "metadata": {},
   "outputs": [],
   "source": [
    "predictions = reg_mlp.predict(X_predict_scaled)"
   ]
  },
  {
   "cell_type": "code",
   "execution_count": 1372,
   "metadata": {},
   "outputs": [
    {
     "data": {
      "image/png": "[encoded data removed]",
      "text/plain": [
       "<matplotlib.figure.Figure at 0x7fc4466bae10>"
      ]
     },
     "metadata": {},
     "output_type": "display_data"
    }
   ],
   "source": [
    "## The line / model\n",
    "plt.scatter(y_predict, predictions)\n",
    "plt.ylabel('predictions')\n",
    "plt.xlabel('actual')\n",
    "plt.show()"
   ]
  },
  {
   "cell_type": "code",
   "execution_count": 1404,
   "metadata": {},
   "outputs": [
    {
     "data": {
      "text/plain": [
       "((42, 27), (42,), (42, 28))"
      ]
     },
     "execution_count": 1404,
     "metadata": {},
     "output_type": "execute_result"
    }
   ],
   "source": [
    "test_df.shape, predictions.shape, show_df.shape"
   ]
  },
  {
   "cell_type": "code",
   "execution_count": 1374,
   "metadata": {},
   "outputs": [],
   "source": [
    "show_df = test_df.copy()"
   ]
  },
  {
   "cell_type": "code",
   "execution_count": 1375,
   "metadata": {
    "scrolled": false
   },
   "outputs": [],
   "source": [
    "show_df['predicted'] = predictions"
   ]
  },
  {
   "cell_type": "code",
   "execution_count": 1413,
   "metadata": {},
   "outputs": [],
   "source": [
    "show_df['time_taken_delta'] = show_df['time_taken'].apply(lambda x: timedelta(hours=x))"
   ]
  },
  {
   "cell_type": "code",
   "execution_count": 1411,
   "metadata": {
    "collapsed": true
   },
   "outputs": [
    {
     "ename": "TypeError",
     "evalue": "cannot operate on a series without a rhs of a series/ndarray of type datetime64[ns] or a timedelta",
     "output_type": "error",
     "traceback": [
      "\u001b[0;31m---------------------------------------------------------------------------\u001b[0m",
      "\u001b[0;31mTypeError\u001b[0m                                 Traceback (most recent call last)",
      "\u001b[0;32m<ipython-input-1411-41689188af8e>\u001b[0m in \u001b[0;36m<module>\u001b[0;34m()\u001b[0m\n\u001b[0;32m----> 1\u001b[0;31m \u001b[0mshow_df\u001b[0m\u001b[0;34m[\u001b[0m\u001b[0;34m'predicted_ist_timestamp'\u001b[0m\u001b[0;34m]\u001b[0m \u001b[0;34m=\u001b[0m \u001b[0mshow_df\u001b[0m\u001b[0;34m[\u001b[0m\u001b[0;34m'ist_timestamp'\u001b[0m\u001b[0;34m]\u001b[0m \u001b[0;34m-\u001b[0m \u001b[0mshow_df\u001b[0m\u001b[0;34m[\u001b[0m\u001b[0;34m'time_taken'\u001b[0m\u001b[0;34m]\u001b[0m\u001b[0;34m\u001b[0m\u001b[0m\n\u001b[0m",
      "\u001b[0;32m/usr/local/lib/python2.7/dist-packages/pandas/core/ops.pyc\u001b[0m in \u001b[0;36mwrapper\u001b[0;34m(left, right, name, na_op)\u001b[0m\n\u001b[1;32m    700\u001b[0m         \u001b[0mleft\u001b[0m\u001b[0;34m,\u001b[0m \u001b[0mright\u001b[0m \u001b[0;34m=\u001b[0m \u001b[0m_align_method_SERIES\u001b[0m\u001b[0;34m(\u001b[0m\u001b[0mleft\u001b[0m\u001b[0;34m,\u001b[0m \u001b[0mright\u001b[0m\u001b[0;34m)\u001b[0m\u001b[0;34m\u001b[0m\u001b[0m\n\u001b[1;32m    701\u001b[0m \u001b[0;34m\u001b[0m\u001b[0m\n\u001b[0;32m--> 702\u001b[0;31m         \u001b[0mconverted\u001b[0m \u001b[0;34m=\u001b[0m \u001b[0m_Op\u001b[0m\u001b[0;34m.\u001b[0m\u001b[0mget_op\u001b[0m\u001b[0;34m(\u001b[0m\u001b[0mleft\u001b[0m\u001b[0;34m,\u001b[0m \u001b[0mright\u001b[0m\u001b[0;34m,\u001b[0m \u001b[0mname\u001b[0m\u001b[0;34m,\u001b[0m \u001b[0mna_op\u001b[0m\u001b[0;34m)\u001b[0m\u001b[0;34m\u001b[0m\u001b[0m\n\u001b[0m\u001b[1;32m    703\u001b[0m \u001b[0;34m\u001b[0m\u001b[0m\n\u001b[1;32m    704\u001b[0m         \u001b[0mleft\u001b[0m\u001b[0;34m,\u001b[0m \u001b[0mright\u001b[0m \u001b[0;34m=\u001b[0m \u001b[0mconverted\u001b[0m\u001b[0;34m.\u001b[0m\u001b[0mleft\u001b[0m\u001b[0;34m,\u001b[0m \u001b[0mconverted\u001b[0m\u001b[0;34m.\u001b[0m\u001b[0mright\u001b[0m\u001b[0;34m\u001b[0m\u001b[0m\n",
      "\u001b[0;32m/usr/local/lib/python2.7/dist-packages/pandas/core/ops.pyc\u001b[0m in \u001b[0;36mget_op\u001b[0;34m(cls, left, right, name, na_op)\u001b[0m\n\u001b[1;32m    332\u001b[0m             \u001b[0;32mreturn\u001b[0m \u001b[0m_Op\u001b[0m\u001b[0;34m(\u001b[0m\u001b[0mleft\u001b[0m\u001b[0;34m,\u001b[0m \u001b[0mright\u001b[0m\u001b[0;34m,\u001b[0m \u001b[0mname\u001b[0m\u001b[0;34m,\u001b[0m \u001b[0mna_op\u001b[0m\u001b[0;34m)\u001b[0m\u001b[0;34m\u001b[0m\u001b[0m\n\u001b[1;32m    333\u001b[0m         \u001b[0;32melse\u001b[0m\u001b[0;34m:\u001b[0m\u001b[0;34m\u001b[0m\u001b[0m\n\u001b[0;32m--> 334\u001b[0;31m             \u001b[0;32mreturn\u001b[0m \u001b[0m_TimeOp\u001b[0m\u001b[0;34m(\u001b[0m\u001b[0mleft\u001b[0m\u001b[0;34m,\u001b[0m \u001b[0mright\u001b[0m\u001b[0;34m,\u001b[0m \u001b[0mname\u001b[0m\u001b[0;34m,\u001b[0m \u001b[0mna_op\u001b[0m\u001b[0;34m)\u001b[0m\u001b[0;34m\u001b[0m\u001b[0m\n\u001b[0m\u001b[1;32m    335\u001b[0m \u001b[0;34m\u001b[0m\u001b[0m\n\u001b[1;32m    336\u001b[0m \u001b[0;34m\u001b[0m\u001b[0m\n",
      "\u001b[0;32m/usr/local/lib/python2.7/dist-packages/pandas/core/ops.pyc\u001b[0m in \u001b[0;36m__init__\u001b[0;34m(self, left, right, name, na_op)\u001b[0m\n\u001b[1;32m    368\u001b[0m         \u001b[0mself\u001b[0m\u001b[0;34m.\u001b[0m\u001b[0mis_floating_rhs\u001b[0m \u001b[0;34m=\u001b[0m \u001b[0mrvalues\u001b[0m\u001b[0;34m.\u001b[0m\u001b[0mdtype\u001b[0m\u001b[0;34m.\u001b[0m\u001b[0mkind\u001b[0m \u001b[0;34m==\u001b[0m \u001b[0;34m'f'\u001b[0m\u001b[0;34m\u001b[0m\u001b[0m\n\u001b[1;32m    369\u001b[0m \u001b[0;34m\u001b[0m\u001b[0m\n\u001b[0;32m--> 370\u001b[0;31m         \u001b[0mself\u001b[0m\u001b[0;34m.\u001b[0m\u001b[0m_validate\u001b[0m\u001b[0;34m(\u001b[0m\u001b[0mlvalues\u001b[0m\u001b[0;34m,\u001b[0m \u001b[0mrvalues\u001b[0m\u001b[0;34m,\u001b[0m \u001b[0mname\u001b[0m\u001b[0;34m)\u001b[0m\u001b[0;34m\u001b[0m\u001b[0m\n\u001b[0m\u001b[1;32m    371\u001b[0m         self.lvalues, self.rvalues = self._convert_for_datetime(lvalues,\n\u001b[1;32m    372\u001b[0m                                                                 rvalues)\n",
      "\u001b[0;32m/usr/local/lib/python2.7/dist-packages/pandas/core/ops.pyc\u001b[0m in \u001b[0;36m_validate\u001b[0;34m(self, lvalues, rvalues, name)\u001b[0m\n\u001b[1;32m    437\u001b[0m                                 \"operator [%s] was passed\" % name)\n\u001b[1;32m    438\u001b[0m         \u001b[0;32melse\u001b[0m\u001b[0;34m:\u001b[0m\u001b[0;34m\u001b[0m\u001b[0m\n\u001b[0;32m--> 439\u001b[0;31m             raise TypeError('cannot operate on a series without a rhs '\n\u001b[0m\u001b[1;32m    440\u001b[0m                             \u001b[0;34m'of a series/ndarray of type datetime64[ns] '\u001b[0m\u001b[0;34m\u001b[0m\u001b[0m\n\u001b[1;32m    441\u001b[0m                             'or a timedelta')\n",
      "\u001b[0;31mTypeError\u001b[0m: cannot operate on a series without a rhs of a series/ndarray of type datetime64[ns] or a timedelta"
     ]
    }
   ],
   "source": [
    "show_df['predicted_ist_timestamp'] = show_df['ist_timestamp'] - show_df['time_taken']"
   ]
  },
  {
   "cell_type": "code",
   "execution_count": 1376,
   "metadata": {},
   "outputs": [],
   "source": [
    "show_df['route'] = test_df['route'].replace(dict_route)"
   ]
  },
  {
   "cell_type": "code",
   "execution_count": 1377,
   "metadata": {},
   "outputs": [],
   "source": [
    "show_df['toll_both'] = show_df['toll_both'].replace(dict_toll_both) "
   ]
  },
  {
   "cell_type": "code",
   "execution_count": 1378,
   "metadata": {},
   "outputs": [],
   "source": [
    "show_df = show_df.sort_values(['route','vehicle_no','time_taken'])"
   ]
  },
  {
   "cell_type": "code",
   "execution_count": 1405,
   "metadata": {},
   "outputs": [
    {
     "data": {
      "text/html": [
       "<div>\n",
       "<style>\n",
       "    .dataframe thead tr:only-child th {\n",
       "        text-align: right;\n",
       "    }\n",
       "\n",
       "    .dataframe thead th {\n",
       "        text-align: left;\n",
       "    }\n",
       "\n",
       "    .dataframe tbody tr th {\n",
       "        vertical-align: top;\n",
       "    }\n",
       "</style>\n",
       "<table border=\"1\" class=\"dataframe\">\n",
       "  <thead>\n",
       "    <tr style=\"text-align: right;\">\n",
       "      <th></th>\n",
       "      <th>route</th>\n",
       "      <th>vehicle_no</th>\n",
       "      <th>toll_both</th>\n",
       "      <th>ist_timestamp</th>\n",
       "      <th>time_taken</th>\n",
       "      <th>predicted</th>\n",
       "    </tr>\n",
       "  </thead>\n",
       "  <tbody>\n",
       "    <tr>\n",
       "      <th>4690</th>\n",
       "      <td>Jamshedpur HOSUR</td>\n",
       "      <td>OD04D5891</td>\n",
       "      <td>Sergrarh</td>\n",
       "      <td>2017-11-24 19:44:00</td>\n",
       "      <td>63.595833</td>\n",
       "      <td>33.183071</td>\n",
       "    </tr>\n",
       "    <tr>\n",
       "      <th>4601</th>\n",
       "      <td>Jamshedpur HOSUR</td>\n",
       "      <td>OD04D5891</td>\n",
       "      <td>Panikholi</td>\n",
       "      <td>2017-11-24 22:08:23</td>\n",
       "      <td>66.002222</td>\n",
       "      <td>43.800112</td>\n",
       "    </tr>\n",
       "    <tr>\n",
       "      <th>4473</th>\n",
       "      <td>Jamshedpur HOSUR</td>\n",
       "      <td>OD04D5891</td>\n",
       "      <td>Manguli</td>\n",
       "      <td>2017-11-24 23:37:32</td>\n",
       "      <td>67.488056</td>\n",
       "      <td>25.111477</td>\n",
       "    </tr>\n",
       "    <tr>\n",
       "      <th>4132</th>\n",
       "      <td>Jamshedpur HOSUR</td>\n",
       "      <td>OD04D5891</td>\n",
       "      <td>Gudipada (Old Gangapada)</td>\n",
       "      <td>2017-11-25 00:59:42</td>\n",
       "      <td>68.857500</td>\n",
       "      <td>25.213126</td>\n",
       "    </tr>\n",
       "    <tr>\n",
       "      <th>4177</th>\n",
       "      <td>Jamshedpur HOSUR</td>\n",
       "      <td>OD04D5891</td>\n",
       "      <td>Gurapalli</td>\n",
       "      <td>2017-11-25 03:10:52</td>\n",
       "      <td>71.043611</td>\n",
       "      <td>26.226878</td>\n",
       "    </tr>\n",
       "    <tr>\n",
       "      <th>3929</th>\n",
       "      <td>Jamshedpur HOSUR</td>\n",
       "      <td>OD04D5891</td>\n",
       "      <td>Bellupada</td>\n",
       "      <td>2017-11-25 17:19:43</td>\n",
       "      <td>85.191111</td>\n",
       "      <td>28.189220</td>\n",
       "    </tr>\n",
       "    <tr>\n",
       "      <th>4425</th>\n",
       "      <td>Jamshedpur HOSUR</td>\n",
       "      <td>OD04D5891</td>\n",
       "      <td>Madapam</td>\n",
       "      <td>2017-11-25 21:39:26</td>\n",
       "      <td>89.519722</td>\n",
       "      <td>31.546292</td>\n",
       "    </tr>\n",
       "    <tr>\n",
       "      <th>4051</th>\n",
       "      <td>Jamshedpur HOSUR</td>\n",
       "      <td>OD04D5891</td>\n",
       "      <td>Chilakapalem</td>\n",
       "      <td>2017-11-25 22:24:36</td>\n",
       "      <td>90.272500</td>\n",
       "      <td>31.415276</td>\n",
       "    </tr>\n",
       "    <tr>\n",
       "      <th>4381</th>\n",
       "      <td>Jamshedpur HOSUR</td>\n",
       "      <td>OD04D5891</td>\n",
       "      <td>Laxmipuram</td>\n",
       "      <td>2017-11-25 23:28:26</td>\n",
       "      <td>91.336389</td>\n",
       "      <td>33.902661</td>\n",
       "    </tr>\n",
       "    <tr>\n",
       "      <th>4554</th>\n",
       "      <td>Jamshedpur HOSUR</td>\n",
       "      <td>OD04D5891</td>\n",
       "      <td>Nathavalasa/ Vizianagaram</td>\n",
       "      <td>2017-11-25 23:28:26</td>\n",
       "      <td>91.336389</td>\n",
       "      <td>35.452273</td>\n",
       "    </tr>\n",
       "    <tr>\n",
       "      <th>4823</th>\n",
       "      <td>Jamshedpur HOSUR</td>\n",
       "      <td>OD04D5891</td>\n",
       "      <td>Vempadu</td>\n",
       "      <td>2017-11-26 05:50:44</td>\n",
       "      <td>97.708056</td>\n",
       "      <td>88.043224</td>\n",
       "    </tr>\n",
       "    <tr>\n",
       "      <th>4337</th>\n",
       "      <td>Jamshedpur HOSUR</td>\n",
       "      <td>OD04D5891</td>\n",
       "      <td>Krishnavaram</td>\n",
       "      <td>2017-11-26 10:22:30</td>\n",
       "      <td>102.237500</td>\n",
       "      <td>91.867590</td>\n",
       "    </tr>\n",
       "    <tr>\n",
       "      <th>4243</th>\n",
       "      <td>Jamshedpur HOSUR</td>\n",
       "      <td>OD04D5891</td>\n",
       "      <td>Kalaparru</td>\n",
       "      <td>2017-11-26 15:10:51</td>\n",
       "      <td>107.043333</td>\n",
       "      <td>95.075930</td>\n",
       "    </tr>\n",
       "    <tr>\n",
       "      <th>4648</th>\n",
       "      <td>Jamshedpur HOSUR</td>\n",
       "      <td>OD04D5891</td>\n",
       "      <td>Pottipadu</td>\n",
       "      <td>2017-11-26 15:49:51</td>\n",
       "      <td>107.693333</td>\n",
       "      <td>96.697480</td>\n",
       "    </tr>\n",
       "    <tr>\n",
       "      <th>4285</th>\n",
       "      <td>Jamshedpur HOSUR</td>\n",
       "      <td>OD04D5891</td>\n",
       "      <td>Kaza</td>\n",
       "      <td>2017-11-26 17:16:39</td>\n",
       "      <td>109.140000</td>\n",
       "      <td>96.858736</td>\n",
       "    </tr>\n",
       "    <tr>\n",
       "      <th>3963</th>\n",
       "      <td>Jamshedpur HOSUR</td>\n",
       "      <td>OD04D5891</td>\n",
       "      <td>Bolapalli</td>\n",
       "      <td>2017-11-26 19:52:49</td>\n",
       "      <td>111.742778</td>\n",
       "      <td>97.941317</td>\n",
       "    </tr>\n",
       "    <tr>\n",
       "      <th>4776</th>\n",
       "      <td>Jamshedpur HOSUR</td>\n",
       "      <td>OD04D5891</td>\n",
       "      <td>Tangutur</td>\n",
       "      <td>2017-11-26 21:39:20</td>\n",
       "      <td>113.518056</td>\n",
       "      <td>104.814753</td>\n",
       "    </tr>\n",
       "    <tr>\n",
       "      <th>4733</th>\n",
       "      <td>Jamshedpur HOSUR</td>\n",
       "      <td>OD04D5891</td>\n",
       "      <td>Sunambatti (Musunur)</td>\n",
       "      <td>2017-11-27 06:19:03</td>\n",
       "      <td>122.180000</td>\n",
       "      <td>110.221620</td>\n",
       "    </tr>\n",
       "    <tr>\n",
       "      <th>4867</th>\n",
       "      <td>Jamshedpur HOSUR</td>\n",
       "      <td>OD04D5891</td>\n",
       "      <td>Venkatachallam &amp;#160;(Old Nellore)</td>\n",
       "      <td>2017-11-27 07:48:13</td>\n",
       "      <td>123.666111</td>\n",
       "      <td>117.476567</td>\n",
       "    </tr>\n",
       "    <tr>\n",
       "      <th>4007</th>\n",
       "      <td>Jamshedpur HOSUR</td>\n",
       "      <td>OD04D5891</td>\n",
       "      <td>Budanam</td>\n",
       "      <td>2017-11-27 08:42:28</td>\n",
       "      <td>124.570278</td>\n",
       "      <td>110.470287</td>\n",
       "    </tr>\n",
       "    <tr>\n",
       "      <th>4092</th>\n",
       "      <td>Jamshedpur HOSUR</td>\n",
       "      <td>OD04D5891</td>\n",
       "      <td>Gaddurur</td>\n",
       "      <td>2017-11-27 18:08:32</td>\n",
       "      <td>134.004722</td>\n",
       "      <td>123.292207</td>\n",
       "    </tr>\n",
       "    <tr>\n",
       "      <th>4515</th>\n",
       "      <td>Jamshedpur HOSUR</td>\n",
       "      <td>OD04D5891</td>\n",
       "      <td>Mulbagal</td>\n",
       "      <td>2017-11-27 19:03:46</td>\n",
       "      <td>134.925278</td>\n",
       "      <td>123.992513</td>\n",
       "    </tr>\n",
       "    <tr>\n",
       "      <th>5037</th>\n",
       "      <td>Jamshedpur INDORE</td>\n",
       "      <td>PB10CH3759</td>\n",
       "      <td>Pundag</td>\n",
       "      <td>2017-11-30 07:47:54</td>\n",
       "      <td>16.748611</td>\n",
       "      <td>49.725888</td>\n",
       "    </tr>\n",
       "    <tr>\n",
       "      <th>5052</th>\n",
       "      <td>Jamshedpur INDORE</td>\n",
       "      <td>PB10CH3759</td>\n",
       "      <td>Rasoiya Dhamna</td>\n",
       "      <td>2017-11-30 11:41:33</td>\n",
       "      <td>20.642778</td>\n",
       "      <td>53.778374</td>\n",
       "    </tr>\n",
       "    <tr>\n",
       "      <th>5081</th>\n",
       "      <td>Jamshedpur INDORE</td>\n",
       "      <td>PB10CH3759</td>\n",
       "      <td>Saukala</td>\n",
       "      <td>2017-12-01 06:36:35</td>\n",
       "      <td>39.560000</td>\n",
       "      <td>61.236591</td>\n",
       "    </tr>\n",
       "    <tr>\n",
       "      <th>5067</th>\n",
       "      <td>Jamshedpur INDORE</td>\n",
       "      <td>PB10CH3759</td>\n",
       "      <td>Sasaram</td>\n",
       "      <td>2017-12-01 09:54:28</td>\n",
       "      <td>42.858056</td>\n",
       "      <td>71.746253</td>\n",
       "    </tr>\n",
       "    <tr>\n",
       "      <th>5019</th>\n",
       "      <td>Jamshedpur INDORE</td>\n",
       "      <td>PB10CH3759</td>\n",
       "      <td>Mohania</td>\n",
       "      <td>2017-12-01 11:27:40</td>\n",
       "      <td>44.411389</td>\n",
       "      <td>88.732376</td>\n",
       "    </tr>\n",
       "    <tr>\n",
       "      <th>4926</th>\n",
       "      <td>Jamshedpur INDORE</td>\n",
       "      <td>PB10CH3759</td>\n",
       "      <td>Daffi</td>\n",
       "      <td>2017-12-01 14:34:23</td>\n",
       "      <td>47.523333</td>\n",
       "      <td>90.894919</td>\n",
       "    </tr>\n",
       "    <tr>\n",
       "      <th>5001</th>\n",
       "      <td>Jamshedpur INDORE</td>\n",
       "      <td>PB10CH3759</td>\n",
       "      <td>Lalanagar</td>\n",
       "      <td>2017-12-01 16:46:48</td>\n",
       "      <td>49.730278</td>\n",
       "      <td>112.396749</td>\n",
       "    </tr>\n",
       "    <tr>\n",
       "      <th>4905</th>\n",
       "      <td>Jamshedpur INDORE</td>\n",
       "      <td>PB10CH3759</td>\n",
       "      <td>Allahabad Bypass (Khokhraj, Nawabganj, Soraon,...</td>\n",
       "      <td>2017-12-01 19:12:01</td>\n",
       "      <td>52.150556</td>\n",
       "      <td>100.783526</td>\n",
       "    </tr>\n",
       "    <tr>\n",
       "      <th>4975</th>\n",
       "      <td>Jamshedpur INDORE</td>\n",
       "      <td>PB10CH3759</td>\n",
       "      <td>Katoghan</td>\n",
       "      <td>2017-12-02 19:44:18</td>\n",
       "      <td>76.688611</td>\n",
       "      <td>125.676897</td>\n",
       "    </tr>\n",
       "    <tr>\n",
       "      <th>4919</th>\n",
       "      <td>Jamshedpur INDORE</td>\n",
       "      <td>PB10CH3759</td>\n",
       "      <td>Badauri</td>\n",
       "      <td>2017-12-03 05:28:14</td>\n",
       "      <td>86.420833</td>\n",
       "      <td>121.217225</td>\n",
       "    </tr>\n",
       "    <tr>\n",
       "      <th>5094</th>\n",
       "      <td>Jamshedpur INDORE</td>\n",
       "      <td>PB10CH3759</td>\n",
       "      <td>Usaka ( Chamari)</td>\n",
       "      <td>2017-12-03 09:51:21</td>\n",
       "      <td>90.806111</td>\n",
       "      <td>167.481947</td>\n",
       "    </tr>\n",
       "    <tr>\n",
       "      <th>4899</th>\n",
       "      <td>Jamshedpur INDORE</td>\n",
       "      <td>PB10CH3759</td>\n",
       "      <td>Ait</td>\n",
       "      <td>2017-12-03 10:46:21</td>\n",
       "      <td>91.722778</td>\n",
       "      <td>129.732996</td>\n",
       "    </tr>\n",
       "    <tr>\n",
       "      <th>5043</th>\n",
       "      <td>Jamshedpur INDORE</td>\n",
       "      <td>PB10CH3759</td>\n",
       "      <td>Raksha</td>\n",
       "      <td>2017-12-03 15:24:58</td>\n",
       "      <td>96.366389</td>\n",
       "      <td>176.479084</td>\n",
       "    </tr>\n",
       "    <tr>\n",
       "      <th>4936</th>\n",
       "      <td>Jamshedpur INDORE</td>\n",
       "      <td>PB10CH3759</td>\n",
       "      <td>Guna Bypass</td>\n",
       "      <td>2017-12-04 08:03:13</td>\n",
       "      <td>113.003889</td>\n",
       "      <td>180.135948</td>\n",
       "    </tr>\n",
       "    <tr>\n",
       "      <th>4965</th>\n",
       "      <td>Jamshedpur INDORE</td>\n",
       "      <td>PB10CH3759</td>\n",
       "      <td>Indore Dewas (Indore side)</td>\n",
       "      <td>2017-12-04 17:39:58</td>\n",
       "      <td>122.616389</td>\n",
       "      <td>197.316049</td>\n",
       "    </tr>\n",
       "    <tr>\n",
       "      <th>4950</th>\n",
       "      <td>Jamshedpur INDORE</td>\n",
       "      <td>PB10CH3759</td>\n",
       "      <td>Indore Dewas  (Indore Bypass)</td>\n",
       "      <td>2017-12-05 05:27:12</td>\n",
       "      <td>134.403611</td>\n",
       "      <td>192.741809</td>\n",
       "    </tr>\n",
       "    <tr>\n",
       "      <th>5329</th>\n",
       "      <td>Jamshedpur KOLKATA</td>\n",
       "      <td>NL02N3814</td>\n",
       "      <td>Debra</td>\n",
       "      <td>2017-11-19 13:48:33</td>\n",
       "      <td>35.776111</td>\n",
       "      <td>57.415677</td>\n",
       "    </tr>\n",
       "    <tr>\n",
       "      <th>5363</th>\n",
       "      <td>Jamshedpur KOLKATA</td>\n",
       "      <td>NL02N3814</td>\n",
       "      <td>Jaladhulagori (Dhulagarh)</td>\n",
       "      <td>2017-11-19 16:12:46</td>\n",
       "      <td>38.179722</td>\n",
       "      <td>68.542955</td>\n",
       "    </tr>\n",
       "    <tr>\n",
       "      <th>5328</th>\n",
       "      <td>Jamshedpur KOLKATA</td>\n",
       "      <td>NL02N3814</td>\n",
       "      <td>Debra</td>\n",
       "      <td>2017-11-05 07:58:31</td>\n",
       "      <td>40.685833</td>\n",
       "      <td>36.366223</td>\n",
       "    </tr>\n",
       "    <tr>\n",
       "      <th>5330</th>\n",
       "      <td>Jamshedpur KOLKATA</td>\n",
       "      <td>NL02N3814</td>\n",
       "      <td>Debra</td>\n",
       "      <td>2017-12-06 16:17:42</td>\n",
       "      <td>47.644444</td>\n",
       "      <td>24.367584</td>\n",
       "    </tr>\n",
       "  </tbody>\n",
       "</table>\n",
       "</div>"
      ],
      "text/plain": [
       "                   route  vehicle_no  \\\n",
       "4690    Jamshedpur HOSUR   OD04D5891   \n",
       "4601    Jamshedpur HOSUR   OD04D5891   \n",
       "4473    Jamshedpur HOSUR   OD04D5891   \n",
       "4132    Jamshedpur HOSUR   OD04D5891   \n",
       "4177    Jamshedpur HOSUR   OD04D5891   \n",
       "3929    Jamshedpur HOSUR   OD04D5891   \n",
       "4425    Jamshedpur HOSUR   OD04D5891   \n",
       "4051    Jamshedpur HOSUR   OD04D5891   \n",
       "4381    Jamshedpur HOSUR   OD04D5891   \n",
       "4554    Jamshedpur HOSUR   OD04D5891   \n",
       "4823    Jamshedpur HOSUR   OD04D5891   \n",
       "4337    Jamshedpur HOSUR   OD04D5891   \n",
       "4243    Jamshedpur HOSUR   OD04D5891   \n",
       "4648    Jamshedpur HOSUR   OD04D5891   \n",
       "4285    Jamshedpur HOSUR   OD04D5891   \n",
       "3963    Jamshedpur HOSUR   OD04D5891   \n",
       "4776    Jamshedpur HOSUR   OD04D5891   \n",
       "4733    Jamshedpur HOSUR   OD04D5891   \n",
       "4867    Jamshedpur HOSUR   OD04D5891   \n",
       "4007    Jamshedpur HOSUR   OD04D5891   \n",
       "4092    Jamshedpur HOSUR   OD04D5891   \n",
       "4515    Jamshedpur HOSUR   OD04D5891   \n",
       "5037   Jamshedpur INDORE  PB10CH3759   \n",
       "5052   Jamshedpur INDORE  PB10CH3759   \n",
       "5081   Jamshedpur INDORE  PB10CH3759   \n",
       "5067   Jamshedpur INDORE  PB10CH3759   \n",
       "5019   Jamshedpur INDORE  PB10CH3759   \n",
       "4926   Jamshedpur INDORE  PB10CH3759   \n",
       "5001   Jamshedpur INDORE  PB10CH3759   \n",
       "4905   Jamshedpur INDORE  PB10CH3759   \n",
       "4975   Jamshedpur INDORE  PB10CH3759   \n",
       "4919   Jamshedpur INDORE  PB10CH3759   \n",
       "5094   Jamshedpur INDORE  PB10CH3759   \n",
       "4899   Jamshedpur INDORE  PB10CH3759   \n",
       "5043   Jamshedpur INDORE  PB10CH3759   \n",
       "4936   Jamshedpur INDORE  PB10CH3759   \n",
       "4965   Jamshedpur INDORE  PB10CH3759   \n",
       "4950   Jamshedpur INDORE  PB10CH3759   \n",
       "5329  Jamshedpur KOLKATA   NL02N3814   \n",
       "5363  Jamshedpur KOLKATA   NL02N3814   \n",
       "5328  Jamshedpur KOLKATA   NL02N3814   \n",
       "5330  Jamshedpur KOLKATA   NL02N3814   \n",
       "\n",
       "                                              toll_both       ist_timestamp  \\\n",
       "4690                                           Sergrarh 2017-11-24 19:44:00   \n",
       "4601                                          Panikholi 2017-11-24 22:08:23   \n",
       "4473                                            Manguli 2017-11-24 23:37:32   \n",
       "4132                           Gudipada (Old Gangapada) 2017-11-25 00:59:42   \n",
       "4177                                          Gurapalli 2017-11-25 03:10:52   \n",
       "3929                                          Bellupada 2017-11-25 17:19:43   \n",
       "4425                                            Madapam 2017-11-25 21:39:26   \n",
       "4051                                       Chilakapalem 2017-11-25 22:24:36   \n",
       "4381                                         Laxmipuram 2017-11-25 23:28:26   \n",
       "4554                          Nathavalasa/ Vizianagaram 2017-11-25 23:28:26   \n",
       "4823                                            Vempadu 2017-11-26 05:50:44   \n",
       "4337                                       Krishnavaram 2017-11-26 10:22:30   \n",
       "4243                                          Kalaparru 2017-11-26 15:10:51   \n",
       "4648                                          Pottipadu 2017-11-26 15:49:51   \n",
       "4285                                               Kaza 2017-11-26 17:16:39   \n",
       "3963                                          Bolapalli 2017-11-26 19:52:49   \n",
       "4776                                           Tangutur 2017-11-26 21:39:20   \n",
       "4733                               Sunambatti (Musunur) 2017-11-27 06:19:03   \n",
       "4867                 Venkatachallam &#160;(Old Nellore) 2017-11-27 07:48:13   \n",
       "4007                                            Budanam 2017-11-27 08:42:28   \n",
       "4092                                           Gaddurur 2017-11-27 18:08:32   \n",
       "4515                                           Mulbagal 2017-11-27 19:03:46   \n",
       "5037                                             Pundag 2017-11-30 07:47:54   \n",
       "5052                                     Rasoiya Dhamna 2017-11-30 11:41:33   \n",
       "5081                                            Saukala 2017-12-01 06:36:35   \n",
       "5067                                            Sasaram 2017-12-01 09:54:28   \n",
       "5019                                            Mohania 2017-12-01 11:27:40   \n",
       "4926                                              Daffi 2017-12-01 14:34:23   \n",
       "5001                                          Lalanagar 2017-12-01 16:46:48   \n",
       "4905  Allahabad Bypass (Khokhraj, Nawabganj, Soraon,... 2017-12-01 19:12:01   \n",
       "4975                                           Katoghan 2017-12-02 19:44:18   \n",
       "4919                                            Badauri 2017-12-03 05:28:14   \n",
       "5094                                   Usaka ( Chamari) 2017-12-03 09:51:21   \n",
       "4899                                                Ait 2017-12-03 10:46:21   \n",
       "5043                                             Raksha 2017-12-03 15:24:58   \n",
       "4936                                        Guna Bypass 2017-12-04 08:03:13   \n",
       "4965                         Indore Dewas (Indore side) 2017-12-04 17:39:58   \n",
       "4950                      Indore Dewas  (Indore Bypass) 2017-12-05 05:27:12   \n",
       "5329                                              Debra 2017-11-19 13:48:33   \n",
       "5363                          Jaladhulagori (Dhulagarh) 2017-11-19 16:12:46   \n",
       "5328                                              Debra 2017-11-05 07:58:31   \n",
       "5330                                              Debra 2017-12-06 16:17:42   \n",
       "\n",
       "      time_taken   predicted  \n",
       "4690   63.595833   33.183071  \n",
       "4601   66.002222   43.800112  \n",
       "4473   67.488056   25.111477  \n",
       "4132   68.857500   25.213126  \n",
       "4177   71.043611   26.226878  \n",
       "3929   85.191111   28.189220  \n",
       "4425   89.519722   31.546292  \n",
       "4051   90.272500   31.415276  \n",
       "4381   91.336389   33.902661  \n",
       "4554   91.336389   35.452273  \n",
       "4823   97.708056   88.043224  \n",
       "4337  102.237500   91.867590  \n",
       "4243  107.043333   95.075930  \n",
       "4648  107.693333   96.697480  \n",
       "4285  109.140000   96.858736  \n",
       "3963  111.742778   97.941317  \n",
       "4776  113.518056  104.814753  \n",
       "4733  122.180000  110.221620  \n",
       "4867  123.666111  117.476567  \n",
       "4007  124.570278  110.470287  \n",
       "4092  134.004722  123.292207  \n",
       "4515  134.925278  123.992513  \n",
       "5037   16.748611   49.725888  \n",
       "5052   20.642778   53.778374  \n",
       "5081   39.560000   61.236591  \n",
       "5067   42.858056   71.746253  \n",
       "5019   44.411389   88.732376  \n",
       "4926   47.523333   90.894919  \n",
       "5001   49.730278  112.396749  \n",
       "4905   52.150556  100.783526  \n",
       "4975   76.688611  125.676897  \n",
       "4919   86.420833  121.217225  \n",
       "5094   90.806111  167.481947  \n",
       "4899   91.722778  129.732996  \n",
       "5043   96.366389  176.479084  \n",
       "4936  113.003889  180.135948  \n",
       "4965  122.616389  197.316049  \n",
       "4950  134.403611  192.741809  \n",
       "5329   35.776111   57.415677  \n",
       "5363   38.179722   68.542955  \n",
       "5328   40.685833   36.366223  \n",
       "5330   47.644444   24.367584  "
      ]
     },
     "execution_count": 1405,
     "metadata": {},
     "output_type": "execute_result"
    }
   ],
   "source": [
    "show_df[['route','vehicle_no','toll_both','time_taken','predicted','ist_timestamp','predicted_ist_timestamp']]"
   ]
  },
  {
   "cell_type": "code",
   "execution_count": 1380,
   "metadata": {},
   "outputs": [
    {
     "data": {
      "text/plain": [
       "4      294\n",
       "3      289\n",
       "6      284\n",
       "8      282\n",
       "2      282\n",
       "5      282\n",
       "1      252\n",
       "11     224\n",
       "120    190\n",
       "125    188\n",
       "117    185\n",
       "111    182\n",
       "108    151\n",
       "118    117\n",
       "7       96\n",
       "82      94\n",
       "46      92\n",
       "103     91\n",
       "109     91\n",
       "104     90\n",
       "121     89\n",
       "122     87\n",
       "126     85\n",
       "97      80\n",
       "50      79\n",
       "88      79\n",
       "55      77\n",
       "34      77\n",
       "71      76\n",
       "62      73\n",
       "      ... \n",
       "23       3\n",
       "133      3\n",
       "36       2\n",
       "116      2\n",
       "40       2\n",
       "60       2\n",
       "30       2\n",
       "25       2\n",
       "86       2\n",
       "79       2\n",
       "66       2\n",
       "91       2\n",
       "72       2\n",
       "44       2\n",
       "119      1\n",
       "12       1\n",
       "28       1\n",
       "129      1\n",
       "14       1\n",
       "67       1\n",
       "112      1\n",
       "22       1\n",
       "70       1\n",
       "61       1\n",
       "131      1\n",
       "73       1\n",
       "130      1\n",
       "102      1\n",
       "113      1\n",
       "21       1\n",
       "Name: toll_both, Length: 137, dtype: int64"
      ]
     },
     "execution_count": 1380,
     "metadata": {},
     "output_type": "execute_result"
    }
   ],
   "source": [
    "new_toll_time['toll_both'].value_counts()"
   ]
  },
  {
   "cell_type": "code",
   "execution_count": null,
   "metadata": {},
   "outputs": [],
   "source": []
  },
  {
   "cell_type": "code",
   "execution_count": null,
   "metadata": {},
   "outputs": [],
   "source": []
  }
 ],
 "metadata": {
  "kernelspec": {
   "display_name": "Python 2",
   "language": "python",
   "name": "python2"
  },
  "language_info": {
   "codemirror_mode": {
    "name": "ipython",
    "version": 2
   },
   "file_extension": ".py",
   "mimetype": "text/x-python",
   "name": "python",
   "nbconvert_exporter": "python",
   "pygments_lexer": "ipython2",
   "version": "2.7.12"
  }
 },
 "nbformat": 4,
 "nbformat_minor": 2
}
